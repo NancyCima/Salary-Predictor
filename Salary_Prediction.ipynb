{
  "cells": [
    {
      "cell_type": "markdown",
      "metadata": {
        "id": "_RVRiZHOrgg6"
      },
      "source": [
        "# Technical Challenge: Salary Prediction"
      ]
    },
    {
      "cell_type": "markdown",
      "metadata": {
        "id": "RKql5-_xuKLF"
      },
      "source": [
        "# Introduction"
      ]
    },
    {
      "cell_type": "markdown",
      "metadata": {
        "id": "SK1M5kCkrhCS"
      },
      "source": [
        "\n",
        "Develop a predictive model (using Python) to forecast an individual's salary based on a given dataset.\n",
        "\n",
        "• Context: the data corresponds to a public dataset, and it includes information about their age,\n",
        "gender, education level, job title, years of experience and description. Using this data, it should\n",
        "be possible to predict (approximately) an employee's salary based on these variables.\n",
        "\n",
        "You will be given a CSV file containing the data, and you should write the code to read from that file.\n",
        "\n",
        "Moreover, you should design and implement a predictive model to forecast salaries, including all\n",
        "necessary preprocessing steps, feature engineering, and model evaluation logic.\n",
        "\n",
        "The model should be\n",
        "trained and tested on the provided dataset.\n",
        "\n",
        "The repo's README should contain relevant context and\n",
        "necessary information to understand the predictive model and the steps taken during the development\n",
        "process.\n",
        "\n",
        "Mandatory Features:\n",
        "• Load and preprocess the dataset using Pandas / Polars or similar tools.\n",
        "\n",
        "• Perform feature transformations on the input dataset to derive useful numerical features from the model.\n",
        "\n",
        "• Develop a predictive model using a machine learning library such as Scikit-learn or TensorFlow/Keras.\n",
        "\n",
        "• Evaluate the model's performance using appropriate metrics. Explaining why that metric was useful.\n",
        "\n",
        "• Compare the model results against a sensible baseline – e.g. a DummyRegressor\n",
        "\n",
        "• All the metrics should be reported as intervals, not as single estimates. See references on how to calculate confidence intervals for ML.\n",
        "\n",
        "• Structure the code in modules . See the reference to know what is expected.\n",
        "\n",
        "• Present the final result in a Jupyter Notebook which should:\n",
        "o Have a Table of Contents at the top.\n",
        "o Contain explanatory text in markdown, properly formatted.\n",
        "o Have no big blocks of code, instead it should import the functionality from the modules and only have initial configuration.\n",
        "o Include illustrations or images showing the results.\n",
        "\n",
        "Optional Features (include at least 1):\n",
        "1. Explain the assumptions of the model used and validate if they are met.\n",
        "2. Perform hyperparameter tuning to optimize the model's performance – e.g. Optuna.\n",
        "3. Validate the model using cross-validation techniques.\n",
        "4. Visualize the relationships between features and the target variable.\n",
        "5. Use an interpretation tool to explain the contribution of each feature - e.g. SHAP\n",
        "6. Use a more advanced model such as Random Forest, or Neural Networks.\n",
        "7. Use multiple models and combine their outputs (e.g. Bagging, Boosting, Voting).\n",
        "8. Lock your dependencies - e.g., using pipenv, uv or pdm.\n",
        "9. Create a simple REST API for salary predictions - e.g. FastAPI.\n",
        "10. Create a simple UI for salary predictions - e.g. Streamlit, Gradio, Taipy.\n",
        "11. Save model predictions in a SQL Database - e.g. SQLite.\n",
        "12. Use an Experiment Tracking tool - e.g. Weights and Biases, Neptune, MLFlow, Tensorboard.\n",
        "13. Implement a Drift Detection technique and simulate a failure - e.g. Frouros.\n",
        "14. Use version control for datasets - e.g. DVC.\n",
        "15. Create anonymized datasets based on the given dataset - e.g. Synthetic Data Vault (SDV).\n",
        "16. Use an interactive data visualization tool - e.g. Altair.\n",
        "17. Add Unit tests for the project – e.g. Pytest.\n",
        "18. Use typed dataframes – e.g. Pandera\n",
        "19. Use calibration techniques in the model validation.\n",
        "\n",
        "Evaluation criteria:\n",
        "The project will be evaluated in five dimensions:\n",
        "\n",
        "• Model design: how the predictive model is structured, the choice of features, model parameters, etc.\n",
        "\n",
        "• Best practices: a code review to evaluate best practices, patterns, and overall design.\n",
        "\n",
        "• Complexity: the level of optional features implemented and how they were incorporated into the development process.\n",
        "\n",
        "• Organization: the most important aspect is to have something functional by the deadline; the\n",
        "candidate should be able to organize themselves and deliver something valuable.\n",
        "\n",
        "• Innovation: new features outside of what has been asked are a plus."
      ]
    },
    {
      "cell_type": "markdown",
      "metadata": {
        "id": "cWgybZyczPSQ"
      },
      "source": [
        "Import necessary libraries"
      ]
    },
    {
      "cell_type": "code",
      "execution_count": 56,
      "metadata": {
        "colab": {
          "base_uri": "https://localhost:8080/"
        },
        "id": "p3ISzk2cC4rE",
        "outputId": "47c53b53-ce9a-4724-ba78-719a7c79efcc"
      },
      "outputs": [
        {
          "output_type": "stream",
          "name": "stdout",
          "text": [
            "Drive already mounted at /content/drive; to attempt to forcibly remount, call drive.mount(\"/content/drive\", force_remount=True).\n"
          ]
        }
      ],
      "source": [
        "from google.colab import drive\n",
        "drive.mount('/content/drive')"
      ]
    },
    {
      "cell_type": "code",
      "execution_count": 57,
      "metadata": {
        "colab": {
          "base_uri": "https://localhost:8080/"
        },
        "id": "iYF7o35oDgiu",
        "outputId": "7314b330-8740-4856-9ed2-ccb274904945"
      },
      "outputs": [
        {
          "output_type": "stream",
          "name": "stdout",
          "text": [
            "Requirement already satisfied: optuna in /usr/local/lib/python3.11/dist-packages (4.3.0)\n",
            "Requirement already satisfied: alembic>=1.5.0 in /usr/local/lib/python3.11/dist-packages (from optuna) (1.15.2)\n",
            "Requirement already satisfied: colorlog in /usr/local/lib/python3.11/dist-packages (from optuna) (6.9.0)\n",
            "Requirement already satisfied: numpy in /usr/local/lib/python3.11/dist-packages (from optuna) (2.0.2)\n",
            "Requirement already satisfied: packaging>=20.0 in /usr/local/lib/python3.11/dist-packages (from optuna) (24.2)\n",
            "Requirement already satisfied: sqlalchemy>=1.4.2 in /usr/local/lib/python3.11/dist-packages (from optuna) (2.0.40)\n",
            "Requirement already satisfied: tqdm in /usr/local/lib/python3.11/dist-packages (from optuna) (4.67.1)\n",
            "Requirement already satisfied: PyYAML in /usr/local/lib/python3.11/dist-packages (from optuna) (6.0.2)\n",
            "Requirement already satisfied: Mako in /usr/lib/python3/dist-packages (from alembic>=1.5.0->optuna) (1.1.3)\n",
            "Requirement already satisfied: typing-extensions>=4.12 in /usr/local/lib/python3.11/dist-packages (from alembic>=1.5.0->optuna) (4.13.2)\n",
            "Requirement already satisfied: greenlet>=1 in /usr/local/lib/python3.11/dist-packages (from sqlalchemy>=1.4.2->optuna) (3.2.0)\n"
          ]
        }
      ],
      "source": [
        "!pip install optuna"
      ]
    },
    {
      "cell_type": "code",
      "execution_count": 58,
      "metadata": {
        "id": "27oAOv7Ez5jD"
      },
      "outputs": [],
      "source": [
        "import sys\n",
        "sys.path.append('/content/drive/MyDrive/Predictor de Salarios/')\n",
        "\n",
        "# Data processing libraries\n",
        "import pandas as pd\n",
        "import numpy as np\n",
        "\n",
        "# Visualization libraries\n",
        "import matplotlib.pyplot as plt\n",
        "import seaborn as sns\n",
        "import plotly.express as px\n",
        "import missingno as msno\n",
        "\n",
        "# Scientific computing & ML libraries\n",
        "from scipy.stats import ttest_ind\n",
        "from sklearn.model_selection import train_test_split\n",
        "from sentence_transformers import SentenceTransformer\n",
        "\n",
        "# Local application imports\n",
        "from src.utils import (load_data,\n",
        "                      missing_data_table,\n",
        "                      percentage_rows_missing_data)\n",
        "from src.visualization import boxplots, scatterplot, create_plots, plot_shap_feature_importance\n",
        "from src.preprocessing import merge_datasets, build_pipeline\n",
        "from src.model import train_model\n",
        "from src.evaluate import (bootstrap_metrics,\n",
        "                         evaluate_model_with_baseline)"
      ]
    },
    {
      "cell_type": "markdown",
      "metadata": {
        "id": "fxelHazJBZ8i"
      },
      "source": [
        "# Data Loading"
      ]
    },
    {
      "cell_type": "markdown",
      "metadata": {
        "id": "pLy8HO1Q0Ghr"
      },
      "source": [
        "Load datasets"
      ]
    },
    {
      "cell_type": "code",
      "execution_count": 59,
      "metadata": {
        "id": "fm3VpBzH52Py"
      },
      "outputs": [],
      "source": [
        "descriptions = load_data('/content/drive/MyDrive/Predictor de Salarios/data/data/descriptions.csv')\n",
        "people = load_data('/content/drive/MyDrive/Predictor de Salarios/data/data/people.csv')\n",
        "salaries = load_data('/content/drive/MyDrive/Predictor de Salarios/data/data/salary.csv')"
      ]
    },
    {
      "cell_type": "markdown",
      "metadata": {
        "id": "uJUMO5dhr4Aj"
      },
      "source": [
        "# EDA"
      ]
    },
    {
      "cell_type": "markdown",
      "metadata": {
        "id": "kkjj8BY6zxFL"
      },
      "source": [
        "Perform exploratory data analysis"
      ]
    },
    {
      "cell_type": "markdown",
      "metadata": {
        "id": "lsDPGRik5eet"
      },
      "source": [
        "## Descriptive Analysis"
      ]
    },
    {
      "cell_type": "code",
      "execution_count": 60,
      "metadata": {
        "colab": {
          "base_uri": "https://localhost:8080/",
          "height": 206
        },
        "id": "OuBOFRL46kOK",
        "outputId": "620666a8-7028-43a0-f032-8eb9a91fe80b"
      },
      "outputs": [
        {
          "output_type": "execute_result",
          "data": {
            "text/plain": [
              "   id                                        Description\n",
              "0   0  I am a 32-year-old male working as a Software ...\n",
              "1   1  I am a 28-year-old data analyst with a Master'...\n",
              "2   2  I am a 45-year-old Senior Manager with a PhD a...\n",
              "3   3  I am a 36-year-old female Sales Associate with...\n",
              "4   4  I am a 52-year-old male with over two decades ..."
            ],
            "text/html": [
              "\n",
              "  <div id=\"df-338fc7b4-c508-4e5b-9461-4d6dffd60dab\" class=\"colab-df-container\">\n",
              "    <div>\n",
              "<style scoped>\n",
              "    .dataframe tbody tr th:only-of-type {\n",
              "        vertical-align: middle;\n",
              "    }\n",
              "\n",
              "    .dataframe tbody tr th {\n",
              "        vertical-align: top;\n",
              "    }\n",
              "\n",
              "    .dataframe thead th {\n",
              "        text-align: right;\n",
              "    }\n",
              "</style>\n",
              "<table border=\"1\" class=\"dataframe\">\n",
              "  <thead>\n",
              "    <tr style=\"text-align: right;\">\n",
              "      <th></th>\n",
              "      <th>id</th>\n",
              "      <th>Description</th>\n",
              "    </tr>\n",
              "  </thead>\n",
              "  <tbody>\n",
              "    <tr>\n",
              "      <th>0</th>\n",
              "      <td>0</td>\n",
              "      <td>I am a 32-year-old male working as a Software ...</td>\n",
              "    </tr>\n",
              "    <tr>\n",
              "      <th>1</th>\n",
              "      <td>1</td>\n",
              "      <td>I am a 28-year-old data analyst with a Master'...</td>\n",
              "    </tr>\n",
              "    <tr>\n",
              "      <th>2</th>\n",
              "      <td>2</td>\n",
              "      <td>I am a 45-year-old Senior Manager with a PhD a...</td>\n",
              "    </tr>\n",
              "    <tr>\n",
              "      <th>3</th>\n",
              "      <td>3</td>\n",
              "      <td>I am a 36-year-old female Sales Associate with...</td>\n",
              "    </tr>\n",
              "    <tr>\n",
              "      <th>4</th>\n",
              "      <td>4</td>\n",
              "      <td>I am a 52-year-old male with over two decades ...</td>\n",
              "    </tr>\n",
              "  </tbody>\n",
              "</table>\n",
              "</div>\n",
              "    <div class=\"colab-df-buttons\">\n",
              "\n",
              "  <div class=\"colab-df-container\">\n",
              "    <button class=\"colab-df-convert\" onclick=\"convertToInteractive('df-338fc7b4-c508-4e5b-9461-4d6dffd60dab')\"\n",
              "            title=\"Convert this dataframe to an interactive table.\"\n",
              "            style=\"display:none;\">\n",
              "\n",
              "  <svg xmlns=\"http://www.w3.org/2000/svg\" height=\"24px\" viewBox=\"0 -960 960 960\">\n",
              "    <path d=\"M120-120v-720h720v720H120Zm60-500h600v-160H180v160Zm220 220h160v-160H400v160Zm0 220h160v-160H400v160ZM180-400h160v-160H180v160Zm440 0h160v-160H620v160ZM180-180h160v-160H180v160Zm440 0h160v-160H620v160Z\"/>\n",
              "  </svg>\n",
              "    </button>\n",
              "\n",
              "  <style>\n",
              "    .colab-df-container {\n",
              "      display:flex;\n",
              "      gap: 12px;\n",
              "    }\n",
              "\n",
              "    .colab-df-convert {\n",
              "      background-color: #E8F0FE;\n",
              "      border: none;\n",
              "      border-radius: 50%;\n",
              "      cursor: pointer;\n",
              "      display: none;\n",
              "      fill: #1967D2;\n",
              "      height: 32px;\n",
              "      padding: 0 0 0 0;\n",
              "      width: 32px;\n",
              "    }\n",
              "\n",
              "    .colab-df-convert:hover {\n",
              "      background-color: #E2EBFA;\n",
              "      box-shadow: 0px 1px 2px rgba(60, 64, 67, 0.3), 0px 1px 3px 1px rgba(60, 64, 67, 0.15);\n",
              "      fill: #174EA6;\n",
              "    }\n",
              "\n",
              "    .colab-df-buttons div {\n",
              "      margin-bottom: 4px;\n",
              "    }\n",
              "\n",
              "    [theme=dark] .colab-df-convert {\n",
              "      background-color: #3B4455;\n",
              "      fill: #D2E3FC;\n",
              "    }\n",
              "\n",
              "    [theme=dark] .colab-df-convert:hover {\n",
              "      background-color: #434B5C;\n",
              "      box-shadow: 0px 1px 3px 1px rgba(0, 0, 0, 0.15);\n",
              "      filter: drop-shadow(0px 1px 2px rgba(0, 0, 0, 0.3));\n",
              "      fill: #FFFFFF;\n",
              "    }\n",
              "  </style>\n",
              "\n",
              "    <script>\n",
              "      const buttonEl =\n",
              "        document.querySelector('#df-338fc7b4-c508-4e5b-9461-4d6dffd60dab button.colab-df-convert');\n",
              "      buttonEl.style.display =\n",
              "        google.colab.kernel.accessAllowed ? 'block' : 'none';\n",
              "\n",
              "      async function convertToInteractive(key) {\n",
              "        const element = document.querySelector('#df-338fc7b4-c508-4e5b-9461-4d6dffd60dab');\n",
              "        const dataTable =\n",
              "          await google.colab.kernel.invokeFunction('convertToInteractive',\n",
              "                                                    [key], {});\n",
              "        if (!dataTable) return;\n",
              "\n",
              "        const docLinkHtml = 'Like what you see? Visit the ' +\n",
              "          '<a target=\"_blank\" href=https://colab.research.google.com/notebooks/data_table.ipynb>data table notebook</a>'\n",
              "          + ' to learn more about interactive tables.';\n",
              "        element.innerHTML = '';\n",
              "        dataTable['output_type'] = 'display_data';\n",
              "        await google.colab.output.renderOutput(dataTable, element);\n",
              "        const docLink = document.createElement('div');\n",
              "        docLink.innerHTML = docLinkHtml;\n",
              "        element.appendChild(docLink);\n",
              "      }\n",
              "    </script>\n",
              "  </div>\n",
              "\n",
              "\n",
              "<div id=\"df-e7f59a8c-d03d-4634-82c5-ce1b77a6c46d\">\n",
              "  <button class=\"colab-df-quickchart\" onclick=\"quickchart('df-e7f59a8c-d03d-4634-82c5-ce1b77a6c46d')\"\n",
              "            title=\"Suggest charts\"\n",
              "            style=\"display:none;\">\n",
              "\n",
              "<svg xmlns=\"http://www.w3.org/2000/svg\" height=\"24px\"viewBox=\"0 0 24 24\"\n",
              "     width=\"24px\">\n",
              "    <g>\n",
              "        <path d=\"M19 3H5c-1.1 0-2 .9-2 2v14c0 1.1.9 2 2 2h14c1.1 0 2-.9 2-2V5c0-1.1-.9-2-2-2zM9 17H7v-7h2v7zm4 0h-2V7h2v10zm4 0h-2v-4h2v4z\"/>\n",
              "    </g>\n",
              "</svg>\n",
              "  </button>\n",
              "\n",
              "<style>\n",
              "  .colab-df-quickchart {\n",
              "      --bg-color: #E8F0FE;\n",
              "      --fill-color: #1967D2;\n",
              "      --hover-bg-color: #E2EBFA;\n",
              "      --hover-fill-color: #174EA6;\n",
              "      --disabled-fill-color: #AAA;\n",
              "      --disabled-bg-color: #DDD;\n",
              "  }\n",
              "\n",
              "  [theme=dark] .colab-df-quickchart {\n",
              "      --bg-color: #3B4455;\n",
              "      --fill-color: #D2E3FC;\n",
              "      --hover-bg-color: #434B5C;\n",
              "      --hover-fill-color: #FFFFFF;\n",
              "      --disabled-bg-color: #3B4455;\n",
              "      --disabled-fill-color: #666;\n",
              "  }\n",
              "\n",
              "  .colab-df-quickchart {\n",
              "    background-color: var(--bg-color);\n",
              "    border: none;\n",
              "    border-radius: 50%;\n",
              "    cursor: pointer;\n",
              "    display: none;\n",
              "    fill: var(--fill-color);\n",
              "    height: 32px;\n",
              "    padding: 0;\n",
              "    width: 32px;\n",
              "  }\n",
              "\n",
              "  .colab-df-quickchart:hover {\n",
              "    background-color: var(--hover-bg-color);\n",
              "    box-shadow: 0 1px 2px rgba(60, 64, 67, 0.3), 0 1px 3px 1px rgba(60, 64, 67, 0.15);\n",
              "    fill: var(--button-hover-fill-color);\n",
              "  }\n",
              "\n",
              "  .colab-df-quickchart-complete:disabled,\n",
              "  .colab-df-quickchart-complete:disabled:hover {\n",
              "    background-color: var(--disabled-bg-color);\n",
              "    fill: var(--disabled-fill-color);\n",
              "    box-shadow: none;\n",
              "  }\n",
              "\n",
              "  .colab-df-spinner {\n",
              "    border: 2px solid var(--fill-color);\n",
              "    border-color: transparent;\n",
              "    border-bottom-color: var(--fill-color);\n",
              "    animation:\n",
              "      spin 1s steps(1) infinite;\n",
              "  }\n",
              "\n",
              "  @keyframes spin {\n",
              "    0% {\n",
              "      border-color: transparent;\n",
              "      border-bottom-color: var(--fill-color);\n",
              "      border-left-color: var(--fill-color);\n",
              "    }\n",
              "    20% {\n",
              "      border-color: transparent;\n",
              "      border-left-color: var(--fill-color);\n",
              "      border-top-color: var(--fill-color);\n",
              "    }\n",
              "    30% {\n",
              "      border-color: transparent;\n",
              "      border-left-color: var(--fill-color);\n",
              "      border-top-color: var(--fill-color);\n",
              "      border-right-color: var(--fill-color);\n",
              "    }\n",
              "    40% {\n",
              "      border-color: transparent;\n",
              "      border-right-color: var(--fill-color);\n",
              "      border-top-color: var(--fill-color);\n",
              "    }\n",
              "    60% {\n",
              "      border-color: transparent;\n",
              "      border-right-color: var(--fill-color);\n",
              "    }\n",
              "    80% {\n",
              "      border-color: transparent;\n",
              "      border-right-color: var(--fill-color);\n",
              "      border-bottom-color: var(--fill-color);\n",
              "    }\n",
              "    90% {\n",
              "      border-color: transparent;\n",
              "      border-bottom-color: var(--fill-color);\n",
              "    }\n",
              "  }\n",
              "</style>\n",
              "\n",
              "  <script>\n",
              "    async function quickchart(key) {\n",
              "      const quickchartButtonEl =\n",
              "        document.querySelector('#' + key + ' button');\n",
              "      quickchartButtonEl.disabled = true;  // To prevent multiple clicks.\n",
              "      quickchartButtonEl.classList.add('colab-df-spinner');\n",
              "      try {\n",
              "        const charts = await google.colab.kernel.invokeFunction(\n",
              "            'suggestCharts', [key], {});\n",
              "      } catch (error) {\n",
              "        console.error('Error during call to suggestCharts:', error);\n",
              "      }\n",
              "      quickchartButtonEl.classList.remove('colab-df-spinner');\n",
              "      quickchartButtonEl.classList.add('colab-df-quickchart-complete');\n",
              "    }\n",
              "    (() => {\n",
              "      let quickchartButtonEl =\n",
              "        document.querySelector('#df-e7f59a8c-d03d-4634-82c5-ce1b77a6c46d button');\n",
              "      quickchartButtonEl.style.display =\n",
              "        google.colab.kernel.accessAllowed ? 'block' : 'none';\n",
              "    })();\n",
              "  </script>\n",
              "</div>\n",
              "\n",
              "    </div>\n",
              "  </div>\n"
            ],
            "application/vnd.google.colaboratory.intrinsic+json": {
              "type": "dataframe",
              "variable_name": "descriptions",
              "summary": "{\n  \"name\": \"descriptions\",\n  \"rows\": 375,\n  \"fields\": [\n    {\n      \"column\": \"id\",\n      \"properties\": {\n        \"dtype\": \"number\",\n        \"std\": 108,\n        \"min\": 0,\n        \"max\": 374,\n        \"num_unique_values\": 375,\n        \"samples\": [\n          167,\n          33,\n          15\n        ],\n        \"semantic_type\": \"\",\n        \"description\": \"\"\n      }\n    },\n    {\n      \"column\": \"Description\",\n      \"properties\": {\n        \"dtype\": \"string\",\n        \"num_unique_values\": 372,\n        \"samples\": [\n          \"I am a 31-year-old female working as a Junior Business Development Associate with a Bachelor's degree. With three years of experience, I have developed skills in market research, client relationship management, and strategic planning. My role involves identifying new business opportunities, building and maintaining client relationships, and supporting growth strategy development and implementation. I am passionate about helping businesses expand, analyzing market trends, and identifying growth areas. I am a proactive and dedicated professional, committed to delivering high-quality work and continuously improving my skills to contribute effectively to my team and organization.\",\n          \"I am a 39-year-old Marketing Specialist with a Bachelor's degree and 10 years of experience in the field. My expertise spans digital marketing campaigns, social media management, market research, and brand development. I excel at crafting innovative, data-driven strategies that connect with target audiences. My role requires a blend of creativity and analytical thinking, and I stay updated with the latest marketing trends and technologies. I am passionate about creating compelling content and campaigns, and I am always eager to take on new challenges and opportunities to grow in the dynamic world of marketing.\",\n          \"I am a 44-year-old male with a Bachelor's degree and 16 years of experience as an Operations Manager. My expertise lies in managing and optimizing operational processes to ensure efficiency and productivity. I oversee daily operations, streamline processes, and implement strategies to enhance performance. I thrive on making a tangible impact by identifying areas for improvement and implementing effective solutions. Strong leadership and effective communication are key aspects of my role, fostering a collaborative and motivated team environment. I am committed to staying updated with industry trends to bring the most value to my organization.\"\n        ],\n        \"semantic_type\": \"\",\n        \"description\": \"\"\n      }\n    }\n  ]\n}"
            }
          },
          "metadata": {},
          "execution_count": 60
        }
      ],
      "source": [
        "descriptions.head()"
      ]
    },
    {
      "cell_type": "code",
      "execution_count": 61,
      "metadata": {
        "colab": {
          "base_uri": "https://localhost:8080/"
        },
        "id": "7cNYxK216q-N",
        "outputId": "69bb0afc-188f-42fe-9727-f3d69388a7d0"
      },
      "outputs": [
        {
          "output_type": "stream",
          "name": "stdout",
          "text": [
            "<class 'pandas.core.frame.DataFrame'>\n",
            "RangeIndex: 375 entries, 0 to 374\n",
            "Data columns (total 2 columns):\n",
            " #   Column       Non-Null Count  Dtype \n",
            "---  ------       --------------  ----- \n",
            " 0   id           375 non-null    int64 \n",
            " 1   Description  372 non-null    object\n",
            "dtypes: int64(1), object(1)\n",
            "memory usage: 6.0+ KB\n"
          ]
        }
      ],
      "source": [
        "descriptions.info()"
      ]
    },
    {
      "cell_type": "markdown",
      "metadata": {
        "id": "ghvGIqp00V78"
      },
      "source": [
        "This dataset contains personal summaries of 375 individuals. Each entry includes a unique ID and a short, free-text description. The descriptions usually mention the person's age, gender, job title, level of education, and sometimes their work experience. For example, a typical entry might read: \"I am a 28-year-old data analyst with a Master's degree in Economics.\"\n",
        "\n",
        "There are a few missing descriptions—specifically, 3 out of the 375 entries don't have any text in the description field."
      ]
    },
    {
      "cell_type": "code",
      "execution_count": 62,
      "metadata": {
        "colab": {
          "base_uri": "https://localhost:8080/",
          "height": 206
        },
        "id": "2Lgq-kXk66uz",
        "outputId": "36e1a268-2305-4e9a-dcd2-0d856c177b0a"
      },
      "outputs": [
        {
          "output_type": "execute_result",
          "data": {
            "text/plain": [
              "   id   Age  Gender Education Level          Job Title  Years of Experience\n",
              "0   0  32.0    Male      Bachelor's  Software Engineer                  5.0\n",
              "1   1  28.0  Female        Master's       Data Analyst                  3.0\n",
              "2   2  45.0    Male             PhD     Senior Manager                 15.0\n",
              "3   3  36.0  Female      Bachelor's    Sales Associate                  7.0\n",
              "4   4  52.0    Male        Master's           Director                 20.0"
            ],
            "text/html": [
              "\n",
              "  <div id=\"df-14080b24-4ff4-492b-93a6-d9120dd58274\" class=\"colab-df-container\">\n",
              "    <div>\n",
              "<style scoped>\n",
              "    .dataframe tbody tr th:only-of-type {\n",
              "        vertical-align: middle;\n",
              "    }\n",
              "\n",
              "    .dataframe tbody tr th {\n",
              "        vertical-align: top;\n",
              "    }\n",
              "\n",
              "    .dataframe thead th {\n",
              "        text-align: right;\n",
              "    }\n",
              "</style>\n",
              "<table border=\"1\" class=\"dataframe\">\n",
              "  <thead>\n",
              "    <tr style=\"text-align: right;\">\n",
              "      <th></th>\n",
              "      <th>id</th>\n",
              "      <th>Age</th>\n",
              "      <th>Gender</th>\n",
              "      <th>Education Level</th>\n",
              "      <th>Job Title</th>\n",
              "      <th>Years of Experience</th>\n",
              "    </tr>\n",
              "  </thead>\n",
              "  <tbody>\n",
              "    <tr>\n",
              "      <th>0</th>\n",
              "      <td>0</td>\n",
              "      <td>32.0</td>\n",
              "      <td>Male</td>\n",
              "      <td>Bachelor's</td>\n",
              "      <td>Software Engineer</td>\n",
              "      <td>5.0</td>\n",
              "    </tr>\n",
              "    <tr>\n",
              "      <th>1</th>\n",
              "      <td>1</td>\n",
              "      <td>28.0</td>\n",
              "      <td>Female</td>\n",
              "      <td>Master's</td>\n",
              "      <td>Data Analyst</td>\n",
              "      <td>3.0</td>\n",
              "    </tr>\n",
              "    <tr>\n",
              "      <th>2</th>\n",
              "      <td>2</td>\n",
              "      <td>45.0</td>\n",
              "      <td>Male</td>\n",
              "      <td>PhD</td>\n",
              "      <td>Senior Manager</td>\n",
              "      <td>15.0</td>\n",
              "    </tr>\n",
              "    <tr>\n",
              "      <th>3</th>\n",
              "      <td>3</td>\n",
              "      <td>36.0</td>\n",
              "      <td>Female</td>\n",
              "      <td>Bachelor's</td>\n",
              "      <td>Sales Associate</td>\n",
              "      <td>7.0</td>\n",
              "    </tr>\n",
              "    <tr>\n",
              "      <th>4</th>\n",
              "      <td>4</td>\n",
              "      <td>52.0</td>\n",
              "      <td>Male</td>\n",
              "      <td>Master's</td>\n",
              "      <td>Director</td>\n",
              "      <td>20.0</td>\n",
              "    </tr>\n",
              "  </tbody>\n",
              "</table>\n",
              "</div>\n",
              "    <div class=\"colab-df-buttons\">\n",
              "\n",
              "  <div class=\"colab-df-container\">\n",
              "    <button class=\"colab-df-convert\" onclick=\"convertToInteractive('df-14080b24-4ff4-492b-93a6-d9120dd58274')\"\n",
              "            title=\"Convert this dataframe to an interactive table.\"\n",
              "            style=\"display:none;\">\n",
              "\n",
              "  <svg xmlns=\"http://www.w3.org/2000/svg\" height=\"24px\" viewBox=\"0 -960 960 960\">\n",
              "    <path d=\"M120-120v-720h720v720H120Zm60-500h600v-160H180v160Zm220 220h160v-160H400v160Zm0 220h160v-160H400v160ZM180-400h160v-160H180v160Zm440 0h160v-160H620v160ZM180-180h160v-160H180v160Zm440 0h160v-160H620v160Z\"/>\n",
              "  </svg>\n",
              "    </button>\n",
              "\n",
              "  <style>\n",
              "    .colab-df-container {\n",
              "      display:flex;\n",
              "      gap: 12px;\n",
              "    }\n",
              "\n",
              "    .colab-df-convert {\n",
              "      background-color: #E8F0FE;\n",
              "      border: none;\n",
              "      border-radius: 50%;\n",
              "      cursor: pointer;\n",
              "      display: none;\n",
              "      fill: #1967D2;\n",
              "      height: 32px;\n",
              "      padding: 0 0 0 0;\n",
              "      width: 32px;\n",
              "    }\n",
              "\n",
              "    .colab-df-convert:hover {\n",
              "      background-color: #E2EBFA;\n",
              "      box-shadow: 0px 1px 2px rgba(60, 64, 67, 0.3), 0px 1px 3px 1px rgba(60, 64, 67, 0.15);\n",
              "      fill: #174EA6;\n",
              "    }\n",
              "\n",
              "    .colab-df-buttons div {\n",
              "      margin-bottom: 4px;\n",
              "    }\n",
              "\n",
              "    [theme=dark] .colab-df-convert {\n",
              "      background-color: #3B4455;\n",
              "      fill: #D2E3FC;\n",
              "    }\n",
              "\n",
              "    [theme=dark] .colab-df-convert:hover {\n",
              "      background-color: #434B5C;\n",
              "      box-shadow: 0px 1px 3px 1px rgba(0, 0, 0, 0.15);\n",
              "      filter: drop-shadow(0px 1px 2px rgba(0, 0, 0, 0.3));\n",
              "      fill: #FFFFFF;\n",
              "    }\n",
              "  </style>\n",
              "\n",
              "    <script>\n",
              "      const buttonEl =\n",
              "        document.querySelector('#df-14080b24-4ff4-492b-93a6-d9120dd58274 button.colab-df-convert');\n",
              "      buttonEl.style.display =\n",
              "        google.colab.kernel.accessAllowed ? 'block' : 'none';\n",
              "\n",
              "      async function convertToInteractive(key) {\n",
              "        const element = document.querySelector('#df-14080b24-4ff4-492b-93a6-d9120dd58274');\n",
              "        const dataTable =\n",
              "          await google.colab.kernel.invokeFunction('convertToInteractive',\n",
              "                                                    [key], {});\n",
              "        if (!dataTable) return;\n",
              "\n",
              "        const docLinkHtml = 'Like what you see? Visit the ' +\n",
              "          '<a target=\"_blank\" href=https://colab.research.google.com/notebooks/data_table.ipynb>data table notebook</a>'\n",
              "          + ' to learn more about interactive tables.';\n",
              "        element.innerHTML = '';\n",
              "        dataTable['output_type'] = 'display_data';\n",
              "        await google.colab.output.renderOutput(dataTable, element);\n",
              "        const docLink = document.createElement('div');\n",
              "        docLink.innerHTML = docLinkHtml;\n",
              "        element.appendChild(docLink);\n",
              "      }\n",
              "    </script>\n",
              "  </div>\n",
              "\n",
              "\n",
              "<div id=\"df-70f1a376-35d2-457a-9010-2096b2f8dd70\">\n",
              "  <button class=\"colab-df-quickchart\" onclick=\"quickchart('df-70f1a376-35d2-457a-9010-2096b2f8dd70')\"\n",
              "            title=\"Suggest charts\"\n",
              "            style=\"display:none;\">\n",
              "\n",
              "<svg xmlns=\"http://www.w3.org/2000/svg\" height=\"24px\"viewBox=\"0 0 24 24\"\n",
              "     width=\"24px\">\n",
              "    <g>\n",
              "        <path d=\"M19 3H5c-1.1 0-2 .9-2 2v14c0 1.1.9 2 2 2h14c1.1 0 2-.9 2-2V5c0-1.1-.9-2-2-2zM9 17H7v-7h2v7zm4 0h-2V7h2v10zm4 0h-2v-4h2v4z\"/>\n",
              "    </g>\n",
              "</svg>\n",
              "  </button>\n",
              "\n",
              "<style>\n",
              "  .colab-df-quickchart {\n",
              "      --bg-color: #E8F0FE;\n",
              "      --fill-color: #1967D2;\n",
              "      --hover-bg-color: #E2EBFA;\n",
              "      --hover-fill-color: #174EA6;\n",
              "      --disabled-fill-color: #AAA;\n",
              "      --disabled-bg-color: #DDD;\n",
              "  }\n",
              "\n",
              "  [theme=dark] .colab-df-quickchart {\n",
              "      --bg-color: #3B4455;\n",
              "      --fill-color: #D2E3FC;\n",
              "      --hover-bg-color: #434B5C;\n",
              "      --hover-fill-color: #FFFFFF;\n",
              "      --disabled-bg-color: #3B4455;\n",
              "      --disabled-fill-color: #666;\n",
              "  }\n",
              "\n",
              "  .colab-df-quickchart {\n",
              "    background-color: var(--bg-color);\n",
              "    border: none;\n",
              "    border-radius: 50%;\n",
              "    cursor: pointer;\n",
              "    display: none;\n",
              "    fill: var(--fill-color);\n",
              "    height: 32px;\n",
              "    padding: 0;\n",
              "    width: 32px;\n",
              "  }\n",
              "\n",
              "  .colab-df-quickchart:hover {\n",
              "    background-color: var(--hover-bg-color);\n",
              "    box-shadow: 0 1px 2px rgba(60, 64, 67, 0.3), 0 1px 3px 1px rgba(60, 64, 67, 0.15);\n",
              "    fill: var(--button-hover-fill-color);\n",
              "  }\n",
              "\n",
              "  .colab-df-quickchart-complete:disabled,\n",
              "  .colab-df-quickchart-complete:disabled:hover {\n",
              "    background-color: var(--disabled-bg-color);\n",
              "    fill: var(--disabled-fill-color);\n",
              "    box-shadow: none;\n",
              "  }\n",
              "\n",
              "  .colab-df-spinner {\n",
              "    border: 2px solid var(--fill-color);\n",
              "    border-color: transparent;\n",
              "    border-bottom-color: var(--fill-color);\n",
              "    animation:\n",
              "      spin 1s steps(1) infinite;\n",
              "  }\n",
              "\n",
              "  @keyframes spin {\n",
              "    0% {\n",
              "      border-color: transparent;\n",
              "      border-bottom-color: var(--fill-color);\n",
              "      border-left-color: var(--fill-color);\n",
              "    }\n",
              "    20% {\n",
              "      border-color: transparent;\n",
              "      border-left-color: var(--fill-color);\n",
              "      border-top-color: var(--fill-color);\n",
              "    }\n",
              "    30% {\n",
              "      border-color: transparent;\n",
              "      border-left-color: var(--fill-color);\n",
              "      border-top-color: var(--fill-color);\n",
              "      border-right-color: var(--fill-color);\n",
              "    }\n",
              "    40% {\n",
              "      border-color: transparent;\n",
              "      border-right-color: var(--fill-color);\n",
              "      border-top-color: var(--fill-color);\n",
              "    }\n",
              "    60% {\n",
              "      border-color: transparent;\n",
              "      border-right-color: var(--fill-color);\n",
              "    }\n",
              "    80% {\n",
              "      border-color: transparent;\n",
              "      border-right-color: var(--fill-color);\n",
              "      border-bottom-color: var(--fill-color);\n",
              "    }\n",
              "    90% {\n",
              "      border-color: transparent;\n",
              "      border-bottom-color: var(--fill-color);\n",
              "    }\n",
              "  }\n",
              "</style>\n",
              "\n",
              "  <script>\n",
              "    async function quickchart(key) {\n",
              "      const quickchartButtonEl =\n",
              "        document.querySelector('#' + key + ' button');\n",
              "      quickchartButtonEl.disabled = true;  // To prevent multiple clicks.\n",
              "      quickchartButtonEl.classList.add('colab-df-spinner');\n",
              "      try {\n",
              "        const charts = await google.colab.kernel.invokeFunction(\n",
              "            'suggestCharts', [key], {});\n",
              "      } catch (error) {\n",
              "        console.error('Error during call to suggestCharts:', error);\n",
              "      }\n",
              "      quickchartButtonEl.classList.remove('colab-df-spinner');\n",
              "      quickchartButtonEl.classList.add('colab-df-quickchart-complete');\n",
              "    }\n",
              "    (() => {\n",
              "      let quickchartButtonEl =\n",
              "        document.querySelector('#df-70f1a376-35d2-457a-9010-2096b2f8dd70 button');\n",
              "      quickchartButtonEl.style.display =\n",
              "        google.colab.kernel.accessAllowed ? 'block' : 'none';\n",
              "    })();\n",
              "  </script>\n",
              "</div>\n",
              "\n",
              "    </div>\n",
              "  </div>\n"
            ],
            "application/vnd.google.colaboratory.intrinsic+json": {
              "type": "dataframe",
              "variable_name": "people",
              "summary": "{\n  \"name\": \"people\",\n  \"rows\": 375,\n  \"fields\": [\n    {\n      \"column\": \"id\",\n      \"properties\": {\n        \"dtype\": \"number\",\n        \"std\": 108,\n        \"min\": 0,\n        \"max\": 374,\n        \"num_unique_values\": 375,\n        \"samples\": [\n          167,\n          33,\n          15\n        ],\n        \"semantic_type\": \"\",\n        \"description\": \"\"\n      }\n    },\n    {\n      \"column\": \"Age\",\n      \"properties\": {\n        \"dtype\": \"number\",\n        \"std\": 7.080464798461329,\n        \"min\": 23.0,\n        \"max\": 53.0,\n        \"num_unique_values\": 31,\n        \"samples\": [\n          46.0,\n          33.0,\n          37.0\n        ],\n        \"semantic_type\": \"\",\n        \"description\": \"\"\n      }\n    },\n    {\n      \"column\": \"Gender\",\n      \"properties\": {\n        \"dtype\": \"category\",\n        \"num_unique_values\": 2,\n        \"samples\": [\n          \"Female\",\n          \"Male\"\n        ],\n        \"semantic_type\": \"\",\n        \"description\": \"\"\n      }\n    },\n    {\n      \"column\": \"Education Level\",\n      \"properties\": {\n        \"dtype\": \"category\",\n        \"num_unique_values\": 3,\n        \"samples\": [\n          \"Bachelor's\",\n          \"Master's\"\n        ],\n        \"semantic_type\": \"\",\n        \"description\": \"\"\n      }\n    },\n    {\n      \"column\": \"Job Title\",\n      \"properties\": {\n        \"dtype\": \"category\",\n        \"num_unique_values\": 173,\n        \"samples\": [\n          \"Junior Operations Manager\",\n          \"Administrative Assistant\"\n        ],\n        \"semantic_type\": \"\",\n        \"description\": \"\"\n      }\n    },\n    {\n      \"column\": \"Years of Experience\",\n      \"properties\": {\n        \"dtype\": \"number\",\n        \"std\": 6.557007136414243,\n        \"min\": 0.0,\n        \"max\": 25.0,\n        \"num_unique_values\": 28,\n        \"samples\": [\n          10.0,\n          24.0\n        ],\n        \"semantic_type\": \"\",\n        \"description\": \"\"\n      }\n    }\n  ]\n}"
            }
          },
          "metadata": {},
          "execution_count": 62
        }
      ],
      "source": [
        "people.head()"
      ]
    },
    {
      "cell_type": "code",
      "execution_count": 63,
      "metadata": {
        "colab": {
          "base_uri": "https://localhost:8080/"
        },
        "id": "1bDcFMnf68hj",
        "outputId": "d2177b85-b195-4fea-8930-ffda850acd72"
      },
      "outputs": [
        {
          "output_type": "stream",
          "name": "stdout",
          "text": [
            "<class 'pandas.core.frame.DataFrame'>\n",
            "RangeIndex: 375 entries, 0 to 374\n",
            "Data columns (total 6 columns):\n",
            " #   Column               Non-Null Count  Dtype  \n",
            "---  ------               --------------  -----  \n",
            " 0   id                   375 non-null    int64  \n",
            " 1   Age                  370 non-null    float64\n",
            " 2   Gender               370 non-null    object \n",
            " 3   Education Level      370 non-null    object \n",
            " 4   Job Title            370 non-null    object \n",
            " 5   Years of Experience  373 non-null    float64\n",
            "dtypes: float64(2), int64(1), object(3)\n",
            "memory usage: 17.7+ KB\n"
          ]
        }
      ],
      "source": [
        "people.info()"
      ]
    },
    {
      "cell_type": "code",
      "execution_count": 64,
      "metadata": {
        "colab": {
          "base_uri": "https://localhost:8080/",
          "height": 300
        },
        "id": "iqDYeErN2I11",
        "outputId": "7bb3a22c-9909-4c2e-c924-d5943b81ef3a"
      },
      "outputs": [
        {
          "output_type": "execute_result",
          "data": {
            "text/plain": [
              "               id         Age  Years of Experience\n",
              "count  375.000000  370.000000           373.000000\n",
              "mean   187.000000   37.437838            10.030831\n",
              "std    108.397417    7.080465             6.557007\n",
              "min      0.000000   23.000000             0.000000\n",
              "25%     93.500000   31.250000             4.000000\n",
              "50%    187.000000   36.000000             9.000000\n",
              "75%    280.500000   44.000000            15.000000\n",
              "max    374.000000   53.000000            25.000000"
            ],
            "text/html": [
              "\n",
              "  <div id=\"df-ba11f317-8d66-4c1e-a8d0-338e5501ade3\" class=\"colab-df-container\">\n",
              "    <div>\n",
              "<style scoped>\n",
              "    .dataframe tbody tr th:only-of-type {\n",
              "        vertical-align: middle;\n",
              "    }\n",
              "\n",
              "    .dataframe tbody tr th {\n",
              "        vertical-align: top;\n",
              "    }\n",
              "\n",
              "    .dataframe thead th {\n",
              "        text-align: right;\n",
              "    }\n",
              "</style>\n",
              "<table border=\"1\" class=\"dataframe\">\n",
              "  <thead>\n",
              "    <tr style=\"text-align: right;\">\n",
              "      <th></th>\n",
              "      <th>id</th>\n",
              "      <th>Age</th>\n",
              "      <th>Years of Experience</th>\n",
              "    </tr>\n",
              "  </thead>\n",
              "  <tbody>\n",
              "    <tr>\n",
              "      <th>count</th>\n",
              "      <td>375.000000</td>\n",
              "      <td>370.000000</td>\n",
              "      <td>373.000000</td>\n",
              "    </tr>\n",
              "    <tr>\n",
              "      <th>mean</th>\n",
              "      <td>187.000000</td>\n",
              "      <td>37.437838</td>\n",
              "      <td>10.030831</td>\n",
              "    </tr>\n",
              "    <tr>\n",
              "      <th>std</th>\n",
              "      <td>108.397417</td>\n",
              "      <td>7.080465</td>\n",
              "      <td>6.557007</td>\n",
              "    </tr>\n",
              "    <tr>\n",
              "      <th>min</th>\n",
              "      <td>0.000000</td>\n",
              "      <td>23.000000</td>\n",
              "      <td>0.000000</td>\n",
              "    </tr>\n",
              "    <tr>\n",
              "      <th>25%</th>\n",
              "      <td>93.500000</td>\n",
              "      <td>31.250000</td>\n",
              "      <td>4.000000</td>\n",
              "    </tr>\n",
              "    <tr>\n",
              "      <th>50%</th>\n",
              "      <td>187.000000</td>\n",
              "      <td>36.000000</td>\n",
              "      <td>9.000000</td>\n",
              "    </tr>\n",
              "    <tr>\n",
              "      <th>75%</th>\n",
              "      <td>280.500000</td>\n",
              "      <td>44.000000</td>\n",
              "      <td>15.000000</td>\n",
              "    </tr>\n",
              "    <tr>\n",
              "      <th>max</th>\n",
              "      <td>374.000000</td>\n",
              "      <td>53.000000</td>\n",
              "      <td>25.000000</td>\n",
              "    </tr>\n",
              "  </tbody>\n",
              "</table>\n",
              "</div>\n",
              "    <div class=\"colab-df-buttons\">\n",
              "\n",
              "  <div class=\"colab-df-container\">\n",
              "    <button class=\"colab-df-convert\" onclick=\"convertToInteractive('df-ba11f317-8d66-4c1e-a8d0-338e5501ade3')\"\n",
              "            title=\"Convert this dataframe to an interactive table.\"\n",
              "            style=\"display:none;\">\n",
              "\n",
              "  <svg xmlns=\"http://www.w3.org/2000/svg\" height=\"24px\" viewBox=\"0 -960 960 960\">\n",
              "    <path d=\"M120-120v-720h720v720H120Zm60-500h600v-160H180v160Zm220 220h160v-160H400v160Zm0 220h160v-160H400v160ZM180-400h160v-160H180v160Zm440 0h160v-160H620v160ZM180-180h160v-160H180v160Zm440 0h160v-160H620v160Z\"/>\n",
              "  </svg>\n",
              "    </button>\n",
              "\n",
              "  <style>\n",
              "    .colab-df-container {\n",
              "      display:flex;\n",
              "      gap: 12px;\n",
              "    }\n",
              "\n",
              "    .colab-df-convert {\n",
              "      background-color: #E8F0FE;\n",
              "      border: none;\n",
              "      border-radius: 50%;\n",
              "      cursor: pointer;\n",
              "      display: none;\n",
              "      fill: #1967D2;\n",
              "      height: 32px;\n",
              "      padding: 0 0 0 0;\n",
              "      width: 32px;\n",
              "    }\n",
              "\n",
              "    .colab-df-convert:hover {\n",
              "      background-color: #E2EBFA;\n",
              "      box-shadow: 0px 1px 2px rgba(60, 64, 67, 0.3), 0px 1px 3px 1px rgba(60, 64, 67, 0.15);\n",
              "      fill: #174EA6;\n",
              "    }\n",
              "\n",
              "    .colab-df-buttons div {\n",
              "      margin-bottom: 4px;\n",
              "    }\n",
              "\n",
              "    [theme=dark] .colab-df-convert {\n",
              "      background-color: #3B4455;\n",
              "      fill: #D2E3FC;\n",
              "    }\n",
              "\n",
              "    [theme=dark] .colab-df-convert:hover {\n",
              "      background-color: #434B5C;\n",
              "      box-shadow: 0px 1px 3px 1px rgba(0, 0, 0, 0.15);\n",
              "      filter: drop-shadow(0px 1px 2px rgba(0, 0, 0, 0.3));\n",
              "      fill: #FFFFFF;\n",
              "    }\n",
              "  </style>\n",
              "\n",
              "    <script>\n",
              "      const buttonEl =\n",
              "        document.querySelector('#df-ba11f317-8d66-4c1e-a8d0-338e5501ade3 button.colab-df-convert');\n",
              "      buttonEl.style.display =\n",
              "        google.colab.kernel.accessAllowed ? 'block' : 'none';\n",
              "\n",
              "      async function convertToInteractive(key) {\n",
              "        const element = document.querySelector('#df-ba11f317-8d66-4c1e-a8d0-338e5501ade3');\n",
              "        const dataTable =\n",
              "          await google.colab.kernel.invokeFunction('convertToInteractive',\n",
              "                                                    [key], {});\n",
              "        if (!dataTable) return;\n",
              "\n",
              "        const docLinkHtml = 'Like what you see? Visit the ' +\n",
              "          '<a target=\"_blank\" href=https://colab.research.google.com/notebooks/data_table.ipynb>data table notebook</a>'\n",
              "          + ' to learn more about interactive tables.';\n",
              "        element.innerHTML = '';\n",
              "        dataTable['output_type'] = 'display_data';\n",
              "        await google.colab.output.renderOutput(dataTable, element);\n",
              "        const docLink = document.createElement('div');\n",
              "        docLink.innerHTML = docLinkHtml;\n",
              "        element.appendChild(docLink);\n",
              "      }\n",
              "    </script>\n",
              "  </div>\n",
              "\n",
              "\n",
              "<div id=\"df-236f786f-a9bc-4b4e-8548-331449178e16\">\n",
              "  <button class=\"colab-df-quickchart\" onclick=\"quickchart('df-236f786f-a9bc-4b4e-8548-331449178e16')\"\n",
              "            title=\"Suggest charts\"\n",
              "            style=\"display:none;\">\n",
              "\n",
              "<svg xmlns=\"http://www.w3.org/2000/svg\" height=\"24px\"viewBox=\"0 0 24 24\"\n",
              "     width=\"24px\">\n",
              "    <g>\n",
              "        <path d=\"M19 3H5c-1.1 0-2 .9-2 2v14c0 1.1.9 2 2 2h14c1.1 0 2-.9 2-2V5c0-1.1-.9-2-2-2zM9 17H7v-7h2v7zm4 0h-2V7h2v10zm4 0h-2v-4h2v4z\"/>\n",
              "    </g>\n",
              "</svg>\n",
              "  </button>\n",
              "\n",
              "<style>\n",
              "  .colab-df-quickchart {\n",
              "      --bg-color: #E8F0FE;\n",
              "      --fill-color: #1967D2;\n",
              "      --hover-bg-color: #E2EBFA;\n",
              "      --hover-fill-color: #174EA6;\n",
              "      --disabled-fill-color: #AAA;\n",
              "      --disabled-bg-color: #DDD;\n",
              "  }\n",
              "\n",
              "  [theme=dark] .colab-df-quickchart {\n",
              "      --bg-color: #3B4455;\n",
              "      --fill-color: #D2E3FC;\n",
              "      --hover-bg-color: #434B5C;\n",
              "      --hover-fill-color: #FFFFFF;\n",
              "      --disabled-bg-color: #3B4455;\n",
              "      --disabled-fill-color: #666;\n",
              "  }\n",
              "\n",
              "  .colab-df-quickchart {\n",
              "    background-color: var(--bg-color);\n",
              "    border: none;\n",
              "    border-radius: 50%;\n",
              "    cursor: pointer;\n",
              "    display: none;\n",
              "    fill: var(--fill-color);\n",
              "    height: 32px;\n",
              "    padding: 0;\n",
              "    width: 32px;\n",
              "  }\n",
              "\n",
              "  .colab-df-quickchart:hover {\n",
              "    background-color: var(--hover-bg-color);\n",
              "    box-shadow: 0 1px 2px rgba(60, 64, 67, 0.3), 0 1px 3px 1px rgba(60, 64, 67, 0.15);\n",
              "    fill: var(--button-hover-fill-color);\n",
              "  }\n",
              "\n",
              "  .colab-df-quickchart-complete:disabled,\n",
              "  .colab-df-quickchart-complete:disabled:hover {\n",
              "    background-color: var(--disabled-bg-color);\n",
              "    fill: var(--disabled-fill-color);\n",
              "    box-shadow: none;\n",
              "  }\n",
              "\n",
              "  .colab-df-spinner {\n",
              "    border: 2px solid var(--fill-color);\n",
              "    border-color: transparent;\n",
              "    border-bottom-color: var(--fill-color);\n",
              "    animation:\n",
              "      spin 1s steps(1) infinite;\n",
              "  }\n",
              "\n",
              "  @keyframes spin {\n",
              "    0% {\n",
              "      border-color: transparent;\n",
              "      border-bottom-color: var(--fill-color);\n",
              "      border-left-color: var(--fill-color);\n",
              "    }\n",
              "    20% {\n",
              "      border-color: transparent;\n",
              "      border-left-color: var(--fill-color);\n",
              "      border-top-color: var(--fill-color);\n",
              "    }\n",
              "    30% {\n",
              "      border-color: transparent;\n",
              "      border-left-color: var(--fill-color);\n",
              "      border-top-color: var(--fill-color);\n",
              "      border-right-color: var(--fill-color);\n",
              "    }\n",
              "    40% {\n",
              "      border-color: transparent;\n",
              "      border-right-color: var(--fill-color);\n",
              "      border-top-color: var(--fill-color);\n",
              "    }\n",
              "    60% {\n",
              "      border-color: transparent;\n",
              "      border-right-color: var(--fill-color);\n",
              "    }\n",
              "    80% {\n",
              "      border-color: transparent;\n",
              "      border-right-color: var(--fill-color);\n",
              "      border-bottom-color: var(--fill-color);\n",
              "    }\n",
              "    90% {\n",
              "      border-color: transparent;\n",
              "      border-bottom-color: var(--fill-color);\n",
              "    }\n",
              "  }\n",
              "</style>\n",
              "\n",
              "  <script>\n",
              "    async function quickchart(key) {\n",
              "      const quickchartButtonEl =\n",
              "        document.querySelector('#' + key + ' button');\n",
              "      quickchartButtonEl.disabled = true;  // To prevent multiple clicks.\n",
              "      quickchartButtonEl.classList.add('colab-df-spinner');\n",
              "      try {\n",
              "        const charts = await google.colab.kernel.invokeFunction(\n",
              "            'suggestCharts', [key], {});\n",
              "      } catch (error) {\n",
              "        console.error('Error during call to suggestCharts:', error);\n",
              "      }\n",
              "      quickchartButtonEl.classList.remove('colab-df-spinner');\n",
              "      quickchartButtonEl.classList.add('colab-df-quickchart-complete');\n",
              "    }\n",
              "    (() => {\n",
              "      let quickchartButtonEl =\n",
              "        document.querySelector('#df-236f786f-a9bc-4b4e-8548-331449178e16 button');\n",
              "      quickchartButtonEl.style.display =\n",
              "        google.colab.kernel.accessAllowed ? 'block' : 'none';\n",
              "    })();\n",
              "  </script>\n",
              "</div>\n",
              "\n",
              "    </div>\n",
              "  </div>\n"
            ],
            "application/vnd.google.colaboratory.intrinsic+json": {
              "type": "dataframe",
              "summary": "{\n  \"name\": \"people\",\n  \"rows\": 8,\n  \"fields\": [\n    {\n      \"column\": \"id\",\n      \"properties\": {\n        \"dtype\": \"number\",\n        \"std\": 134.9332595391063,\n        \"min\": 0.0,\n        \"max\": 375.0,\n        \"num_unique_values\": 7,\n        \"samples\": [\n          375.0,\n          187.0,\n          280.5\n        ],\n        \"semantic_type\": \"\",\n        \"description\": \"\"\n      }\n    },\n    {\n      \"column\": \"Age\",\n      \"properties\": {\n        \"dtype\": \"number\",\n        \"std\": 119.9003460774899,\n        \"min\": 7.080464798461329,\n        \"max\": 370.0,\n        \"num_unique_values\": 8,\n        \"samples\": [\n          37.43783783783784,\n          36.0,\n          370.0\n        ],\n        \"semantic_type\": \"\",\n        \"description\": \"\"\n      }\n    },\n    {\n      \"column\": \"Years of Experience\",\n      \"properties\": {\n        \"dtype\": \"number\",\n        \"std\": 128.58244303384768,\n        \"min\": 0.0,\n        \"max\": 373.0,\n        \"num_unique_values\": 8,\n        \"samples\": [\n          10.03083109919571,\n          9.0,\n          373.0\n        ],\n        \"semantic_type\": \"\",\n        \"description\": \"\"\n      }\n    }\n  ]\n}"
            }
          },
          "metadata": {},
          "execution_count": 64
        }
      ],
      "source": [
        "people.describe()"
      ]
    },
    {
      "cell_type": "markdown",
      "metadata": {
        "id": "wJj5-kZZ3vdZ"
      },
      "source": [
        "This dataset includes structured demographic and professional information for 375 individuals. Each person is identified by a unique ID and has associated data on age, gender, education level, job title, and years of work experience.\n",
        "\n",
        "The majority of the records are complete, but a few entries have missing values—specifically, five are missing age, gender, education, or job title, and two are missing years of experience.\n",
        "\n",
        "Age ranges from 23 to 53, with an average around 37.\n",
        "\n",
        "Years of Experience varies between 0 and 25 years, with a median of about 9.\n",
        "\n",
        "Job titles include roles like Software Engineer, Data Analyst, Senior Manager, and Director.\n",
        "\n",
        "Education levels range from Bachelor’s to PhD."
      ]
    },
    {
      "cell_type": "code",
      "execution_count": 65,
      "metadata": {
        "colab": {
          "base_uri": "https://localhost:8080/",
          "height": 206
        },
        "id": "b8M2NXcTKrWi",
        "outputId": "a8b15223-d888-439f-ec97-045892ec91c0"
      },
      "outputs": [
        {
          "output_type": "execute_result",
          "data": {
            "text/plain": [
              "   id    Salary\n",
              "0   0   90000.0\n",
              "1   1   65000.0\n",
              "2   2  150000.0\n",
              "3   3   60000.0\n",
              "4   4  200000.0"
            ],
            "text/html": [
              "\n",
              "  <div id=\"df-28b1fca7-c27b-4d12-9b72-8a10d91fcd0c\" class=\"colab-df-container\">\n",
              "    <div>\n",
              "<style scoped>\n",
              "    .dataframe tbody tr th:only-of-type {\n",
              "        vertical-align: middle;\n",
              "    }\n",
              "\n",
              "    .dataframe tbody tr th {\n",
              "        vertical-align: top;\n",
              "    }\n",
              "\n",
              "    .dataframe thead th {\n",
              "        text-align: right;\n",
              "    }\n",
              "</style>\n",
              "<table border=\"1\" class=\"dataframe\">\n",
              "  <thead>\n",
              "    <tr style=\"text-align: right;\">\n",
              "      <th></th>\n",
              "      <th>id</th>\n",
              "      <th>Salary</th>\n",
              "    </tr>\n",
              "  </thead>\n",
              "  <tbody>\n",
              "    <tr>\n",
              "      <th>0</th>\n",
              "      <td>0</td>\n",
              "      <td>90000.0</td>\n",
              "    </tr>\n",
              "    <tr>\n",
              "      <th>1</th>\n",
              "      <td>1</td>\n",
              "      <td>65000.0</td>\n",
              "    </tr>\n",
              "    <tr>\n",
              "      <th>2</th>\n",
              "      <td>2</td>\n",
              "      <td>150000.0</td>\n",
              "    </tr>\n",
              "    <tr>\n",
              "      <th>3</th>\n",
              "      <td>3</td>\n",
              "      <td>60000.0</td>\n",
              "    </tr>\n",
              "    <tr>\n",
              "      <th>4</th>\n",
              "      <td>4</td>\n",
              "      <td>200000.0</td>\n",
              "    </tr>\n",
              "  </tbody>\n",
              "</table>\n",
              "</div>\n",
              "    <div class=\"colab-df-buttons\">\n",
              "\n",
              "  <div class=\"colab-df-container\">\n",
              "    <button class=\"colab-df-convert\" onclick=\"convertToInteractive('df-28b1fca7-c27b-4d12-9b72-8a10d91fcd0c')\"\n",
              "            title=\"Convert this dataframe to an interactive table.\"\n",
              "            style=\"display:none;\">\n",
              "\n",
              "  <svg xmlns=\"http://www.w3.org/2000/svg\" height=\"24px\" viewBox=\"0 -960 960 960\">\n",
              "    <path d=\"M120-120v-720h720v720H120Zm60-500h600v-160H180v160Zm220 220h160v-160H400v160Zm0 220h160v-160H400v160ZM180-400h160v-160H180v160Zm440 0h160v-160H620v160ZM180-180h160v-160H180v160Zm440 0h160v-160H620v160Z\"/>\n",
              "  </svg>\n",
              "    </button>\n",
              "\n",
              "  <style>\n",
              "    .colab-df-container {\n",
              "      display:flex;\n",
              "      gap: 12px;\n",
              "    }\n",
              "\n",
              "    .colab-df-convert {\n",
              "      background-color: #E8F0FE;\n",
              "      border: none;\n",
              "      border-radius: 50%;\n",
              "      cursor: pointer;\n",
              "      display: none;\n",
              "      fill: #1967D2;\n",
              "      height: 32px;\n",
              "      padding: 0 0 0 0;\n",
              "      width: 32px;\n",
              "    }\n",
              "\n",
              "    .colab-df-convert:hover {\n",
              "      background-color: #E2EBFA;\n",
              "      box-shadow: 0px 1px 2px rgba(60, 64, 67, 0.3), 0px 1px 3px 1px rgba(60, 64, 67, 0.15);\n",
              "      fill: #174EA6;\n",
              "    }\n",
              "\n",
              "    .colab-df-buttons div {\n",
              "      margin-bottom: 4px;\n",
              "    }\n",
              "\n",
              "    [theme=dark] .colab-df-convert {\n",
              "      background-color: #3B4455;\n",
              "      fill: #D2E3FC;\n",
              "    }\n",
              "\n",
              "    [theme=dark] .colab-df-convert:hover {\n",
              "      background-color: #434B5C;\n",
              "      box-shadow: 0px 1px 3px 1px rgba(0, 0, 0, 0.15);\n",
              "      filter: drop-shadow(0px 1px 2px rgba(0, 0, 0, 0.3));\n",
              "      fill: #FFFFFF;\n",
              "    }\n",
              "  </style>\n",
              "\n",
              "    <script>\n",
              "      const buttonEl =\n",
              "        document.querySelector('#df-28b1fca7-c27b-4d12-9b72-8a10d91fcd0c button.colab-df-convert');\n",
              "      buttonEl.style.display =\n",
              "        google.colab.kernel.accessAllowed ? 'block' : 'none';\n",
              "\n",
              "      async function convertToInteractive(key) {\n",
              "        const element = document.querySelector('#df-28b1fca7-c27b-4d12-9b72-8a10d91fcd0c');\n",
              "        const dataTable =\n",
              "          await google.colab.kernel.invokeFunction('convertToInteractive',\n",
              "                                                    [key], {});\n",
              "        if (!dataTable) return;\n",
              "\n",
              "        const docLinkHtml = 'Like what you see? Visit the ' +\n",
              "          '<a target=\"_blank\" href=https://colab.research.google.com/notebooks/data_table.ipynb>data table notebook</a>'\n",
              "          + ' to learn more about interactive tables.';\n",
              "        element.innerHTML = '';\n",
              "        dataTable['output_type'] = 'display_data';\n",
              "        await google.colab.output.renderOutput(dataTable, element);\n",
              "        const docLink = document.createElement('div');\n",
              "        docLink.innerHTML = docLinkHtml;\n",
              "        element.appendChild(docLink);\n",
              "      }\n",
              "    </script>\n",
              "  </div>\n",
              "\n",
              "\n",
              "<div id=\"df-9295fc2c-f1b0-434b-9ca3-3867e8a0b725\">\n",
              "  <button class=\"colab-df-quickchart\" onclick=\"quickchart('df-9295fc2c-f1b0-434b-9ca3-3867e8a0b725')\"\n",
              "            title=\"Suggest charts\"\n",
              "            style=\"display:none;\">\n",
              "\n",
              "<svg xmlns=\"http://www.w3.org/2000/svg\" height=\"24px\"viewBox=\"0 0 24 24\"\n",
              "     width=\"24px\">\n",
              "    <g>\n",
              "        <path d=\"M19 3H5c-1.1 0-2 .9-2 2v14c0 1.1.9 2 2 2h14c1.1 0 2-.9 2-2V5c0-1.1-.9-2-2-2zM9 17H7v-7h2v7zm4 0h-2V7h2v10zm4 0h-2v-4h2v4z\"/>\n",
              "    </g>\n",
              "</svg>\n",
              "  </button>\n",
              "\n",
              "<style>\n",
              "  .colab-df-quickchart {\n",
              "      --bg-color: #E8F0FE;\n",
              "      --fill-color: #1967D2;\n",
              "      --hover-bg-color: #E2EBFA;\n",
              "      --hover-fill-color: #174EA6;\n",
              "      --disabled-fill-color: #AAA;\n",
              "      --disabled-bg-color: #DDD;\n",
              "  }\n",
              "\n",
              "  [theme=dark] .colab-df-quickchart {\n",
              "      --bg-color: #3B4455;\n",
              "      --fill-color: #D2E3FC;\n",
              "      --hover-bg-color: #434B5C;\n",
              "      --hover-fill-color: #FFFFFF;\n",
              "      --disabled-bg-color: #3B4455;\n",
              "      --disabled-fill-color: #666;\n",
              "  }\n",
              "\n",
              "  .colab-df-quickchart {\n",
              "    background-color: var(--bg-color);\n",
              "    border: none;\n",
              "    border-radius: 50%;\n",
              "    cursor: pointer;\n",
              "    display: none;\n",
              "    fill: var(--fill-color);\n",
              "    height: 32px;\n",
              "    padding: 0;\n",
              "    width: 32px;\n",
              "  }\n",
              "\n",
              "  .colab-df-quickchart:hover {\n",
              "    background-color: var(--hover-bg-color);\n",
              "    box-shadow: 0 1px 2px rgba(60, 64, 67, 0.3), 0 1px 3px 1px rgba(60, 64, 67, 0.15);\n",
              "    fill: var(--button-hover-fill-color);\n",
              "  }\n",
              "\n",
              "  .colab-df-quickchart-complete:disabled,\n",
              "  .colab-df-quickchart-complete:disabled:hover {\n",
              "    background-color: var(--disabled-bg-color);\n",
              "    fill: var(--disabled-fill-color);\n",
              "    box-shadow: none;\n",
              "  }\n",
              "\n",
              "  .colab-df-spinner {\n",
              "    border: 2px solid var(--fill-color);\n",
              "    border-color: transparent;\n",
              "    border-bottom-color: var(--fill-color);\n",
              "    animation:\n",
              "      spin 1s steps(1) infinite;\n",
              "  }\n",
              "\n",
              "  @keyframes spin {\n",
              "    0% {\n",
              "      border-color: transparent;\n",
              "      border-bottom-color: var(--fill-color);\n",
              "      border-left-color: var(--fill-color);\n",
              "    }\n",
              "    20% {\n",
              "      border-color: transparent;\n",
              "      border-left-color: var(--fill-color);\n",
              "      border-top-color: var(--fill-color);\n",
              "    }\n",
              "    30% {\n",
              "      border-color: transparent;\n",
              "      border-left-color: var(--fill-color);\n",
              "      border-top-color: var(--fill-color);\n",
              "      border-right-color: var(--fill-color);\n",
              "    }\n",
              "    40% {\n",
              "      border-color: transparent;\n",
              "      border-right-color: var(--fill-color);\n",
              "      border-top-color: var(--fill-color);\n",
              "    }\n",
              "    60% {\n",
              "      border-color: transparent;\n",
              "      border-right-color: var(--fill-color);\n",
              "    }\n",
              "    80% {\n",
              "      border-color: transparent;\n",
              "      border-right-color: var(--fill-color);\n",
              "      border-bottom-color: var(--fill-color);\n",
              "    }\n",
              "    90% {\n",
              "      border-color: transparent;\n",
              "      border-bottom-color: var(--fill-color);\n",
              "    }\n",
              "  }\n",
              "</style>\n",
              "\n",
              "  <script>\n",
              "    async function quickchart(key) {\n",
              "      const quickchartButtonEl =\n",
              "        document.querySelector('#' + key + ' button');\n",
              "      quickchartButtonEl.disabled = true;  // To prevent multiple clicks.\n",
              "      quickchartButtonEl.classList.add('colab-df-spinner');\n",
              "      try {\n",
              "        const charts = await google.colab.kernel.invokeFunction(\n",
              "            'suggestCharts', [key], {});\n",
              "      } catch (error) {\n",
              "        console.error('Error during call to suggestCharts:', error);\n",
              "      }\n",
              "      quickchartButtonEl.classList.remove('colab-df-spinner');\n",
              "      quickchartButtonEl.classList.add('colab-df-quickchart-complete');\n",
              "    }\n",
              "    (() => {\n",
              "      let quickchartButtonEl =\n",
              "        document.querySelector('#df-9295fc2c-f1b0-434b-9ca3-3867e8a0b725 button');\n",
              "      quickchartButtonEl.style.display =\n",
              "        google.colab.kernel.accessAllowed ? 'block' : 'none';\n",
              "    })();\n",
              "  </script>\n",
              "</div>\n",
              "\n",
              "    </div>\n",
              "  </div>\n"
            ],
            "application/vnd.google.colaboratory.intrinsic+json": {
              "type": "dataframe",
              "variable_name": "salaries",
              "summary": "{\n  \"name\": \"salaries\",\n  \"rows\": 375,\n  \"fields\": [\n    {\n      \"column\": \"id\",\n      \"properties\": {\n        \"dtype\": \"number\",\n        \"std\": 108,\n        \"min\": 0,\n        \"max\": 374,\n        \"num_unique_values\": 375,\n        \"samples\": [\n          167,\n          33,\n          15\n        ],\n        \"semantic_type\": \"\",\n        \"description\": \"\"\n      }\n    },\n    {\n      \"column\": \"Salary\",\n      \"properties\": {\n        \"dtype\": \"number\",\n        \"std\": 48240.0134818827,\n        \"min\": 350.0,\n        \"max\": 250000.0,\n        \"num_unique_values\": 36,\n        \"samples\": [\n          350.0,\n          40000.0,\n          70000.0\n        ],\n        \"semantic_type\": \"\",\n        \"description\": \"\"\n      }\n    }\n  ]\n}"
            }
          },
          "metadata": {},
          "execution_count": 65
        }
      ],
      "source": [
        "salaries.head()"
      ]
    },
    {
      "cell_type": "code",
      "execution_count": 66,
      "metadata": {
        "colab": {
          "base_uri": "https://localhost:8080/"
        },
        "id": "-EzbJp2A376U",
        "outputId": "608ea20f-fc14-4ce6-c3e5-827d43ebd25b"
      },
      "outputs": [
        {
          "output_type": "stream",
          "name": "stdout",
          "text": [
            "<class 'pandas.core.frame.DataFrame'>\n",
            "RangeIndex: 375 entries, 0 to 374\n",
            "Data columns (total 2 columns):\n",
            " #   Column  Non-Null Count  Dtype  \n",
            "---  ------  --------------  -----  \n",
            " 0   id      375 non-null    int64  \n",
            " 1   Salary  373 non-null    float64\n",
            "dtypes: float64(1), int64(1)\n",
            "memory usage: 6.0 KB\n"
          ]
        }
      ],
      "source": [
        "salaries.info()"
      ]
    },
    {
      "cell_type": "markdown",
      "metadata": {
        "id": "tRp8lofP4L_S"
      },
      "source": [
        "This dataset contains salary information for 375 individuals, each matched by a unique ID. The salary figures are numerical and represent annual income in dollars.\n",
        "\n",
        "Most entries have a valid salary, though two records are missing this value. Salaries in the dataset vary widely, ranging from entry-level earnings to high-paying executive positions—examples include 60,000 for a Sales Associate and up to $200,000 for a Director-level role.\n",
        "\n",
        "This data is intended to be combined with demographic and job-related information from the other datasets for a more complete analysis."
      ]
    },
    {
      "cell_type": "markdown",
      "metadata": {
        "id": "X3l1KqNR96oC"
      },
      "source": [
        "## Merge datasets"
      ]
    },
    {
      "cell_type": "markdown",
      "metadata": {
        "id": "WKU5LEr19wZK"
      },
      "source": [
        "We will merge the three datasets based on the column 'id', common in all the datasets."
      ]
    },
    {
      "cell_type": "code",
      "execution_count": 67,
      "metadata": {
        "id": "-UYAOB5Y-E3s"
      },
      "outputs": [],
      "source": [
        "df = merge_datasets(descriptions, people, salaries)"
      ]
    },
    {
      "cell_type": "code",
      "execution_count": 68,
      "metadata": {
        "colab": {
          "base_uri": "https://localhost:8080/",
          "height": 206
        },
        "id": "i5-2uFn3-P9D",
        "outputId": "cde4568b-2b5f-45ce-9d6c-5a3e55cf19a8"
      },
      "outputs": [
        {
          "output_type": "execute_result",
          "data": {
            "text/plain": [
              "   id   Age  Gender Education Level          Job Title  Years of Experience  \\\n",
              "0   0  32.0    Male      Bachelor's  Software Engineer                  5.0   \n",
              "1   1  28.0  Female        Master's       Data Analyst                  3.0   \n",
              "2   2  45.0    Male             PhD     Senior Manager                 15.0   \n",
              "3   3  36.0  Female      Bachelor's    Sales Associate                  7.0   \n",
              "4   4  52.0    Male        Master's           Director                 20.0   \n",
              "\n",
              "                                         Description    Salary  \n",
              "0  I am a 32-year-old male working as a Software ...   90000.0  \n",
              "1  I am a 28-year-old data analyst with a Master'...   65000.0  \n",
              "2  I am a 45-year-old Senior Manager with a PhD a...  150000.0  \n",
              "3  I am a 36-year-old female Sales Associate with...   60000.0  \n",
              "4  I am a 52-year-old male with over two decades ...  200000.0  "
            ],
            "text/html": [
              "\n",
              "  <div id=\"df-7416e1ac-d11a-4dff-8ffe-fc01770b2318\" class=\"colab-df-container\">\n",
              "    <div>\n",
              "<style scoped>\n",
              "    .dataframe tbody tr th:only-of-type {\n",
              "        vertical-align: middle;\n",
              "    }\n",
              "\n",
              "    .dataframe tbody tr th {\n",
              "        vertical-align: top;\n",
              "    }\n",
              "\n",
              "    .dataframe thead th {\n",
              "        text-align: right;\n",
              "    }\n",
              "</style>\n",
              "<table border=\"1\" class=\"dataframe\">\n",
              "  <thead>\n",
              "    <tr style=\"text-align: right;\">\n",
              "      <th></th>\n",
              "      <th>id</th>\n",
              "      <th>Age</th>\n",
              "      <th>Gender</th>\n",
              "      <th>Education Level</th>\n",
              "      <th>Job Title</th>\n",
              "      <th>Years of Experience</th>\n",
              "      <th>Description</th>\n",
              "      <th>Salary</th>\n",
              "    </tr>\n",
              "  </thead>\n",
              "  <tbody>\n",
              "    <tr>\n",
              "      <th>0</th>\n",
              "      <td>0</td>\n",
              "      <td>32.0</td>\n",
              "      <td>Male</td>\n",
              "      <td>Bachelor's</td>\n",
              "      <td>Software Engineer</td>\n",
              "      <td>5.0</td>\n",
              "      <td>I am a 32-year-old male working as a Software ...</td>\n",
              "      <td>90000.0</td>\n",
              "    </tr>\n",
              "    <tr>\n",
              "      <th>1</th>\n",
              "      <td>1</td>\n",
              "      <td>28.0</td>\n",
              "      <td>Female</td>\n",
              "      <td>Master's</td>\n",
              "      <td>Data Analyst</td>\n",
              "      <td>3.0</td>\n",
              "      <td>I am a 28-year-old data analyst with a Master'...</td>\n",
              "      <td>65000.0</td>\n",
              "    </tr>\n",
              "    <tr>\n",
              "      <th>2</th>\n",
              "      <td>2</td>\n",
              "      <td>45.0</td>\n",
              "      <td>Male</td>\n",
              "      <td>PhD</td>\n",
              "      <td>Senior Manager</td>\n",
              "      <td>15.0</td>\n",
              "      <td>I am a 45-year-old Senior Manager with a PhD a...</td>\n",
              "      <td>150000.0</td>\n",
              "    </tr>\n",
              "    <tr>\n",
              "      <th>3</th>\n",
              "      <td>3</td>\n",
              "      <td>36.0</td>\n",
              "      <td>Female</td>\n",
              "      <td>Bachelor's</td>\n",
              "      <td>Sales Associate</td>\n",
              "      <td>7.0</td>\n",
              "      <td>I am a 36-year-old female Sales Associate with...</td>\n",
              "      <td>60000.0</td>\n",
              "    </tr>\n",
              "    <tr>\n",
              "      <th>4</th>\n",
              "      <td>4</td>\n",
              "      <td>52.0</td>\n",
              "      <td>Male</td>\n",
              "      <td>Master's</td>\n",
              "      <td>Director</td>\n",
              "      <td>20.0</td>\n",
              "      <td>I am a 52-year-old male with over two decades ...</td>\n",
              "      <td>200000.0</td>\n",
              "    </tr>\n",
              "  </tbody>\n",
              "</table>\n",
              "</div>\n",
              "    <div class=\"colab-df-buttons\">\n",
              "\n",
              "  <div class=\"colab-df-container\">\n",
              "    <button class=\"colab-df-convert\" onclick=\"convertToInteractive('df-7416e1ac-d11a-4dff-8ffe-fc01770b2318')\"\n",
              "            title=\"Convert this dataframe to an interactive table.\"\n",
              "            style=\"display:none;\">\n",
              "\n",
              "  <svg xmlns=\"http://www.w3.org/2000/svg\" height=\"24px\" viewBox=\"0 -960 960 960\">\n",
              "    <path d=\"M120-120v-720h720v720H120Zm60-500h600v-160H180v160Zm220 220h160v-160H400v160Zm0 220h160v-160H400v160ZM180-400h160v-160H180v160Zm440 0h160v-160H620v160ZM180-180h160v-160H180v160Zm440 0h160v-160H620v160Z\"/>\n",
              "  </svg>\n",
              "    </button>\n",
              "\n",
              "  <style>\n",
              "    .colab-df-container {\n",
              "      display:flex;\n",
              "      gap: 12px;\n",
              "    }\n",
              "\n",
              "    .colab-df-convert {\n",
              "      background-color: #E8F0FE;\n",
              "      border: none;\n",
              "      border-radius: 50%;\n",
              "      cursor: pointer;\n",
              "      display: none;\n",
              "      fill: #1967D2;\n",
              "      height: 32px;\n",
              "      padding: 0 0 0 0;\n",
              "      width: 32px;\n",
              "    }\n",
              "\n",
              "    .colab-df-convert:hover {\n",
              "      background-color: #E2EBFA;\n",
              "      box-shadow: 0px 1px 2px rgba(60, 64, 67, 0.3), 0px 1px 3px 1px rgba(60, 64, 67, 0.15);\n",
              "      fill: #174EA6;\n",
              "    }\n",
              "\n",
              "    .colab-df-buttons div {\n",
              "      margin-bottom: 4px;\n",
              "    }\n",
              "\n",
              "    [theme=dark] .colab-df-convert {\n",
              "      background-color: #3B4455;\n",
              "      fill: #D2E3FC;\n",
              "    }\n",
              "\n",
              "    [theme=dark] .colab-df-convert:hover {\n",
              "      background-color: #434B5C;\n",
              "      box-shadow: 0px 1px 3px 1px rgba(0, 0, 0, 0.15);\n",
              "      filter: drop-shadow(0px 1px 2px rgba(0, 0, 0, 0.3));\n",
              "      fill: #FFFFFF;\n",
              "    }\n",
              "  </style>\n",
              "\n",
              "    <script>\n",
              "      const buttonEl =\n",
              "        document.querySelector('#df-7416e1ac-d11a-4dff-8ffe-fc01770b2318 button.colab-df-convert');\n",
              "      buttonEl.style.display =\n",
              "        google.colab.kernel.accessAllowed ? 'block' : 'none';\n",
              "\n",
              "      async function convertToInteractive(key) {\n",
              "        const element = document.querySelector('#df-7416e1ac-d11a-4dff-8ffe-fc01770b2318');\n",
              "        const dataTable =\n",
              "          await google.colab.kernel.invokeFunction('convertToInteractive',\n",
              "                                                    [key], {});\n",
              "        if (!dataTable) return;\n",
              "\n",
              "        const docLinkHtml = 'Like what you see? Visit the ' +\n",
              "          '<a target=\"_blank\" href=https://colab.research.google.com/notebooks/data_table.ipynb>data table notebook</a>'\n",
              "          + ' to learn more about interactive tables.';\n",
              "        element.innerHTML = '';\n",
              "        dataTable['output_type'] = 'display_data';\n",
              "        await google.colab.output.renderOutput(dataTable, element);\n",
              "        const docLink = document.createElement('div');\n",
              "        docLink.innerHTML = docLinkHtml;\n",
              "        element.appendChild(docLink);\n",
              "      }\n",
              "    </script>\n",
              "  </div>\n",
              "\n",
              "\n",
              "<div id=\"df-5f87cf54-2868-4159-898e-2f8f5e88ffea\">\n",
              "  <button class=\"colab-df-quickchart\" onclick=\"quickchart('df-5f87cf54-2868-4159-898e-2f8f5e88ffea')\"\n",
              "            title=\"Suggest charts\"\n",
              "            style=\"display:none;\">\n",
              "\n",
              "<svg xmlns=\"http://www.w3.org/2000/svg\" height=\"24px\"viewBox=\"0 0 24 24\"\n",
              "     width=\"24px\">\n",
              "    <g>\n",
              "        <path d=\"M19 3H5c-1.1 0-2 .9-2 2v14c0 1.1.9 2 2 2h14c1.1 0 2-.9 2-2V5c0-1.1-.9-2-2-2zM9 17H7v-7h2v7zm4 0h-2V7h2v10zm4 0h-2v-4h2v4z\"/>\n",
              "    </g>\n",
              "</svg>\n",
              "  </button>\n",
              "\n",
              "<style>\n",
              "  .colab-df-quickchart {\n",
              "      --bg-color: #E8F0FE;\n",
              "      --fill-color: #1967D2;\n",
              "      --hover-bg-color: #E2EBFA;\n",
              "      --hover-fill-color: #174EA6;\n",
              "      --disabled-fill-color: #AAA;\n",
              "      --disabled-bg-color: #DDD;\n",
              "  }\n",
              "\n",
              "  [theme=dark] .colab-df-quickchart {\n",
              "      --bg-color: #3B4455;\n",
              "      --fill-color: #D2E3FC;\n",
              "      --hover-bg-color: #434B5C;\n",
              "      --hover-fill-color: #FFFFFF;\n",
              "      --disabled-bg-color: #3B4455;\n",
              "      --disabled-fill-color: #666;\n",
              "  }\n",
              "\n",
              "  .colab-df-quickchart {\n",
              "    background-color: var(--bg-color);\n",
              "    border: none;\n",
              "    border-radius: 50%;\n",
              "    cursor: pointer;\n",
              "    display: none;\n",
              "    fill: var(--fill-color);\n",
              "    height: 32px;\n",
              "    padding: 0;\n",
              "    width: 32px;\n",
              "  }\n",
              "\n",
              "  .colab-df-quickchart:hover {\n",
              "    background-color: var(--hover-bg-color);\n",
              "    box-shadow: 0 1px 2px rgba(60, 64, 67, 0.3), 0 1px 3px 1px rgba(60, 64, 67, 0.15);\n",
              "    fill: var(--button-hover-fill-color);\n",
              "  }\n",
              "\n",
              "  .colab-df-quickchart-complete:disabled,\n",
              "  .colab-df-quickchart-complete:disabled:hover {\n",
              "    background-color: var(--disabled-bg-color);\n",
              "    fill: var(--disabled-fill-color);\n",
              "    box-shadow: none;\n",
              "  }\n",
              "\n",
              "  .colab-df-spinner {\n",
              "    border: 2px solid var(--fill-color);\n",
              "    border-color: transparent;\n",
              "    border-bottom-color: var(--fill-color);\n",
              "    animation:\n",
              "      spin 1s steps(1) infinite;\n",
              "  }\n",
              "\n",
              "  @keyframes spin {\n",
              "    0% {\n",
              "      border-color: transparent;\n",
              "      border-bottom-color: var(--fill-color);\n",
              "      border-left-color: var(--fill-color);\n",
              "    }\n",
              "    20% {\n",
              "      border-color: transparent;\n",
              "      border-left-color: var(--fill-color);\n",
              "      border-top-color: var(--fill-color);\n",
              "    }\n",
              "    30% {\n",
              "      border-color: transparent;\n",
              "      border-left-color: var(--fill-color);\n",
              "      border-top-color: var(--fill-color);\n",
              "      border-right-color: var(--fill-color);\n",
              "    }\n",
              "    40% {\n",
              "      border-color: transparent;\n",
              "      border-right-color: var(--fill-color);\n",
              "      border-top-color: var(--fill-color);\n",
              "    }\n",
              "    60% {\n",
              "      border-color: transparent;\n",
              "      border-right-color: var(--fill-color);\n",
              "    }\n",
              "    80% {\n",
              "      border-color: transparent;\n",
              "      border-right-color: var(--fill-color);\n",
              "      border-bottom-color: var(--fill-color);\n",
              "    }\n",
              "    90% {\n",
              "      border-color: transparent;\n",
              "      border-bottom-color: var(--fill-color);\n",
              "    }\n",
              "  }\n",
              "</style>\n",
              "\n",
              "  <script>\n",
              "    async function quickchart(key) {\n",
              "      const quickchartButtonEl =\n",
              "        document.querySelector('#' + key + ' button');\n",
              "      quickchartButtonEl.disabled = true;  // To prevent multiple clicks.\n",
              "      quickchartButtonEl.classList.add('colab-df-spinner');\n",
              "      try {\n",
              "        const charts = await google.colab.kernel.invokeFunction(\n",
              "            'suggestCharts', [key], {});\n",
              "      } catch (error) {\n",
              "        console.error('Error during call to suggestCharts:', error);\n",
              "      }\n",
              "      quickchartButtonEl.classList.remove('colab-df-spinner');\n",
              "      quickchartButtonEl.classList.add('colab-df-quickchart-complete');\n",
              "    }\n",
              "    (() => {\n",
              "      let quickchartButtonEl =\n",
              "        document.querySelector('#df-5f87cf54-2868-4159-898e-2f8f5e88ffea button');\n",
              "      quickchartButtonEl.style.display =\n",
              "        google.colab.kernel.accessAllowed ? 'block' : 'none';\n",
              "    })();\n",
              "  </script>\n",
              "</div>\n",
              "\n",
              "    </div>\n",
              "  </div>\n"
            ],
            "application/vnd.google.colaboratory.intrinsic+json": {
              "type": "dataframe",
              "variable_name": "df",
              "summary": "{\n  \"name\": \"df\",\n  \"rows\": 375,\n  \"fields\": [\n    {\n      \"column\": \"id\",\n      \"properties\": {\n        \"dtype\": \"number\",\n        \"std\": 108,\n        \"min\": 0,\n        \"max\": 374,\n        \"num_unique_values\": 375,\n        \"samples\": [\n          167,\n          33,\n          15\n        ],\n        \"semantic_type\": \"\",\n        \"description\": \"\"\n      }\n    },\n    {\n      \"column\": \"Age\",\n      \"properties\": {\n        \"dtype\": \"number\",\n        \"std\": 7.080464798461329,\n        \"min\": 23.0,\n        \"max\": 53.0,\n        \"num_unique_values\": 31,\n        \"samples\": [\n          46.0,\n          33.0,\n          37.0\n        ],\n        \"semantic_type\": \"\",\n        \"description\": \"\"\n      }\n    },\n    {\n      \"column\": \"Gender\",\n      \"properties\": {\n        \"dtype\": \"category\",\n        \"num_unique_values\": 2,\n        \"samples\": [\n          \"Female\",\n          \"Male\"\n        ],\n        \"semantic_type\": \"\",\n        \"description\": \"\"\n      }\n    },\n    {\n      \"column\": \"Education Level\",\n      \"properties\": {\n        \"dtype\": \"category\",\n        \"num_unique_values\": 3,\n        \"samples\": [\n          \"Bachelor's\",\n          \"Master's\"\n        ],\n        \"semantic_type\": \"\",\n        \"description\": \"\"\n      }\n    },\n    {\n      \"column\": \"Job Title\",\n      \"properties\": {\n        \"dtype\": \"category\",\n        \"num_unique_values\": 173,\n        \"samples\": [\n          \"Junior Operations Manager\",\n          \"Administrative Assistant\"\n        ],\n        \"semantic_type\": \"\",\n        \"description\": \"\"\n      }\n    },\n    {\n      \"column\": \"Years of Experience\",\n      \"properties\": {\n        \"dtype\": \"number\",\n        \"std\": 6.557007136414243,\n        \"min\": 0.0,\n        \"max\": 25.0,\n        \"num_unique_values\": 28,\n        \"samples\": [\n          10.0,\n          24.0\n        ],\n        \"semantic_type\": \"\",\n        \"description\": \"\"\n      }\n    },\n    {\n      \"column\": \"Description\",\n      \"properties\": {\n        \"dtype\": \"string\",\n        \"num_unique_values\": 372,\n        \"samples\": [\n          \"I am a 31-year-old female working as a Junior Business Development Associate with a Bachelor's degree. With three years of experience, I have developed skills in market research, client relationship management, and strategic planning. My role involves identifying new business opportunities, building and maintaining client relationships, and supporting growth strategy development and implementation. I am passionate about helping businesses expand, analyzing market trends, and identifying growth areas. I am a proactive and dedicated professional, committed to delivering high-quality work and continuously improving my skills to contribute effectively to my team and organization.\",\n          \"I am a 39-year-old Marketing Specialist with a Bachelor's degree and 10 years of experience in the field. My expertise spans digital marketing campaigns, social media management, market research, and brand development. I excel at crafting innovative, data-driven strategies that connect with target audiences. My role requires a blend of creativity and analytical thinking, and I stay updated with the latest marketing trends and technologies. I am passionate about creating compelling content and campaigns, and I am always eager to take on new challenges and opportunities to grow in the dynamic world of marketing.\"\n        ],\n        \"semantic_type\": \"\",\n        \"description\": \"\"\n      }\n    },\n    {\n      \"column\": \"Salary\",\n      \"properties\": {\n        \"dtype\": \"number\",\n        \"std\": 48240.0134818827,\n        \"min\": 350.0,\n        \"max\": 250000.0,\n        \"num_unique_values\": 36,\n        \"samples\": [\n          350.0,\n          40000.0\n        ],\n        \"semantic_type\": \"\",\n        \"description\": \"\"\n      }\n    }\n  ]\n}"
            }
          },
          "metadata": {},
          "execution_count": 68
        }
      ],
      "source": [
        "df.head()"
      ]
    },
    {
      "cell_type": "markdown",
      "metadata": {
        "id": "-1pKVekX6N-R"
      },
      "source": [
        "## Missing Values"
      ]
    },
    {
      "cell_type": "markdown",
      "metadata": {
        "id": "JWJr4x2S5pQe"
      },
      "source": [
        "We’ve already noticed some missing values across the individual datasets. Now that we’ve merged them, it’s time to take a closer look at these gaps and decide how best to handle them.\n",
        "\n",
        "After merging, we might find that a row missing data in one dataset has useful information in another. Now, we coudl drop the row with missing values or maybe fill in the missing values.\n",
        "\n",
        "A good starting point is to assess how many rows contain missing data across the entire merged dataset. A common rule of thumb in data analysis is tha dropping less than 5% of the dataset is generally considered safe.\n",
        "\n",
        "Losing a small fraction (e.g., <5%) usually won’t significantly impact the analysis or model performance—especially if the missing data is random. In fact, dropping these rows can often be safer than filling them with potentially misleading values.\n",
        "\n",
        "Why be cautious with imputation?\n",
        "\n",
        "- Filling in age with a mean or median may not reflect the actual distribution and could misrepresent the data.\n",
        "- Filling in salary with an average can distort the income distribution and lead to incorrect assumptions.\n",
        "\n",
        "Therefore, when the missing data:\n",
        "\n",
        "- Is **random** (i.e., not concentrated in a specific group),\n",
        "- Represents a **small portion** of the dataset, and\n",
        "- Comes from a **sufficiently large sample**,\n",
        "\n",
        "then dropping the affected rows is often the simplest and most reliable approach.\n"
      ]
    },
    {
      "cell_type": "code",
      "execution_count": 69,
      "metadata": {
        "colab": {
          "base_uri": "https://localhost:8080/",
          "height": 300
        },
        "id": "LbjQY7fxB0pZ",
        "outputId": "e12565f2-7171-41d7-dea8-af6e02e23e6d"
      },
      "outputs": [
        {
          "output_type": "execute_result",
          "data": {
            "text/plain": [
              "                     NaN Count  NaN Percentage (%)\n",
              "id                           0                0.00\n",
              "Age                          5                1.33\n",
              "Gender                       5                1.33\n",
              "Education Level              5                1.33\n",
              "Job Title                    5                1.33\n",
              "Years of Experience          2                0.53\n",
              "Description                  3                0.80\n",
              "Salary                       2                0.53"
            ],
            "text/html": [
              "\n",
              "  <div id=\"df-33e5bef7-125e-4a8c-8144-32020449b423\" class=\"colab-df-container\">\n",
              "    <div>\n",
              "<style scoped>\n",
              "    .dataframe tbody tr th:only-of-type {\n",
              "        vertical-align: middle;\n",
              "    }\n",
              "\n",
              "    .dataframe tbody tr th {\n",
              "        vertical-align: top;\n",
              "    }\n",
              "\n",
              "    .dataframe thead th {\n",
              "        text-align: right;\n",
              "    }\n",
              "</style>\n",
              "<table border=\"1\" class=\"dataframe\">\n",
              "  <thead>\n",
              "    <tr style=\"text-align: right;\">\n",
              "      <th></th>\n",
              "      <th>NaN Count</th>\n",
              "      <th>NaN Percentage (%)</th>\n",
              "    </tr>\n",
              "  </thead>\n",
              "  <tbody>\n",
              "    <tr>\n",
              "      <th>id</th>\n",
              "      <td>0</td>\n",
              "      <td>0.00</td>\n",
              "    </tr>\n",
              "    <tr>\n",
              "      <th>Age</th>\n",
              "      <td>5</td>\n",
              "      <td>1.33</td>\n",
              "    </tr>\n",
              "    <tr>\n",
              "      <th>Gender</th>\n",
              "      <td>5</td>\n",
              "      <td>1.33</td>\n",
              "    </tr>\n",
              "    <tr>\n",
              "      <th>Education Level</th>\n",
              "      <td>5</td>\n",
              "      <td>1.33</td>\n",
              "    </tr>\n",
              "    <tr>\n",
              "      <th>Job Title</th>\n",
              "      <td>5</td>\n",
              "      <td>1.33</td>\n",
              "    </tr>\n",
              "    <tr>\n",
              "      <th>Years of Experience</th>\n",
              "      <td>2</td>\n",
              "      <td>0.53</td>\n",
              "    </tr>\n",
              "    <tr>\n",
              "      <th>Description</th>\n",
              "      <td>3</td>\n",
              "      <td>0.80</td>\n",
              "    </tr>\n",
              "    <tr>\n",
              "      <th>Salary</th>\n",
              "      <td>2</td>\n",
              "      <td>0.53</td>\n",
              "    </tr>\n",
              "  </tbody>\n",
              "</table>\n",
              "</div>\n",
              "    <div class=\"colab-df-buttons\">\n",
              "\n",
              "  <div class=\"colab-df-container\">\n",
              "    <button class=\"colab-df-convert\" onclick=\"convertToInteractive('df-33e5bef7-125e-4a8c-8144-32020449b423')\"\n",
              "            title=\"Convert this dataframe to an interactive table.\"\n",
              "            style=\"display:none;\">\n",
              "\n",
              "  <svg xmlns=\"http://www.w3.org/2000/svg\" height=\"24px\" viewBox=\"0 -960 960 960\">\n",
              "    <path d=\"M120-120v-720h720v720H120Zm60-500h600v-160H180v160Zm220 220h160v-160H400v160Zm0 220h160v-160H400v160ZM180-400h160v-160H180v160Zm440 0h160v-160H620v160ZM180-180h160v-160H180v160Zm440 0h160v-160H620v160Z\"/>\n",
              "  </svg>\n",
              "    </button>\n",
              "\n",
              "  <style>\n",
              "    .colab-df-container {\n",
              "      display:flex;\n",
              "      gap: 12px;\n",
              "    }\n",
              "\n",
              "    .colab-df-convert {\n",
              "      background-color: #E8F0FE;\n",
              "      border: none;\n",
              "      border-radius: 50%;\n",
              "      cursor: pointer;\n",
              "      display: none;\n",
              "      fill: #1967D2;\n",
              "      height: 32px;\n",
              "      padding: 0 0 0 0;\n",
              "      width: 32px;\n",
              "    }\n",
              "\n",
              "    .colab-df-convert:hover {\n",
              "      background-color: #E2EBFA;\n",
              "      box-shadow: 0px 1px 2px rgba(60, 64, 67, 0.3), 0px 1px 3px 1px rgba(60, 64, 67, 0.15);\n",
              "      fill: #174EA6;\n",
              "    }\n",
              "\n",
              "    .colab-df-buttons div {\n",
              "      margin-bottom: 4px;\n",
              "    }\n",
              "\n",
              "    [theme=dark] .colab-df-convert {\n",
              "      background-color: #3B4455;\n",
              "      fill: #D2E3FC;\n",
              "    }\n",
              "\n",
              "    [theme=dark] .colab-df-convert:hover {\n",
              "      background-color: #434B5C;\n",
              "      box-shadow: 0px 1px 3px 1px rgba(0, 0, 0, 0.15);\n",
              "      filter: drop-shadow(0px 1px 2px rgba(0, 0, 0, 0.3));\n",
              "      fill: #FFFFFF;\n",
              "    }\n",
              "  </style>\n",
              "\n",
              "    <script>\n",
              "      const buttonEl =\n",
              "        document.querySelector('#df-33e5bef7-125e-4a8c-8144-32020449b423 button.colab-df-convert');\n",
              "      buttonEl.style.display =\n",
              "        google.colab.kernel.accessAllowed ? 'block' : 'none';\n",
              "\n",
              "      async function convertToInteractive(key) {\n",
              "        const element = document.querySelector('#df-33e5bef7-125e-4a8c-8144-32020449b423');\n",
              "        const dataTable =\n",
              "          await google.colab.kernel.invokeFunction('convertToInteractive',\n",
              "                                                    [key], {});\n",
              "        if (!dataTable) return;\n",
              "\n",
              "        const docLinkHtml = 'Like what you see? Visit the ' +\n",
              "          '<a target=\"_blank\" href=https://colab.research.google.com/notebooks/data_table.ipynb>data table notebook</a>'\n",
              "          + ' to learn more about interactive tables.';\n",
              "        element.innerHTML = '';\n",
              "        dataTable['output_type'] = 'display_data';\n",
              "        await google.colab.output.renderOutput(dataTable, element);\n",
              "        const docLink = document.createElement('div');\n",
              "        docLink.innerHTML = docLinkHtml;\n",
              "        element.appendChild(docLink);\n",
              "      }\n",
              "    </script>\n",
              "  </div>\n",
              "\n",
              "\n",
              "<div id=\"df-9ce3ae94-2d97-4eba-b238-9d1c7d2f8b53\">\n",
              "  <button class=\"colab-df-quickchart\" onclick=\"quickchart('df-9ce3ae94-2d97-4eba-b238-9d1c7d2f8b53')\"\n",
              "            title=\"Suggest charts\"\n",
              "            style=\"display:none;\">\n",
              "\n",
              "<svg xmlns=\"http://www.w3.org/2000/svg\" height=\"24px\"viewBox=\"0 0 24 24\"\n",
              "     width=\"24px\">\n",
              "    <g>\n",
              "        <path d=\"M19 3H5c-1.1 0-2 .9-2 2v14c0 1.1.9 2 2 2h14c1.1 0 2-.9 2-2V5c0-1.1-.9-2-2-2zM9 17H7v-7h2v7zm4 0h-2V7h2v10zm4 0h-2v-4h2v4z\"/>\n",
              "    </g>\n",
              "</svg>\n",
              "  </button>\n",
              "\n",
              "<style>\n",
              "  .colab-df-quickchart {\n",
              "      --bg-color: #E8F0FE;\n",
              "      --fill-color: #1967D2;\n",
              "      --hover-bg-color: #E2EBFA;\n",
              "      --hover-fill-color: #174EA6;\n",
              "      --disabled-fill-color: #AAA;\n",
              "      --disabled-bg-color: #DDD;\n",
              "  }\n",
              "\n",
              "  [theme=dark] .colab-df-quickchart {\n",
              "      --bg-color: #3B4455;\n",
              "      --fill-color: #D2E3FC;\n",
              "      --hover-bg-color: #434B5C;\n",
              "      --hover-fill-color: #FFFFFF;\n",
              "      --disabled-bg-color: #3B4455;\n",
              "      --disabled-fill-color: #666;\n",
              "  }\n",
              "\n",
              "  .colab-df-quickchart {\n",
              "    background-color: var(--bg-color);\n",
              "    border: none;\n",
              "    border-radius: 50%;\n",
              "    cursor: pointer;\n",
              "    display: none;\n",
              "    fill: var(--fill-color);\n",
              "    height: 32px;\n",
              "    padding: 0;\n",
              "    width: 32px;\n",
              "  }\n",
              "\n",
              "  .colab-df-quickchart:hover {\n",
              "    background-color: var(--hover-bg-color);\n",
              "    box-shadow: 0 1px 2px rgba(60, 64, 67, 0.3), 0 1px 3px 1px rgba(60, 64, 67, 0.15);\n",
              "    fill: var(--button-hover-fill-color);\n",
              "  }\n",
              "\n",
              "  .colab-df-quickchart-complete:disabled,\n",
              "  .colab-df-quickchart-complete:disabled:hover {\n",
              "    background-color: var(--disabled-bg-color);\n",
              "    fill: var(--disabled-fill-color);\n",
              "    box-shadow: none;\n",
              "  }\n",
              "\n",
              "  .colab-df-spinner {\n",
              "    border: 2px solid var(--fill-color);\n",
              "    border-color: transparent;\n",
              "    border-bottom-color: var(--fill-color);\n",
              "    animation:\n",
              "      spin 1s steps(1) infinite;\n",
              "  }\n",
              "\n",
              "  @keyframes spin {\n",
              "    0% {\n",
              "      border-color: transparent;\n",
              "      border-bottom-color: var(--fill-color);\n",
              "      border-left-color: var(--fill-color);\n",
              "    }\n",
              "    20% {\n",
              "      border-color: transparent;\n",
              "      border-left-color: var(--fill-color);\n",
              "      border-top-color: var(--fill-color);\n",
              "    }\n",
              "    30% {\n",
              "      border-color: transparent;\n",
              "      border-left-color: var(--fill-color);\n",
              "      border-top-color: var(--fill-color);\n",
              "      border-right-color: var(--fill-color);\n",
              "    }\n",
              "    40% {\n",
              "      border-color: transparent;\n",
              "      border-right-color: var(--fill-color);\n",
              "      border-top-color: var(--fill-color);\n",
              "    }\n",
              "    60% {\n",
              "      border-color: transparent;\n",
              "      border-right-color: var(--fill-color);\n",
              "    }\n",
              "    80% {\n",
              "      border-color: transparent;\n",
              "      border-right-color: var(--fill-color);\n",
              "      border-bottom-color: var(--fill-color);\n",
              "    }\n",
              "    90% {\n",
              "      border-color: transparent;\n",
              "      border-bottom-color: var(--fill-color);\n",
              "    }\n",
              "  }\n",
              "</style>\n",
              "\n",
              "  <script>\n",
              "    async function quickchart(key) {\n",
              "      const quickchartButtonEl =\n",
              "        document.querySelector('#' + key + ' button');\n",
              "      quickchartButtonEl.disabled = true;  // To prevent multiple clicks.\n",
              "      quickchartButtonEl.classList.add('colab-df-spinner');\n",
              "      try {\n",
              "        const charts = await google.colab.kernel.invokeFunction(\n",
              "            'suggestCharts', [key], {});\n",
              "      } catch (error) {\n",
              "        console.error('Error during call to suggestCharts:', error);\n",
              "      }\n",
              "      quickchartButtonEl.classList.remove('colab-df-spinner');\n",
              "      quickchartButtonEl.classList.add('colab-df-quickchart-complete');\n",
              "    }\n",
              "    (() => {\n",
              "      let quickchartButtonEl =\n",
              "        document.querySelector('#df-9ce3ae94-2d97-4eba-b238-9d1c7d2f8b53 button');\n",
              "      quickchartButtonEl.style.display =\n",
              "        google.colab.kernel.accessAllowed ? 'block' : 'none';\n",
              "    })();\n",
              "  </script>\n",
              "</div>\n",
              "\n",
              "    </div>\n",
              "  </div>\n"
            ],
            "application/vnd.google.colaboratory.intrinsic+json": {
              "type": "dataframe",
              "summary": "{\n  \"name\": \"missing_data_table(df)\",\n  \"rows\": 8,\n  \"fields\": [\n    {\n      \"column\": \"NaN Count\",\n      \"properties\": {\n        \"dtype\": \"number\",\n        \"std\": 1,\n        \"min\": 0,\n        \"max\": 5,\n        \"num_unique_values\": 4,\n        \"samples\": [\n          5,\n          3,\n          0\n        ],\n        \"semantic_type\": \"\",\n        \"description\": \"\"\n      }\n    },\n    {\n      \"column\": \"NaN Percentage (%)\",\n      \"properties\": {\n        \"dtype\": \"number\",\n        \"std\": 0.5117686419243982,\n        \"min\": 0.0,\n        \"max\": 1.33,\n        \"num_unique_values\": 4,\n        \"samples\": [\n          1.33,\n          0.8,\n          0.0\n        ],\n        \"semantic_type\": \"\",\n        \"description\": \"\"\n      }\n    }\n  ]\n}"
            }
          },
          "metadata": {},
          "execution_count": 69
        }
      ],
      "source": [
        "missing_data_table(df)"
      ]
    },
    {
      "cell_type": "code",
      "execution_count": 70,
      "metadata": {
        "colab": {
          "base_uri": "https://localhost:8080/"
        },
        "id": "R0W20XWIGpVl",
        "outputId": "9d79816a-688f-4636-9192-c64822dec4f0"
      },
      "outputs": [
        {
          "output_type": "stream",
          "name": "stdout",
          "text": [
            "Percentage of rows with at least one missing value: 4.53%\n"
          ]
        }
      ],
      "source": [
        "percentage = percentage_rows_missing_data(df)\n",
        "print(f\"Percentage of rows with at least one missing value: {percentage:.2f}%\")"
      ]
    },
    {
      "cell_type": "markdown",
      "metadata": {
        "id": "_7WVdifaHLBe"
      },
      "source": [
        "We see that the overall Percentage of rows with at least one missing value is slightly lower than 5%.\n",
        "\n",
        "Now, let's check if the missing data is random or has a pattern. We'll do that with two graphs:\n",
        "\n",
        "- Matrix: shows where missing values are. Each column represents a variable and each row represents a person (or entry in the dataset). The white bars show where the missing data is.\n",
        "\n",
        "- Heatmap: helps you see if missing values tend to happen together. This heatmap does not show the correlation of the actual values, but the correlation between the missing data."
      ]
    },
    {
      "cell_type": "code",
      "execution_count": 71,
      "metadata": {
        "colab": {
          "base_uri": "https://localhost:8080/",
          "height": 1000
        },
        "id": "Fx8zlb83AVW3",
        "outputId": "33fbee28-e709-4d2e-d1b5-759193a3a216"
      },
      "outputs": [
        {
          "output_type": "stream",
          "name": "stderr",
          "text": [
            "/usr/local/lib/python3.11/dist-packages/missingno/missingno.py:61: UserWarning: Plotting a sparkline on an existing axis is not currently supported. To remove this warning, set sparkline=False.\n",
            "  warnings.warn(\n"
          ]
        },
        {
          "output_type": "display_data",
          "data": {
            "text/plain": [
              "<Figure size 1400x1400 with 3 Axes>"
            ],
            "image/png": "[encoded data removed]"
          },
          "metadata": {}
        }
      ],
      "source": [
        "# Create a figure with two subplots side by side\n",
        "fig, axes = plt.subplots(2, 1, figsize=(14, 14))\n",
        "\n",
        "# Plot missing values matrix on the first subplot\n",
        "msno.matrix(df, ax=axes[0])\n",
        "axes[0].set_title(\"Missing Values Matrix\")\n",
        "\n",
        "# Plot missing values heatmap on the second subplot\n",
        "msno.heatmap(df, ax=axes[1])\n",
        "axes[1].set_title(\"Missing Values Heatmap\")\n",
        "\n",
        "# Adjust layout to avoid overlapping\n",
        "plt.tight_layout()\n",
        "plt.show()"
      ]
    },
    {
      "cell_type": "markdown",
      "metadata": {
        "id": "c1PRGChhFMFo"
      },
      "source": [
        "**Missingno Matrix (Image 1)**  \n",
        "This visualization provides a clear overview of missing data across both rows and columns. We can see that:\n",
        "\n",
        "- Missing values appear to be sporadically distributed, with no strong concentration in any specific row or group.\n",
        "- A few columns — notably **Age**, **Gender**, **Education Level**, **Job Title**, and **Description** — show minor patches of missing data.\n",
        "- There’s no evidence of a systemic pattern (e.g., no subset of records consistently missing multiple fields).\n",
        "\n",
        "The missingness appears to be **random and low in volume**, making it reasonable to proceed with dropping these rows. This approach is unlikely to introduce significant bias or affect overall data integrity."
      ]
    },
    {
      "cell_type": "markdown",
      "metadata": {
        "id": "1YY0aOxiFWAD"
      },
      "source": [
        "**Missing values heatmap (Image 2)**\n",
        "\n",
        "This shows how missingness in columns correlates with each other:\n",
        "- Lighter colors indicate low or no correlation between missing values across columns.\n",
        "\n",
        "The only notable relationship is between Salary and Years of Experience: they share a high correlation (1).\n",
        "\n",
        "This suggests that people missing Salary are also be missing Experience — maybe new workers or entries with incomplete profiles (they are perfectly correlated in terms of absence, not in terms of their actual numerical values).\n",
        "\n",
        "However, Salary is the target value and rows that are missing this value are not useful for training or evaluating predictive models.\n",
        "\n",
        "Keeping these rows could introduce noise or skew analysis like correlations or distributions."
      ]
    },
    {
      "cell_type": "markdown",
      "metadata": {
        "id": "xWZiQWIbNYyo"
      },
      "source": [
        "Taking all these into account, we will drop rows with NaN values on the dataframe."
      ]
    },
    {
      "cell_type": "code",
      "execution_count": 72,
      "metadata": {
        "id": "SHVlTY6aNcax"
      },
      "outputs": [],
      "source": [
        "df = df.dropna()"
      ]
    },
    {
      "cell_type": "code",
      "execution_count": 73,
      "metadata": {
        "colab": {
          "base_uri": "https://localhost:8080/",
          "height": 300
        },
        "id": "_UljYLsyNv6p",
        "outputId": "b955627a-e17c-445b-b76f-81eb0472b67d"
      },
      "outputs": [
        {
          "output_type": "execute_result",
          "data": {
            "text/plain": [
              "                     NaN Count  NaN Percentage (%)\n",
              "id                           0                 0.0\n",
              "Age                          0                 0.0\n",
              "Gender                       0                 0.0\n",
              "Education Level              0                 0.0\n",
              "Job Title                    0                 0.0\n",
              "Years of Experience          0                 0.0\n",
              "Description                  0                 0.0\n",
              "Salary                       0                 0.0"
            ],
            "text/html": [
              "\n",
              "  <div id=\"df-34198489-bc01-421d-aac6-e6bc02e74ff9\" class=\"colab-df-container\">\n",
              "    <div>\n",
              "<style scoped>\n",
              "    .dataframe tbody tr th:only-of-type {\n",
              "        vertical-align: middle;\n",
              "    }\n",
              "\n",
              "    .dataframe tbody tr th {\n",
              "        vertical-align: top;\n",
              "    }\n",
              "\n",
              "    .dataframe thead th {\n",
              "        text-align: right;\n",
              "    }\n",
              "</style>\n",
              "<table border=\"1\" class=\"dataframe\">\n",
              "  <thead>\n",
              "    <tr style=\"text-align: right;\">\n",
              "      <th></th>\n",
              "      <th>NaN Count</th>\n",
              "      <th>NaN Percentage (%)</th>\n",
              "    </tr>\n",
              "  </thead>\n",
              "  <tbody>\n",
              "    <tr>\n",
              "      <th>id</th>\n",
              "      <td>0</td>\n",
              "      <td>0.0</td>\n",
              "    </tr>\n",
              "    <tr>\n",
              "      <th>Age</th>\n",
              "      <td>0</td>\n",
              "      <td>0.0</td>\n",
              "    </tr>\n",
              "    <tr>\n",
              "      <th>Gender</th>\n",
              "      <td>0</td>\n",
              "      <td>0.0</td>\n",
              "    </tr>\n",
              "    <tr>\n",
              "      <th>Education Level</th>\n",
              "      <td>0</td>\n",
              "      <td>0.0</td>\n",
              "    </tr>\n",
              "    <tr>\n",
              "      <th>Job Title</th>\n",
              "      <td>0</td>\n",
              "      <td>0.0</td>\n",
              "    </tr>\n",
              "    <tr>\n",
              "      <th>Years of Experience</th>\n",
              "      <td>0</td>\n",
              "      <td>0.0</td>\n",
              "    </tr>\n",
              "    <tr>\n",
              "      <th>Description</th>\n",
              "      <td>0</td>\n",
              "      <td>0.0</td>\n",
              "    </tr>\n",
              "    <tr>\n",
              "      <th>Salary</th>\n",
              "      <td>0</td>\n",
              "      <td>0.0</td>\n",
              "    </tr>\n",
              "  </tbody>\n",
              "</table>\n",
              "</div>\n",
              "    <div class=\"colab-df-buttons\">\n",
              "\n",
              "  <div class=\"colab-df-container\">\n",
              "    <button class=\"colab-df-convert\" onclick=\"convertToInteractive('df-34198489-bc01-421d-aac6-e6bc02e74ff9')\"\n",
              "            title=\"Convert this dataframe to an interactive table.\"\n",
              "            style=\"display:none;\">\n",
              "\n",
              "  <svg xmlns=\"http://www.w3.org/2000/svg\" height=\"24px\" viewBox=\"0 -960 960 960\">\n",
              "    <path d=\"M120-120v-720h720v720H120Zm60-500h600v-160H180v160Zm220 220h160v-160H400v160Zm0 220h160v-160H400v160ZM180-400h160v-160H180v160Zm440 0h160v-160H620v160ZM180-180h160v-160H180v160Zm440 0h160v-160H620v160Z\"/>\n",
              "  </svg>\n",
              "    </button>\n",
              "\n",
              "  <style>\n",
              "    .colab-df-container {\n",
              "      display:flex;\n",
              "      gap: 12px;\n",
              "    }\n",
              "\n",
              "    .colab-df-convert {\n",
              "      background-color: #E8F0FE;\n",
              "      border: none;\n",
              "      border-radius: 50%;\n",
              "      cursor: pointer;\n",
              "      display: none;\n",
              "      fill: #1967D2;\n",
              "      height: 32px;\n",
              "      padding: 0 0 0 0;\n",
              "      width: 32px;\n",
              "    }\n",
              "\n",
              "    .colab-df-convert:hover {\n",
              "      background-color: #E2EBFA;\n",
              "      box-shadow: 0px 1px 2px rgba(60, 64, 67, 0.3), 0px 1px 3px 1px rgba(60, 64, 67, 0.15);\n",
              "      fill: #174EA6;\n",
              "    }\n",
              "\n",
              "    .colab-df-buttons div {\n",
              "      margin-bottom: 4px;\n",
              "    }\n",
              "\n",
              "    [theme=dark] .colab-df-convert {\n",
              "      background-color: #3B4455;\n",
              "      fill: #D2E3FC;\n",
              "    }\n",
              "\n",
              "    [theme=dark] .colab-df-convert:hover {\n",
              "      background-color: #434B5C;\n",
              "      box-shadow: 0px 1px 3px 1px rgba(0, 0, 0, 0.15);\n",
              "      filter: drop-shadow(0px 1px 2px rgba(0, 0, 0, 0.3));\n",
              "      fill: #FFFFFF;\n",
              "    }\n",
              "  </style>\n",
              "\n",
              "    <script>\n",
              "      const buttonEl =\n",
              "        document.querySelector('#df-34198489-bc01-421d-aac6-e6bc02e74ff9 button.colab-df-convert');\n",
              "      buttonEl.style.display =\n",
              "        google.colab.kernel.accessAllowed ? 'block' : 'none';\n",
              "\n",
              "      async function convertToInteractive(key) {\n",
              "        const element = document.querySelector('#df-34198489-bc01-421d-aac6-e6bc02e74ff9');\n",
              "        const dataTable =\n",
              "          await google.colab.kernel.invokeFunction('convertToInteractive',\n",
              "                                                    [key], {});\n",
              "        if (!dataTable) return;\n",
              "\n",
              "        const docLinkHtml = 'Like what you see? Visit the ' +\n",
              "          '<a target=\"_blank\" href=https://colab.research.google.com/notebooks/data_table.ipynb>data table notebook</a>'\n",
              "          + ' to learn more about interactive tables.';\n",
              "        element.innerHTML = '';\n",
              "        dataTable['output_type'] = 'display_data';\n",
              "        await google.colab.output.renderOutput(dataTable, element);\n",
              "        const docLink = document.createElement('div');\n",
              "        docLink.innerHTML = docLinkHtml;\n",
              "        element.appendChild(docLink);\n",
              "      }\n",
              "    </script>\n",
              "  </div>\n",
              "\n",
              "\n",
              "<div id=\"df-1d278202-79e7-4e88-a3ab-468fc79dc9c6\">\n",
              "  <button class=\"colab-df-quickchart\" onclick=\"quickchart('df-1d278202-79e7-4e88-a3ab-468fc79dc9c6')\"\n",
              "            title=\"Suggest charts\"\n",
              "            style=\"display:none;\">\n",
              "\n",
              "<svg xmlns=\"http://www.w3.org/2000/svg\" height=\"24px\"viewBox=\"0 0 24 24\"\n",
              "     width=\"24px\">\n",
              "    <g>\n",
              "        <path d=\"M19 3H5c-1.1 0-2 .9-2 2v14c0 1.1.9 2 2 2h14c1.1 0 2-.9 2-2V5c0-1.1-.9-2-2-2zM9 17H7v-7h2v7zm4 0h-2V7h2v10zm4 0h-2v-4h2v4z\"/>\n",
              "    </g>\n",
              "</svg>\n",
              "  </button>\n",
              "\n",
              "<style>\n",
              "  .colab-df-quickchart {\n",
              "      --bg-color: #E8F0FE;\n",
              "      --fill-color: #1967D2;\n",
              "      --hover-bg-color: #E2EBFA;\n",
              "      --hover-fill-color: #174EA6;\n",
              "      --disabled-fill-color: #AAA;\n",
              "      --disabled-bg-color: #DDD;\n",
              "  }\n",
              "\n",
              "  [theme=dark] .colab-df-quickchart {\n",
              "      --bg-color: #3B4455;\n",
              "      --fill-color: #D2E3FC;\n",
              "      --hover-bg-color: #434B5C;\n",
              "      --hover-fill-color: #FFFFFF;\n",
              "      --disabled-bg-color: #3B4455;\n",
              "      --disabled-fill-color: #666;\n",
              "  }\n",
              "\n",
              "  .colab-df-quickchart {\n",
              "    background-color: var(--bg-color);\n",
              "    border: none;\n",
              "    border-radius: 50%;\n",
              "    cursor: pointer;\n",
              "    display: none;\n",
              "    fill: var(--fill-color);\n",
              "    height: 32px;\n",
              "    padding: 0;\n",
              "    width: 32px;\n",
              "  }\n",
              "\n",
              "  .colab-df-quickchart:hover {\n",
              "    background-color: var(--hover-bg-color);\n",
              "    box-shadow: 0 1px 2px rgba(60, 64, 67, 0.3), 0 1px 3px 1px rgba(60, 64, 67, 0.15);\n",
              "    fill: var(--button-hover-fill-color);\n",
              "  }\n",
              "\n",
              "  .colab-df-quickchart-complete:disabled,\n",
              "  .colab-df-quickchart-complete:disabled:hover {\n",
              "    background-color: var(--disabled-bg-color);\n",
              "    fill: var(--disabled-fill-color);\n",
              "    box-shadow: none;\n",
              "  }\n",
              "\n",
              "  .colab-df-spinner {\n",
              "    border: 2px solid var(--fill-color);\n",
              "    border-color: transparent;\n",
              "    border-bottom-color: var(--fill-color);\n",
              "    animation:\n",
              "      spin 1s steps(1) infinite;\n",
              "  }\n",
              "\n",
              "  @keyframes spin {\n",
              "    0% {\n",
              "      border-color: transparent;\n",
              "      border-bottom-color: var(--fill-color);\n",
              "      border-left-color: var(--fill-color);\n",
              "    }\n",
              "    20% {\n",
              "      border-color: transparent;\n",
              "      border-left-color: var(--fill-color);\n",
              "      border-top-color: var(--fill-color);\n",
              "    }\n",
              "    30% {\n",
              "      border-color: transparent;\n",
              "      border-left-color: var(--fill-color);\n",
              "      border-top-color: var(--fill-color);\n",
              "      border-right-color: var(--fill-color);\n",
              "    }\n",
              "    40% {\n",
              "      border-color: transparent;\n",
              "      border-right-color: var(--fill-color);\n",
              "      border-top-color: var(--fill-color);\n",
              "    }\n",
              "    60% {\n",
              "      border-color: transparent;\n",
              "      border-right-color: var(--fill-color);\n",
              "    }\n",
              "    80% {\n",
              "      border-color: transparent;\n",
              "      border-right-color: var(--fill-color);\n",
              "      border-bottom-color: var(--fill-color);\n",
              "    }\n",
              "    90% {\n",
              "      border-color: transparent;\n",
              "      border-bottom-color: var(--fill-color);\n",
              "    }\n",
              "  }\n",
              "</style>\n",
              "\n",
              "  <script>\n",
              "    async function quickchart(key) {\n",
              "      const quickchartButtonEl =\n",
              "        document.querySelector('#' + key + ' button');\n",
              "      quickchartButtonEl.disabled = true;  // To prevent multiple clicks.\n",
              "      quickchartButtonEl.classList.add('colab-df-spinner');\n",
              "      try {\n",
              "        const charts = await google.colab.kernel.invokeFunction(\n",
              "            'suggestCharts', [key], {});\n",
              "      } catch (error) {\n",
              "        console.error('Error during call to suggestCharts:', error);\n",
              "      }\n",
              "      quickchartButtonEl.classList.remove('colab-df-spinner');\n",
              "      quickchartButtonEl.classList.add('colab-df-quickchart-complete');\n",
              "    }\n",
              "    (() => {\n",
              "      let quickchartButtonEl =\n",
              "        document.querySelector('#df-1d278202-79e7-4e88-a3ab-468fc79dc9c6 button');\n",
              "      quickchartButtonEl.style.display =\n",
              "        google.colab.kernel.accessAllowed ? 'block' : 'none';\n",
              "    })();\n",
              "  </script>\n",
              "</div>\n",
              "\n",
              "    </div>\n",
              "  </div>\n"
            ],
            "application/vnd.google.colaboratory.intrinsic+json": {
              "type": "dataframe",
              "summary": "{\n  \"name\": \"missing_data_table(df)\",\n  \"rows\": 8,\n  \"fields\": [\n    {\n      \"column\": \"NaN Count\",\n      \"properties\": {\n        \"dtype\": \"number\",\n        \"std\": 0,\n        \"min\": 0,\n        \"max\": 0,\n        \"num_unique_values\": 1,\n        \"samples\": [\n          0\n        ],\n        \"semantic_type\": \"\",\n        \"description\": \"\"\n      }\n    },\n    {\n      \"column\": \"NaN Percentage (%)\",\n      \"properties\": {\n        \"dtype\": \"number\",\n        \"std\": 0.0,\n        \"min\": 0.0,\n        \"max\": 0.0,\n        \"num_unique_values\": 1,\n        \"samples\": [\n          0.0\n        ],\n        \"semantic_type\": \"\",\n        \"description\": \"\"\n      }\n    }\n  ]\n}"
            }
          },
          "metadata": {},
          "execution_count": 73
        }
      ],
      "source": [
        "missing_data_table(df)"
      ]
    },
    {
      "cell_type": "markdown",
      "metadata": {
        "id": "Jw6BEAgUOUpG"
      },
      "source": [
        "## Outliers"
      ]
    },
    {
      "cell_type": "code",
      "execution_count": 74,
      "metadata": {
        "colab": {
          "base_uri": "https://localhost:8080/",
          "height": 300
        },
        "id": "COMxrIITQk_e",
        "outputId": "f22f36e0-56d9-47aa-9140-04d0290f4939"
      },
      "outputs": [
        {
          "output_type": "execute_result",
          "data": {
            "text/plain": [
              "               id         Age  Years of Experience         Salary\n",
              "count  358.000000  358.000000           358.000000     358.000000\n",
              "mean   185.946927   37.446927            10.065642  100880.865922\n",
              "std    109.122371    7.090944             6.588486   48512.245167\n",
              "min      0.000000   23.000000             0.000000     350.000000\n",
              "25%     91.250000   31.250000             4.000000   55000.000000\n",
              "50%    185.500000   36.000000             9.000000   95000.000000\n",
              "75%    280.750000   44.000000            15.750000  140000.000000\n",
              "max    374.000000   53.000000            25.000000  250000.000000"
            ],
            "text/html": [
              "\n",
              "  <div id=\"df-87cec6ce-8c41-4bb1-9cd9-042c363f55a1\" class=\"colab-df-container\">\n",
              "    <div>\n",
              "<style scoped>\n",
              "    .dataframe tbody tr th:only-of-type {\n",
              "        vertical-align: middle;\n",
              "    }\n",
              "\n",
              "    .dataframe tbody tr th {\n",
              "        vertical-align: top;\n",
              "    }\n",
              "\n",
              "    .dataframe thead th {\n",
              "        text-align: right;\n",
              "    }\n",
              "</style>\n",
              "<table border=\"1\" class=\"dataframe\">\n",
              "  <thead>\n",
              "    <tr style=\"text-align: right;\">\n",
              "      <th></th>\n",
              "      <th>id</th>\n",
              "      <th>Age</th>\n",
              "      <th>Years of Experience</th>\n",
              "      <th>Salary</th>\n",
              "    </tr>\n",
              "  </thead>\n",
              "  <tbody>\n",
              "    <tr>\n",
              "      <th>count</th>\n",
              "      <td>358.000000</td>\n",
              "      <td>358.000000</td>\n",
              "      <td>358.000000</td>\n",
              "      <td>358.000000</td>\n",
              "    </tr>\n",
              "    <tr>\n",
              "      <th>mean</th>\n",
              "      <td>185.946927</td>\n",
              "      <td>37.446927</td>\n",
              "      <td>10.065642</td>\n",
              "      <td>100880.865922</td>\n",
              "    </tr>\n",
              "    <tr>\n",
              "      <th>std</th>\n",
              "      <td>109.122371</td>\n",
              "      <td>7.090944</td>\n",
              "      <td>6.588486</td>\n",
              "      <td>48512.245167</td>\n",
              "    </tr>\n",
              "    <tr>\n",
              "      <th>min</th>\n",
              "      <td>0.000000</td>\n",
              "      <td>23.000000</td>\n",
              "      <td>0.000000</td>\n",
              "      <td>350.000000</td>\n",
              "    </tr>\n",
              "    <tr>\n",
              "      <th>25%</th>\n",
              "      <td>91.250000</td>\n",
              "      <td>31.250000</td>\n",
              "      <td>4.000000</td>\n",
              "      <td>55000.000000</td>\n",
              "    </tr>\n",
              "    <tr>\n",
              "      <th>50%</th>\n",
              "      <td>185.500000</td>\n",
              "      <td>36.000000</td>\n",
              "      <td>9.000000</td>\n",
              "      <td>95000.000000</td>\n",
              "    </tr>\n",
              "    <tr>\n",
              "      <th>75%</th>\n",
              "      <td>280.750000</td>\n",
              "      <td>44.000000</td>\n",
              "      <td>15.750000</td>\n",
              "      <td>140000.000000</td>\n",
              "    </tr>\n",
              "    <tr>\n",
              "      <th>max</th>\n",
              "      <td>374.000000</td>\n",
              "      <td>53.000000</td>\n",
              "      <td>25.000000</td>\n",
              "      <td>250000.000000</td>\n",
              "    </tr>\n",
              "  </tbody>\n",
              "</table>\n",
              "</div>\n",
              "    <div class=\"colab-df-buttons\">\n",
              "\n",
              "  <div class=\"colab-df-container\">\n",
              "    <button class=\"colab-df-convert\" onclick=\"convertToInteractive('df-87cec6ce-8c41-4bb1-9cd9-042c363f55a1')\"\n",
              "            title=\"Convert this dataframe to an interactive table.\"\n",
              "            style=\"display:none;\">\n",
              "\n",
              "  <svg xmlns=\"http://www.w3.org/2000/svg\" height=\"24px\" viewBox=\"0 -960 960 960\">\n",
              "    <path d=\"M120-120v-720h720v720H120Zm60-500h600v-160H180v160Zm220 220h160v-160H400v160Zm0 220h160v-160H400v160ZM180-400h160v-160H180v160Zm440 0h160v-160H620v160ZM180-180h160v-160H180v160Zm440 0h160v-160H620v160Z\"/>\n",
              "  </svg>\n",
              "    </button>\n",
              "\n",
              "  <style>\n",
              "    .colab-df-container {\n",
              "      display:flex;\n",
              "      gap: 12px;\n",
              "    }\n",
              "\n",
              "    .colab-df-convert {\n",
              "      background-color: #E8F0FE;\n",
              "      border: none;\n",
              "      border-radius: 50%;\n",
              "      cursor: pointer;\n",
              "      display: none;\n",
              "      fill: #1967D2;\n",
              "      height: 32px;\n",
              "      padding: 0 0 0 0;\n",
              "      width: 32px;\n",
              "    }\n",
              "\n",
              "    .colab-df-convert:hover {\n",
              "      background-color: #E2EBFA;\n",
              "      box-shadow: 0px 1px 2px rgba(60, 64, 67, 0.3), 0px 1px 3px 1px rgba(60, 64, 67, 0.15);\n",
              "      fill: #174EA6;\n",
              "    }\n",
              "\n",
              "    .colab-df-buttons div {\n",
              "      margin-bottom: 4px;\n",
              "    }\n",
              "\n",
              "    [theme=dark] .colab-df-convert {\n",
              "      background-color: #3B4455;\n",
              "      fill: #D2E3FC;\n",
              "    }\n",
              "\n",
              "    [theme=dark] .colab-df-convert:hover {\n",
              "      background-color: #434B5C;\n",
              "      box-shadow: 0px 1px 3px 1px rgba(0, 0, 0, 0.15);\n",
              "      filter: drop-shadow(0px 1px 2px rgba(0, 0, 0, 0.3));\n",
              "      fill: #FFFFFF;\n",
              "    }\n",
              "  </style>\n",
              "\n",
              "    <script>\n",
              "      const buttonEl =\n",
              "        document.querySelector('#df-87cec6ce-8c41-4bb1-9cd9-042c363f55a1 button.colab-df-convert');\n",
              "      buttonEl.style.display =\n",
              "        google.colab.kernel.accessAllowed ? 'block' : 'none';\n",
              "\n",
              "      async function convertToInteractive(key) {\n",
              "        const element = document.querySelector('#df-87cec6ce-8c41-4bb1-9cd9-042c363f55a1');\n",
              "        const dataTable =\n",
              "          await google.colab.kernel.invokeFunction('convertToInteractive',\n",
              "                                                    [key], {});\n",
              "        if (!dataTable) return;\n",
              "\n",
              "        const docLinkHtml = 'Like what you see? Visit the ' +\n",
              "          '<a target=\"_blank\" href=https://colab.research.google.com/notebooks/data_table.ipynb>data table notebook</a>'\n",
              "          + ' to learn more about interactive tables.';\n",
              "        element.innerHTML = '';\n",
              "        dataTable['output_type'] = 'display_data';\n",
              "        await google.colab.output.renderOutput(dataTable, element);\n",
              "        const docLink = document.createElement('div');\n",
              "        docLink.innerHTML = docLinkHtml;\n",
              "        element.appendChild(docLink);\n",
              "      }\n",
              "    </script>\n",
              "  </div>\n",
              "\n",
              "\n",
              "<div id=\"df-222b9e2c-15bb-47d3-a61d-c5624bd1092d\">\n",
              "  <button class=\"colab-df-quickchart\" onclick=\"quickchart('df-222b9e2c-15bb-47d3-a61d-c5624bd1092d')\"\n",
              "            title=\"Suggest charts\"\n",
              "            style=\"display:none;\">\n",
              "\n",
              "<svg xmlns=\"http://www.w3.org/2000/svg\" height=\"24px\"viewBox=\"0 0 24 24\"\n",
              "     width=\"24px\">\n",
              "    <g>\n",
              "        <path d=\"M19 3H5c-1.1 0-2 .9-2 2v14c0 1.1.9 2 2 2h14c1.1 0 2-.9 2-2V5c0-1.1-.9-2-2-2zM9 17H7v-7h2v7zm4 0h-2V7h2v10zm4 0h-2v-4h2v4z\"/>\n",
              "    </g>\n",
              "</svg>\n",
              "  </button>\n",
              "\n",
              "<style>\n",
              "  .colab-df-quickchart {\n",
              "      --bg-color: #E8F0FE;\n",
              "      --fill-color: #1967D2;\n",
              "      --hover-bg-color: #E2EBFA;\n",
              "      --hover-fill-color: #174EA6;\n",
              "      --disabled-fill-color: #AAA;\n",
              "      --disabled-bg-color: #DDD;\n",
              "  }\n",
              "\n",
              "  [theme=dark] .colab-df-quickchart {\n",
              "      --bg-color: #3B4455;\n",
              "      --fill-color: #D2E3FC;\n",
              "      --hover-bg-color: #434B5C;\n",
              "      --hover-fill-color: #FFFFFF;\n",
              "      --disabled-bg-color: #3B4455;\n",
              "      --disabled-fill-color: #666;\n",
              "  }\n",
              "\n",
              "  .colab-df-quickchart {\n",
              "    background-color: var(--bg-color);\n",
              "    border: none;\n",
              "    border-radius: 50%;\n",
              "    cursor: pointer;\n",
              "    display: none;\n",
              "    fill: var(--fill-color);\n",
              "    height: 32px;\n",
              "    padding: 0;\n",
              "    width: 32px;\n",
              "  }\n",
              "\n",
              "  .colab-df-quickchart:hover {\n",
              "    background-color: var(--hover-bg-color);\n",
              "    box-shadow: 0 1px 2px rgba(60, 64, 67, 0.3), 0 1px 3px 1px rgba(60, 64, 67, 0.15);\n",
              "    fill: var(--button-hover-fill-color);\n",
              "  }\n",
              "\n",
              "  .colab-df-quickchart-complete:disabled,\n",
              "  .colab-df-quickchart-complete:disabled:hover {\n",
              "    background-color: var(--disabled-bg-color);\n",
              "    fill: var(--disabled-fill-color);\n",
              "    box-shadow: none;\n",
              "  }\n",
              "\n",
              "  .colab-df-spinner {\n",
              "    border: 2px solid var(--fill-color);\n",
              "    border-color: transparent;\n",
              "    border-bottom-color: var(--fill-color);\n",
              "    animation:\n",
              "      spin 1s steps(1) infinite;\n",
              "  }\n",
              "\n",
              "  @keyframes spin {\n",
              "    0% {\n",
              "      border-color: transparent;\n",
              "      border-bottom-color: var(--fill-color);\n",
              "      border-left-color: var(--fill-color);\n",
              "    }\n",
              "    20% {\n",
              "      border-color: transparent;\n",
              "      border-left-color: var(--fill-color);\n",
              "      border-top-color: var(--fill-color);\n",
              "    }\n",
              "    30% {\n",
              "      border-color: transparent;\n",
              "      border-left-color: var(--fill-color);\n",
              "      border-top-color: var(--fill-color);\n",
              "      border-right-color: var(--fill-color);\n",
              "    }\n",
              "    40% {\n",
              "      border-color: transparent;\n",
              "      border-right-color: var(--fill-color);\n",
              "      border-top-color: var(--fill-color);\n",
              "    }\n",
              "    60% {\n",
              "      border-color: transparent;\n",
              "      border-right-color: var(--fill-color);\n",
              "    }\n",
              "    80% {\n",
              "      border-color: transparent;\n",
              "      border-right-color: var(--fill-color);\n",
              "      border-bottom-color: var(--fill-color);\n",
              "    }\n",
              "    90% {\n",
              "      border-color: transparent;\n",
              "      border-bottom-color: var(--fill-color);\n",
              "    }\n",
              "  }\n",
              "</style>\n",
              "\n",
              "  <script>\n",
              "    async function quickchart(key) {\n",
              "      const quickchartButtonEl =\n",
              "        document.querySelector('#' + key + ' button');\n",
              "      quickchartButtonEl.disabled = true;  // To prevent multiple clicks.\n",
              "      quickchartButtonEl.classList.add('colab-df-spinner');\n",
              "      try {\n",
              "        const charts = await google.colab.kernel.invokeFunction(\n",
              "            'suggestCharts', [key], {});\n",
              "      } catch (error) {\n",
              "        console.error('Error during call to suggestCharts:', error);\n",
              "      }\n",
              "      quickchartButtonEl.classList.remove('colab-df-spinner');\n",
              "      quickchartButtonEl.classList.add('colab-df-quickchart-complete');\n",
              "    }\n",
              "    (() => {\n",
              "      let quickchartButtonEl =\n",
              "        document.querySelector('#df-222b9e2c-15bb-47d3-a61d-c5624bd1092d button');\n",
              "      quickchartButtonEl.style.display =\n",
              "        google.colab.kernel.accessAllowed ? 'block' : 'none';\n",
              "    })();\n",
              "  </script>\n",
              "</div>\n",
              "\n",
              "    </div>\n",
              "  </div>\n"
            ],
            "application/vnd.google.colaboratory.intrinsic+json": {
              "type": "dataframe",
              "summary": "{\n  \"name\": \"df\",\n  \"rows\": 8,\n  \"fields\": [\n    {\n      \"column\": \"id\",\n      \"properties\": {\n        \"dtype\": \"number\",\n        \"std\": 132.1383711889602,\n        \"min\": 0.0,\n        \"max\": 374.0,\n        \"num_unique_values\": 8,\n        \"samples\": [\n          185.94692737430168,\n          185.5,\n          358.0\n        ],\n        \"semantic_type\": \"\",\n        \"description\": \"\"\n      }\n    },\n    {\n      \"column\": \"Age\",\n      \"properties\": {\n        \"dtype\": \"number\",\n        \"std\": 115.68547240702152,\n        \"min\": 7.090944163647435,\n        \"max\": 358.0,\n        \"num_unique_values\": 8,\n        \"samples\": [\n          37.44692737430167,\n          36.0,\n          358.0\n        ],\n        \"semantic_type\": \"\",\n        \"description\": \"\"\n      }\n    },\n    {\n      \"column\": \"Years of Experience\",\n      \"properties\": {\n        \"dtype\": \"number\",\n        \"std\": 123.25207947992274,\n        \"min\": 0.0,\n        \"max\": 358.0,\n        \"num_unique_values\": 8,\n        \"samples\": [\n          10.065642458100559,\n          9.0,\n          358.0\n        ],\n        \"semantic_type\": \"\",\n        \"description\": \"\"\n      }\n    },\n    {\n      \"column\": \"Salary\",\n      \"properties\": {\n        \"dtype\": \"number\",\n        \"std\": 82072.0021544637,\n        \"min\": 350.0,\n        \"max\": 250000.0,\n        \"num_unique_values\": 8,\n        \"samples\": [\n          100880.86592178771,\n          95000.0,\n          358.0\n        ],\n        \"semantic_type\": \"\",\n        \"description\": \"\"\n      }\n    }\n  ]\n}"
            }
          },
          "metadata": {},
          "execution_count": 74
        }
      ],
      "source": [
        "df.describe()"
      ]
    },
    {
      "cell_type": "markdown",
      "metadata": {
        "id": "OelH4o1AWY7s"
      },
      "source": [
        "Select numerical and categorical columns"
      ]
    },
    {
      "cell_type": "code",
      "execution_count": 75,
      "metadata": {
        "id": "L9tUkDbuU1vc"
      },
      "outputs": [],
      "source": [
        "# Select only numerical columns\n",
        "numerical_cols = df.select_dtypes(include=np.number).columns\n",
        "# Drop the 'id' column\n",
        "numerical_cols = numerical_cols.drop('id', errors='ignore')\n",
        "\n",
        "# Select only categorical columns\n",
        "categorical_cols = df.select_dtypes(include=['object']).columns"
      ]
    },
    {
      "cell_type": "markdown",
      "metadata": {
        "id": "NxDKej6_vCxx"
      },
      "source": [
        "We will use boxplots to visually detect the presence of outliers,"
      ]
    },
    {
      "cell_type": "code",
      "execution_count": 76,
      "metadata": {
        "colab": {
          "base_uri": "https://localhost:8080/",
          "height": 443
        },
        "id": "x_KdhmqxQ-OQ",
        "outputId": "f5be025d-8cab-4f6e-a207-152f5638a7bf"
      },
      "outputs": [
        {
          "output_type": "display_data",
          "data": {
            "text/plain": [
              "<Figure size 1800x500 with 3 Axes>"
            ],
            "image/png": "[encoded data removed]"
          },
          "metadata": {}
        }
      ],
      "source": [
        "boxplots(df, numerical_cols)"
      ]
    },
    {
      "cell_type": "markdown",
      "metadata": {
        "id": "z-p9Y0NXYZe8"
      },
      "source": [
        "We did not notice outliers in the numerical columns."
      ]
    },
    {
      "cell_type": "markdown",
      "metadata": {
        "id": "pBVQFcZhgJi-"
      },
      "source": [
        "## Visualizing the data"
      ]
    },
    {
      "cell_type": "markdown",
      "metadata": {
        "id": "SWLTcSAphH6f"
      },
      "source": [
        "We will visualize the data to explore the distribution of numerical features, identify potential outliers and variability, and examine relationships between variables, including feature correlations."
      ]
    },
    {
      "cell_type": "code",
      "execution_count": 77,
      "metadata": {
        "colab": {
          "base_uri": "https://localhost:8080/",
          "height": 639
        },
        "id": "MeZbLEJkYHbE",
        "outputId": "ffa573f2-fe5b-4772-ab90-ad1c56853dcf"
      },
      "outputs": [
        {
          "output_type": "display_data",
          "data": {
            "text/plain": [
              "<Figure size 1800x400 with 3 Axes>"
            ],
            "image/png": "[encoded data removed]"
          },
          "metadata": {}
        },
        {
          "output_type": "display_data",
          "data": {
            "text/plain": [
              "<Figure size 1200x400 with 2 Axes>"
            ],
            "image/png": "[encoded data removed]"
          },
          "metadata": {}
        }
      ],
      "source": [
        "# Plot numerical features (histogram)\n",
        "create_plots(numerical_cols, lambda col, ax: sns.histplot(df, x=col, kde=True, ax=ax))\n",
        "\n",
        "# Plot categorical features (bar chart)\n",
        "categorical_cols_for_graph = categorical_cols.drop(['Description', 'Job Title'], errors='ignore')\n",
        "create_plots(\n",
        "    categorical_cols_for_graph,\n",
        "    lambda col, ax: (\n",
        "        sns.countplot(y=col, data=df, ax=ax, color=\"mediumpurple\"),\n",
        "        ax.bar_label(\n",
        "            ax.containers[0],\n",
        "            labels=[\n",
        "                f'{(v / df[col].notna().sum() * 100):.1f}%'\n",
        "                for v in df[col].value_counts().sort_index(ascending=False).values\n",
        "            ],\n",
        "            padding=5,\n",
        "            fontsize=10\n",
        "        )\n",
        "    ),\n",
        "    n_cols=2,\n",
        ")"
      ]
    },
    {
      "cell_type": "markdown",
      "metadata": {
        "id": "5mtM3j4gizyx"
      },
      "source": [
        "### Distribution of numerical columns\n",
        "\n",
        "#### **Age**\n",
        "- The distribution is slightly right-skewed, but generally well-balanced.\n",
        "- Most individuals fall between 30 and 45 years old, with a peak around the early 30s. This suggests the dataset includes a significant number of early- to mid-career professionals.\n",
        "- There's a drop-off after age 50, and only a small number of entries under 25. That aligns with typical workforce demographics, where fewer very young or senior-aged professionals are present.\n",
        "- This distribution seems fairly representative for industries that rely on some level of experience, though it might underrepresent entry-level or late-career professionals.\n",
        "\n",
        "#### **Years of Experience**\n",
        "- This distribution is noticeably right-skewed, with a heavy concentration in the lower range (0–10 years).\n",
        "- There's a sharp peak at around 2–5 years, suggesting a large portion of the dataset includes people early in their careers.\n",
        "- Beyond 15 years, the number of individuals tapers off significantly, and there are very few with more than 20 years of experience.\n",
        "- This pattern likely reflects a workforce with many junior to mid-level professionals and a relatively smaller number of senior experts.\n",
        "- It's also worth noting the potential for overlap between very young ages and missing experience values — this could indicate interns, students, or newly hired workers with incomplete data.\n",
        "\n",
        "\n",
        "#### **Salary**\n",
        "- Salary is the most skewed of the three distributions — there's a long right tail, indicating a smaller number of high earners.\n",
        "- Most salaries cluster between 30,000 and 150,000, with common peaks around 50K–70K and another noticeable bump closer to 100K.\n",
        "- A few entries go beyond $200,000, but these are outliers. Depending on the context of the dataset (e.g., tech, finance), these could represent executives, specialists, or outlier roles.\n",
        "- This distribution might benefit from a transformation before modeling, especially if we’re using algorithms sensitive to skewed distributions.\n",
        "- Since Salary is the target variable, understanding its shape helps inform how we deal with both missing values and potential outliers.\n",
        "\n",
        "\n",
        "\n",
        "**Summary**\n",
        "- These distributions give us a clearer picture of the population: largely early- to mid-career professionals with moderate salaries and limited long-term experience.\n",
        "- Before modeling, we may want to:\n",
        "  - **Explore correlations** between Age, Experience, and Salary.\n",
        "  - **Segment by role or education** to better understand how these factors interact across groups."
      ]
    },
    {
      "cell_type": "markdown",
      "metadata": {
        "id": "cnoVmwTR0GKm"
      },
      "source": [
        "### Distribution of categorical columns\n",
        "\n",
        "#### **Gender**\n",
        "- The gender distribution is fairly balanced, with:\n",
        "  - 52.5% Male\n",
        "  - 47.5% Female\n",
        "- This slight male majority suggests no major gender imbalance, which is great from a modeling perspective—it reduces the risk of gender-related bias.\n",
        "\n",
        "#### **Education Level**\n",
        "- Education level is a bit more skewed, with the majority of individuals holding a Bachelor’s degree (59.5%).\n",
        "- This is followed by:\n",
        "  - Master’s degrees at 26.5%\n",
        "  - PhDs at 14%\n",
        "- The dominance of Bachelor’s degrees suggests the dataset leans toward entry-level or general professional roles rather than academic or specialized research positions.\n",
        "- The fairly strong presence of advanced degrees (40.5% have a Master’s or PhD) still indicates a well-educated population, which might influence things like salary expectations or job responsibilities.\n",
        "\n",
        "**Summary**\n",
        "- **Gender** is close to evenly split, with a small male majority.\n",
        "- **Education** is skewed toward Bachelor’s degrees, but there’s a strong representation of postgraduate qualifications."
      ]
    },
    {
      "cell_type": "markdown",
      "metadata": {
        "id": "hterLhYvhXJw"
      },
      "source": [
        "\n",
        "**Notes on 'Description' and 'Job Title' Columns**\n",
        "\n",
        "The 'Description' and 'Job Title' columns contain a large number of unique values, which makes them high-cardinality features.\n",
        "\n",
        "- These fields are text-heavy and unstructured, especially 'Description', which might contain free-form input or role-specific notes.\n",
        "- 'Job Title', although more structured, still includes a wide variety of titles, often with slight variations (e.g., \"Software Engineer\", \"Software Developer\", \"Sr. Software Engineer\"), which can add complexity when grouping or analyzing them.\n",
        "\n",
        "Due to this high cardinality, these columns are not ideal for straightforward visualization or encoding without preprocessing. For now, we will be excluding them temporarily from exploratory visualizations, as they don’t lend themselves well to simple bar plots.\n",
        "\n",
        "But later on, we may consider:\n",
        "- **Standardizing job titles** (e.g., grouping by role family or level),\n",
        "- **Extracting features from descriptions** (e.g., NLP techniques)"
      ]
    },
    {
      "cell_type": "markdown",
      "metadata": {
        "id": "LBx0Kc8Q0Jg3"
      },
      "source": [
        "### Relationships between variables"
      ]
    },
    {
      "cell_type": "markdown",
      "metadata": {
        "id": "vnM-jBDX6kQe"
      },
      "source": [
        "Now, we'll observed the relationship between explanatory variables and target"
      ]
    },
    {
      "cell_type": "code",
      "execution_count": 78,
      "metadata": {
        "colab": {
          "base_uri": "https://localhost:8080/",
          "height": 693
        },
        "id": "Ag3yviNGYwDO",
        "outputId": "9f9de5ef-dbb2-4005-96de-22a145597a66"
      },
      "outputs": [
        {
          "output_type": "display_data",
          "data": {
            "text/plain": [
              "<Figure size 1800x800 with 4 Axes>"
            ],
            "image/png": "[encoded data removed]"
          },
          "metadata": {}
        }
      ],
      "source": [
        "scatterplot(df)"
      ]
    },
    {
      "cell_type": "markdown",
      "metadata": {
        "id": "BWKZqodH6WX2"
      },
      "source": [
        "This figure displays scatter plots showing how various features relate to the target variable, **Salary**.\n",
        "\n",
        " **Age vs. Salary** *(Top-left)*  \n",
        "There is a clear positive trend, as age increases, salary tends to increase as well.  \n",
        "This suggests that older individuals typically earn higher salaries, possibly due to increased experience or seniority.\n",
        "\n",
        " **Gender vs. Salary** *(Top-right)*  \n",
        "The salary distribution between Male and Female appears relatively similar at first glance.  \n",
        "\n",
        " **Education Level vs. Salary** *(Bottom-left)*  \n",
        "There seems to be some variation in salary across education levels:\n",
        "- Individuals with a PhD often earn more, on average.\n",
        "- Those with Bachelor's and Master’s degrees show a wider spread in salaries.\n",
        "\n",
        "**Years of Experience vs. Salary** *(Bottom-right)*  \n",
        "This feature shows a strong positive relationship with salary, more years of experience are generally associated with higher earnings.  \n",
        "This is likely one of the most influential variables in determining salary."
      ]
    },
    {
      "cell_type": "markdown",
      "metadata": {
        "id": "hEEKnLMi7ZOW"
      },
      "source": [
        "Let's create some boxplots for more detail in Gender vs. Salary and Education Level vs. Salary to see these relationships with more detail."
      ]
    },
    {
      "cell_type": "code",
      "execution_count": 79,
      "metadata": {
        "colab": {
          "base_uri": "https://localhost:8080/",
          "height": 472
        },
        "id": "-G-eLwS74PQ9",
        "outputId": "42501559-fce1-4248-b1d2-7311dfdce1f7"
      },
      "outputs": [
        {
          "output_type": "display_data",
          "data": {
            "text/plain": [
              "<Figure size 640x480 with 1 Axes>"
            ],
            "image/png": "[encoded data removed]"
          },
          "metadata": {}
        }
      ],
      "source": [
        "sns.boxplot(x='Gender', y='Salary', data=df)\n",
        "plt.title('Distribución de Salary por Gender')\n",
        "plt.show()"
      ]
    },
    {
      "cell_type": "markdown",
      "metadata": {
        "id": "QCDQi_wn79_I"
      },
      "source": [
        "While both genders have a similar central distribution, men show slightly higher median salaries and a broader spread, especially toward the top.\n",
        "This may indicate potential differences in salary ceiling, though a formal statistical test (like an independent t-test) is recommended to confirm whether the difference is significant."
      ]
    },
    {
      "cell_type": "markdown",
      "metadata": {
        "id": "WMGYQJj08eI_"
      },
      "source": [
        "An independent t-test (also called a two-sample t-test) is a statistical test used to compare the means of two independent groups to see if there's a statistically significant difference between them.\n",
        "\n",
        "You use an independent t-test when:\n",
        "\n",
        "- You have two groups (e.g., Male vs. Female).\n",
        "\n",
        "- You want to compare their average values for some numeric variable (e.g., Salary).\n",
        "\n",
        "- The groups are independent (one person can't be in both groups).\n",
        "\n",
        "If p-value < 0.05 → There is a statistically significant difference in salaries between genders.\n",
        "\n",
        "If p-value >= 0.05 → There is no significant evidence of a salary difference by gender.\n",
        "\n"
      ]
    },
    {
      "cell_type": "code",
      "execution_count": 80,
      "metadata": {
        "colab": {
          "base_uri": "https://localhost:8080/"
        },
        "id": "zbU2912X7zsR",
        "outputId": "364a428e-30a0-42e5-ad1a-f0f8c41d9320"
      },
      "outputs": [
        {
          "output_type": "stream",
          "name": "stdout",
          "text": [
            "T-statistic: 1.6247\n",
            "P-value: 0.1051\n"
          ]
        }
      ],
      "source": [
        "# Filter salary data by gender\n",
        "male_salaries = df[df['Gender'] == 'Male']['Salary']\n",
        "female_salaries = df[df['Gender'] == 'Female']['Salary']\n",
        "\n",
        "# Perform independent t-test\n",
        "t_stat, p_value = ttest_ind(male_salaries, female_salaries, equal_var=False)\n",
        "\n",
        "print(f\"T-statistic: {t_stat:.4f}\")\n",
        "print(f\"P-value: {p_value:.4f}\")"
      ]
    },
    {
      "cell_type": "markdown",
      "metadata": {
        "id": "07i-BUh-8yKG"
      },
      "source": [
        "Since the p-value (0.1051) is greater than 0.05, we do not have sufficient statistical evidence to conclude that there's a significant difference in salary between males and females in your dataset.\n",
        "\n",
        "In other words, while the boxplot visually suggests that males might earn slightly more on average, the difference is not statistically significant based on this sample."
      ]
    },
    {
      "cell_type": "code",
      "execution_count": 81,
      "metadata": {
        "colab": {
          "base_uri": "https://localhost:8080/",
          "height": 519
        },
        "id": "4PY1YLSf4Rrd",
        "outputId": "2b8db845-225e-47ab-e645-8350f5710392"
      },
      "outputs": [
        {
          "output_type": "display_data",
          "data": {
            "text/plain": [
              "<Figure size 640x480 with 1 Axes>"
            ],
            "image/png": "[encoded data removed]"
          },
          "metadata": {}
        }
      ],
      "source": [
        "sns.boxplot(x='Education Level', y='Salary', data=df)\n",
        "plt.title('Distribución de Salary por Education Level')\n",
        "plt.xticks(rotation=45)\n",
        "plt.show()"
      ]
    },
    {
      "cell_type": "markdown",
      "metadata": {
        "id": "OMZAiwHX9D4I"
      },
      "source": [
        "This box plot shows the distribution of salaries across different education levels—Bachelor’s, Master’s, and PhD. We see that:\n",
        "\n",
        "Bachelor's degree holders generally earn lower salaries, with a wider range and several low-end values.\n",
        "\n",
        "Master's degree holders show a higher median salary than Bachelor's, with a broader interquartile range (IQR), suggesting more variability in earnings.\n",
        "\n",
        "PhD holders have consistently high salaries, with a higher minimum salary and a narrower range compared to the other two. Most salaries are tightly grouped around the upper end, though a few outliers exist.\n",
        "\n",
        "The box plot suggests a positive relationship between education level and salary—higher education tends to correlate with higher earnings."
      ]
    },
    {
      "cell_type": "markdown",
      "metadata": {
        "id": "whtKTNspBZ9H"
      },
      "source": [
        "### Correlation matrix"
      ]
    },
    {
      "cell_type": "code",
      "execution_count": 82,
      "metadata": {
        "colab": {
          "base_uri": "https://localhost:8080/",
          "height": 528
        },
        "id": "kW7CfdM6Y1E1",
        "outputId": "67e0ddcc-3734-4010-8420-4b027379082e"
      },
      "outputs": [
        {
          "output_type": "display_data",
          "data": {
            "text/plain": [
              "<Figure size 600x600 with 2 Axes>"
            ],
            "image/png": "[encoded data removed]"
          },
          "metadata": {}
        }
      ],
      "source": [
        "corr = df[numerical_cols].corr().round(1)\n",
        "plt.figure(figsize=(6, 6))\n",
        "sns.heatmap(corr, annot=True, cmap=\"coolwarm\", center=0)\n",
        "plt.show()"
      ]
    },
    {
      "cell_type": "markdown",
      "metadata": {
        "id": "Q3rSqqjV2w43"
      },
      "source": [
        "All three variables are strongly positively correlated, especially Age and Experience. This is expected, as older individuals typically have more experience, and both are strongly linked to higher salaries. These strong correlations suggest a potential multicollinearity issue if all three variables are used as predictors in a regression model."
      ]
    },
    {
      "cell_type": "markdown",
      "metadata": {
        "id": "5ZUaphF6PRx3"
      },
      "source": [
        "## Feature Engineer"
      ]
    },
    {
      "cell_type": "markdown",
      "metadata": {
        "id": "j5B259NCZWB1"
      },
      "source": [
        "### Train - test split"
      ]
    },
    {
      "cell_type": "markdown",
      "metadata": {
        "id": "rDC4Zue5FzKq"
      },
      "source": [
        "Now, we have to extract features from descriptions, but first we will split the dataset in train, test and validation datasets.\n",
        "\n",
        "When using pretrained models like BERT for feature extraction, you’re still technically learning from the text, even if the model is frozen. If you generate embeddings on the whole dataset before splitting, there’s a risk of data leakage, especially if any of the downstream steps (e.g., dimensionality reduction, scaling, or feature selection) are also applied before splitting."
      ]
    },
    {
      "cell_type": "code",
      "execution_count": 83,
      "metadata": {
        "id": "p7vPQyduKFXZ"
      },
      "outputs": [],
      "source": [
        "X_train, X_test, y_train, y_test = train_test_split(\n",
        "    df.drop(columns=['Salary']),\n",
        "    df['Salary'],\n",
        "    test_size=0.2,\n",
        "    random_state=42\n",
        ")"
      ]
    },
    {
      "cell_type": "markdown",
      "metadata": {
        "id": "xyCTf5mGJRBp"
      },
      "source": [
        "The FeatureEngineer class performs feature engineering by creating new, more useful features from raw data. We should use the FeatureEngineer class after splitting the data into train and test sets to avoid data leakage — that is, allowing information from the test set to influence the training process.\n",
        "\n",
        "Even though FeatureEngineer doesn’t \"learn\" from the data (no .fit() logic), you should still apply it only on the training data first, then separately on the test data, to simulate real-world conditions and preserve model evaluation integrity.\n",
        "\n",
        "The feature engineering like extracting \"Seniority\", \"Role_family\", and a new numeric feature \"Exp_education\", it's safe to apply before splitting the data, since this transformation is based only on existing columns (no target involved).\n",
        "\n",
        "But the scaling and encoding (transformer) should only be fit on the training set."
      ]
    },
    {
      "cell_type": "code",
      "execution_count": 84,
      "metadata": {
        "id": "CTrKnin8F4a3"
      },
      "outputs": [],
      "source": [
        "# Inicialize pipeline\n",
        "full_pipeline = build_pipeline()\n",
        "\n",
        "# Fit only on training data\n",
        "X_train_transformed = full_pipeline.fit_transform(X_train)\n",
        "\n",
        "# Apply the fitted transformer to test\n",
        "X_test_transformed = full_pipeline.transform(X_test)"
      ]
    },
    {
      "cell_type": "markdown",
      "metadata": {
        "id": "dfTPigpiOb8o"
      },
      "source": [
        "### Extracting features from descriptions"
      ]
    },
    {
      "cell_type": "markdown",
      "metadata": {
        "id": "8IIGzowUBZ9N"
      },
      "source": [
        "Now, we will convert the raw job descriptions into semantic vectors for downstream ML tasks using a lightweight transformer model. We will use the pretrained Sentence Transformer model, 'all-MiniLM-L6-v2'. This is a fast and compact transformer model (384-dimensional embeddings).  \n",
        "\n",
        "This way, we will:\n",
        "- Transform unstructured text into machine-readable features for ML models.  \n",
        "- Preserve semantic meaning (similar jobs → similar vectors).  "
      ]
    },
    {
      "cell_type": "markdown",
      "metadata": {
        "id": "-1TpyzIQQNX9"
      },
      "source": [
        "# Model Training and Evaluation"
      ]
    },
    {
      "cell_type": "markdown",
      "metadata": {
        "id": "dX3DRNDKBZ9O"
      },
      "source": [
        "## Model Training"
      ]
    },
    {
      "cell_type": "code",
      "execution_count": 85,
      "metadata": {
        "colab": {
          "base_uri": "https://localhost:8080/",
          "height": 81,
          "referenced_widgets": [
            "5ba8978866a94ec2a40d1161ee1d977e",
            "e44ce8e7d58344cbb08b2ebaf2a889db",
            "dad2433f985a4b21ab1e407311ecd8c6",
            "3e5eb2b108414aa19da9bcda3fe9b519",
            "7ff19d94e4f841f7966c6569fbe4cb41",
            "c4c99c39f07a446a9980ba455d6767fc",
            "61bef9ee77d34581a480f46285132133",
            "b50e82d7f2f84dffaedc3cccf3f404e2",
            "4710bcc2e6d740bba9bc6fb4012586af",
            "5a4ce46e07824b07bbfe3c14625c415b",
            "e6ad34470efb4b9cb3b39530d666b4f1",
            "d3320faa038f4f26afccd6f0a689b0ed",
            "b93044abbced48b9bb23efd6ac39a1cd",
            "6d192a4cb35c485cac50a7ea163cf75b",
            "3dd7d7dc6dd4490e9edef753d065a8ba",
            "57a88aa8141a415695c7728074477336",
            "d211f89598b1441f8081d0ab3f0969cc",
            "81dde360b5f8470e9f10928d8d60b78c",
            "e46b0124307d48419cc0a411528a8210",
            "028a865c5ab44890965905ffd74a13c6",
            "e73e73f52e46412fabad886073cc9ccf",
            "6b1c9d92c0ac41188742c152c19d50f0"
          ]
        },
        "id": "XevS6cVCIDWJ",
        "outputId": "5d9aa416-ccbc-4632-bbfe-e11e01fbe312"
      },
      "outputs": [
        {
          "output_type": "display_data",
          "data": {
            "text/plain": [
              "Batches:   0%|          | 0/9 [00:00<?, ?it/s]"
            ],
            "application/vnd.jupyter.widget-view+json": {
              "version_major": 2,
              "version_minor": 0,
              "model_id": "5ba8978866a94ec2a40d1161ee1d977e"
            }
          },
          "metadata": {}
        },
        {
          "output_type": "display_data",
          "data": {
            "text/plain": [
              "Batches:   0%|          | 0/3 [00:00<?, ?it/s]"
            ],
            "application/vnd.jupyter.widget-view+json": {
              "version_major": 2,
              "version_minor": 0,
              "model_id": "d3320faa038f4f26afccd6f0a689b0ed"
            }
          },
          "metadata": {}
        }
      ],
      "source": [
        "# Load a pretrained sentence transformer model\n",
        "model = SentenceTransformer('all-MiniLM-L6-v2')  # Small and fast, good quality\n",
        "\n",
        "# Clean the raw text descriptions\n",
        "X_train['Description_clean'] = X_train['Description'].fillna('').str.lower()\n",
        "X_test['Description_clean'] = X_test['Description'].fillna('').str.lower()\n",
        "\n",
        "# Generate embeddings\n",
        "train_embeddings = model.encode(X_train['Description_clean'].tolist(), show_progress_bar=True)\n",
        "test_embeddings = model.encode(X_test['Description_clean'].tolist(), show_progress_bar=True)"
      ]
    },
    {
      "cell_type": "markdown",
      "metadata": {
        "id": "bTARG7NFQZhA"
      },
      "source": [
        "Combine text embeddings with the numerical and categorical features, then train a model using the full feature set."
      ]
    },
    {
      "cell_type": "code",
      "execution_count": 86,
      "metadata": {
        "colab": {
          "base_uri": "https://localhost:8080/"
        },
        "id": "W6FmCir8RgkZ",
        "outputId": "1a4e7a13-23b4-4f36-a657-7eb1ef5347d0"
      },
      "outputs": [
        {
          "output_type": "stream",
          "name": "stdout",
          "text": [
            "Tabular shape: (286, 21)\n",
            "Embeddings shape: (286, 384)\n"
          ]
        }
      ],
      "source": [
        "# Make sure the shapes match (just for sanity)\n",
        "print(\"Tabular shape:\", X_train_transformed.shape)\n",
        "print(\"Embeddings shape:\", train_embeddings.shape)\n",
        "\n",
        "# Combine the feature sets\n",
        "X_train_final = np.hstack([X_train_transformed, train_embeddings])\n",
        "X_test_final = np.hstack([X_test_transformed, test_embeddings])"
      ]
    },
    {
      "cell_type": "markdown",
      "metadata": {
        "id": "hv3XmOZ729TJ"
      },
      "source": [
        "We´ll train a RandomForestRegressor model with hyperparameter optimization using optuna."
      ]
    },
    {
      "cell_type": "code",
      "execution_count": 87,
      "metadata": {
        "colab": {
          "base_uri": "https://localhost:8080/"
        },
        "id": "2N42AACqT6PZ",
        "outputId": "f0e2ebdf-aaf0-4844-881b-85db84e58e9d"
      },
      "outputs": [
        {
          "output_type": "stream",
          "name": "stderr",
          "text": [
            "[I 2025-04-22 15:28:17,752] A new study created in memory with name: no-name-ecdde2de-6556-4443-a0c1-c2053ece23e5\n",
            "[I 2025-04-22 15:30:23,860] Trial 0 finished with value: -14026.220424320796 and parameters: {'n_estimators': 986, 'max_depth': 12, 'min_samples_split': 18}. Best is trial 0 with value: -14026.220424320796.\n",
            "[I 2025-04-22 15:32:22,210] Trial 1 finished with value: -14020.506068580366 and parameters: {'n_estimators': 959, 'max_depth': 13, 'min_samples_split': 19}. Best is trial 1 with value: -14020.506068580366.\n",
            "[I 2025-04-22 15:33:33,117] Trial 2 finished with value: -13939.724527284276 and parameters: {'n_estimators': 499, 'max_depth': 6, 'min_samples_split': 10}. Best is trial 2 with value: -13939.724527284276.\n",
            "[I 2025-04-22 15:35:27,649] Trial 3 finished with value: -13935.166447224114 and parameters: {'n_estimators': 753, 'max_depth': 13, 'min_samples_split': 9}. Best is trial 3 with value: -13935.166447224114.\n",
            "[I 2025-04-22 15:37:00,067] Trial 4 finished with value: -13979.18104803879 and parameters: {'n_estimators': 579, 'max_depth': 13, 'min_samples_split': 7}. Best is trial 3 with value: -13935.166447224114.\n",
            "[I 2025-04-22 15:37:34,288] Trial 5 finished with value: -14035.685582094817 and parameters: {'n_estimators': 309, 'max_depth': 4, 'min_samples_split': 7}. Best is trial 3 with value: -13935.166447224114.\n",
            "[I 2025-04-22 15:37:53,210] Trial 6 finished with value: -14163.892546663268 and parameters: {'n_estimators': 138, 'max_depth': 15, 'min_samples_split': 16}. Best is trial 3 with value: -13935.166447224114.\n",
            "[I 2025-04-22 15:40:26,382] Trial 7 finished with value: -13983.31858744969 and parameters: {'n_estimators': 975, 'max_depth': 15, 'min_samples_split': 7}. Best is trial 3 with value: -13935.166447224114.\n",
            "[I 2025-04-22 15:41:14,829] Trial 8 finished with value: -13998.054634437805 and parameters: {'n_estimators': 322, 'max_depth': 13, 'min_samples_split': 10}. Best is trial 3 with value: -13935.166447224114.\n",
            "[I 2025-04-22 15:41:29,615] Trial 9 finished with value: -14271.96111748768 and parameters: {'n_estimators': 130, 'max_depth': 4, 'min_samples_split': 2}. Best is trial 3 with value: -13935.166447224114.\n",
            "[I 2025-04-22 15:43:10,408] Trial 10 finished with value: -13998.76693750342 and parameters: {'n_estimators': 751, 'max_depth': 9, 'min_samples_split': 14}. Best is trial 3 with value: -13935.166447224114.\n",
            "[I 2025-04-22 15:44:46,284] Trial 11 finished with value: -13991.517711468283 and parameters: {'n_estimators': 653, 'max_depth': 7, 'min_samples_split': 11}. Best is trial 3 with value: -13935.166447224114.\n",
            "[I 2025-04-22 15:46:26,825] Trial 12 finished with value: -14001.134405404042 and parameters: {'n_estimators': 742, 'max_depth': 7, 'min_samples_split': 13}. Best is trial 3 with value: -13935.166447224114.\n",
            "[I 2025-04-22 15:47:44,004] Trial 13 finished with value: -14004.615133939404 and parameters: {'n_estimators': 448, 'max_depth': 10, 'min_samples_split': 3}. Best is trial 3 with value: -13935.166447224114.\n",
            "[I 2025-04-22 15:49:42,273] Trial 14 finished with value: -14010.433256049797 and parameters: {'n_estimators': 822, 'max_depth': 6, 'min_samples_split': 9}. Best is trial 3 with value: -13935.166447224114.\n",
            "[I 2025-04-22 15:51:04,898] Trial 15 finished with value: -13940.235488900333 and parameters: {'n_estimators': 489, 'max_depth': 10, 'min_samples_split': 4}. Best is trial 3 with value: -13935.166447224114.\n",
            "[I 2025-04-22 15:51:57,396] Trial 16 finished with value: -14463.504027581317 and parameters: {'n_estimators': 602, 'max_depth': 3, 'min_samples_split': 12}. Best is trial 3 with value: -13935.166447224114.\n",
            "[I 2025-04-22 15:53:05,282] Trial 17 finished with value: -13990.23223607892 and parameters: {'n_estimators': 411, 'max_depth': 8, 'min_samples_split': 5}. Best is trial 3 with value: -13935.166447224114.\n",
            "[I 2025-04-22 15:54:59,747] Trial 18 finished with value: -13988.434239540005 and parameters: {'n_estimators': 873, 'max_depth': 11, 'min_samples_split': 15}. Best is trial 3 with value: -13935.166447224114.\n",
            "[I 2025-04-22 15:56:36,417] Trial 19 finished with value: -14021.953656205596 and parameters: {'n_estimators': 735, 'max_depth': 5, 'min_samples_split': 9}. Best is trial 3 with value: -13935.166447224114.\n",
            "[I 2025-04-22 15:58:19,882] Trial 20 finished with value: -13975.364758374268 and parameters: {'n_estimators': 650, 'max_depth': 8, 'min_samples_split': 6}. Best is trial 3 with value: -13935.166447224114.\n",
            "[I 2025-04-22 15:59:43,098] Trial 21 finished with value: -13942.533853111989 and parameters: {'n_estimators': 493, 'max_depth': 10, 'min_samples_split': 4}. Best is trial 3 with value: -13935.166447224114.\n",
            "[I 2025-04-22 16:00:34,300] Trial 22 finished with value: -13921.782690233664 and parameters: {'n_estimators': 346, 'max_depth': 11, 'min_samples_split': 9}. Best is trial 22 with value: -13921.782690233664.\n",
            "[I 2025-04-22 16:01:24,306] Trial 23 finished with value: -13939.058745008204 and parameters: {'n_estimators': 327, 'max_depth': 12, 'min_samples_split': 9}. Best is trial 22 with value: -13921.782690233664.\n",
            "[I 2025-04-22 16:01:59,263] Trial 24 finished with value: -14011.463301157823 and parameters: {'n_estimators': 231, 'max_depth': 12, 'min_samples_split': 8}. Best is trial 22 with value: -13921.782690233664.\n"
          ]
        }
      ],
      "source": [
        "best_model = train_model(X_train_final, y_train)"
      ]
    },
    {
      "cell_type": "markdown",
      "metadata": {
        "id": "ApFbQRjXBZ9S"
      },
      "source": [
        "## Model Evaluation"
      ]
    },
    {
      "cell_type": "markdown",
      "metadata": {
        "id": "Tm-Ky7TQYE3V"
      },
      "source": [
        "As we want to report the metrics as intervals, we will use the function bootstrap_metrics, that is used to estimate confidence intervals for your model's performance metrics using a technique called bootstrapping.\n",
        "This works by doing resamples the original prediction results (with replacement) many times (by default, 1000).\n",
        "\n",
        "For each resampled set, it computes:\n",
        "\n",
        "RMSE (Root Mean Squared Error)\n",
        "\n",
        "MAE (Mean Absolute Error)\n",
        "\n",
        "R² Score\n",
        "\n",
        "Finally, it returns the 2.5th and 97.5th percentiles for each metric. This gives a 95% confidence interval, showing the expected variability in model performance."
      ]
    },
    {
      "cell_type": "markdown",
      "metadata": {
        "id": "RqGm9K8TgOKB"
      },
      "source": [
        "Why each metric is used:\n",
        "1. RMSE (Root Mean Squared Error)\n",
        "- Measures the average magnitude of the error, penalizing larger errors more heavily due to the square.\n",
        "- Is useful when you want to be stricter with large deviations.\n",
        "- Units are the same as the target variable (e.g., salary).\n",
        "\n",
        "2. MAE (Mean Absolute Error)\n",
        "- Measures the average absolute difference between predictions and true values.\n",
        "\n",
        "- More robust to outliers than RMSE, since it doesn’t square the errors.\n",
        "\n",
        "3. R² Score (Coefficient of Determination)\n",
        "- Represents the proportion of variance explained by the model.\n",
        "\n",
        "- Ranges from 0 (no predictive power) to 1 (perfect prediction), can also be negative for bad models.\n",
        "\n",
        "We use all three together for a well-rounded view.\n",
        "\n",
        "For comparing with a baseline like a DummyRegressor, we use RMSE and MAE.\n",
        "These show how much better your model predicts compared to simply guessing the average. If your RMSE and MAE are significantly lower than the baseline’s, your model is learning real patterns.\n",
        "\n",
        "\n",
        "The DummyRegressor(strategy='mean') always predicts the same value: the mean of the training set wages."
      ]
    },
    {
      "cell_type": "code",
      "execution_count": 88,
      "metadata": {
        "colab": {
          "base_uri": "https://localhost:8080/"
        },
        "id": "FqxICNeNbkz9",
        "outputId": "1b64abad-e313-47c4-d904-040af450adba"
      },
      "outputs": [
        {
          "output_type": "stream",
          "name": "stdout",
          "text": [
            "Final Model - 95% Confidence Intervals:\n",
            "RMSE: 10507.51 to 26616.92\n",
            "MAE:  7678.65 to 14530.77\n",
            "R²:   0.767 to 0.952\n"
          ]
        }
      ],
      "source": [
        "# Predicted values based on the test set\n",
        "y_test_pred = best_model.predict(X_test_final)\n",
        "\n",
        "# Bootstrapped 95% CI for RMSE, MAE, and R²\n",
        "model_ci = bootstrap_metrics(y_test.values, y_test_pred)\n",
        "\n",
        "print(\"Final Model - 95% Confidence Intervals:\")\n",
        "print(f\"RMSE: {model_ci[0][0]:.2f} to {model_ci[1][0]:.2f}\")\n",
        "print(f\"MAE:  {model_ci[0][1]:.2f} to {model_ci[1][1]:.2f}\")\n",
        "print(f\"R²:   {model_ci[0][2]:.3f} to {model_ci[1][2]:.3f}\")"
      ]
    },
    {
      "cell_type": "markdown",
      "metadata": {
        "id": "fW1HybmnkNm4"
      },
      "source": [
        "Using bootstrapping (1,000 resamples), we estimated the uncertainty around our model's evaluation metrics. The results are as follows:\n",
        "\n",
        "RMSE (Root Mean Squared Error):\n",
        "This indicates that, on average, the model's prediction error ranges within this window, with larger errors being more heavily penalized.\n",
        "\n",
        "MAE (Mean Absolute Error):\n",
        "This tells us that, across multiple samples, the model's average error in absolute terms (regardless of direction) falls in this range. It tells you: “On average, how far off is my prediction?”\n",
        "\n",
        "R² (Coefficient of Determination):\n",
        "This suggests that the model explains between 76.7% and 95.2% of the variance in the target variable, showing a high and stable level of predictive power across different bootstrapped samples.\n",
        "\n"
      ]
    },
    {
      "cell_type": "markdown",
      "metadata": {
        "id": "H_vuv7V2UwVZ"
      },
      "source": [
        "Compare with baseline"
      ]
    },
    {
      "cell_type": "code",
      "execution_count": 89,
      "metadata": {
        "colab": {
          "base_uri": "https://localhost:8080/"
        },
        "id": "sXofJZX2UtVc",
        "outputId": "c96eebff-2790-4142-f356-f2c3fc4ed1e5"
      },
      "outputs": [
        {
          "output_type": "stream",
          "name": "stdout",
          "text": [
            "Final Model - 95% Confidence Intervals:\n",
            "RMSE: 10526.69 to 27367.28\n",
            "MAE:  7725.17 to 14580.45\n",
            "R²:   0.752 to 0.951\n",
            "\n",
            " Baseline DummyRegressor - 95% Confidence Intervals:\n",
            "RMSE: 45057.24 to 58240.67\n",
            "MAE:  38567.36 to 50186.34\n",
            "R²:   -0.173 to -0.000\n"
          ]
        }
      ],
      "source": [
        "evaluate_model_with_baseline(best_model, X_train_final, y_train, X_test_final, y_test)"
      ]
    },
    {
      "cell_type": "markdown",
      "metadata": {
        "id": "cwLVcZPGwVrK"
      },
      "source": [
        "\n",
        "Metric-by-Metric Comparison\n",
        "\n",
        "- Root Mean Squared Error (RMSE)\n",
        "\n",
        "RMSE emphasizes large errors by squaring them, making it a good metric for penalizing big misses. The trained model shows a clear reduction in RMSE, meaning it consistently produces salary estimates much closer to the real values than the baseline.\n",
        "\n",
        "\n",
        "- Mean Absolute Error (MAE)\n",
        "\n",
        "MAE reflects the average size of errors without giving more weight to larger ones. The trained model's MAE is less than half that of the baseline, confirming that its predictions are not only more accurate on average but also more consistent and less prone to major deviations.\n",
        "\n",
        "- R² Score (Coefficient of Determination)**\n",
        "\n",
        "R² indicates how much of the variance in salaries the model can explain. The baseline's R² is near zero or even negative—meaning it doesn't explain the data at all. On the other hand, the trained model explains **75% to 95%** of the variance, a strong indication of meaningful learning and solid predictive performance.\n",
        "\n",
        "**Conclusion**\n",
        "\n",
        "Across all metrics the trained model delivers a much stronger performance than the baseline. The improvement is both statistically significant and practically meaningful.\n",
        "\n",
        "These results suggest that the model is well-calibrated, robust, and likely to generalize well to unseen data. It's a reliable step forward for any task involving salary prediction and shows that your feature engineering and modeling pipeline are effectively capturing the underlying structure of the problem."
      ]
    },
    {
      "cell_type": "markdown",
      "metadata": {
        "id": "1VGGZqp_BZ9Y"
      },
      "source": [
        "# Results Visualization"
      ]
    },
    {
      "cell_type": "code",
      "execution_count": null,
      "metadata": {
        "id": "U58VF2R3Mpj0"
      },
      "outputs": [],
      "source": [
        "!pip install shap"
      ]
    },
    {
      "cell_type": "markdown",
      "metadata": {
        "id": "j94_WAlgWHDe"
      },
      "source": [
        "## SHAP Feature Importance Analysis"
      ]
    },
    {
      "cell_type": "markdown",
      "metadata": {
        "id": "EfoDbij5Mtub"
      },
      "source": [
        "We will performs SHAP (SHapley Additive exPlanations) analysis to interpret how each feature contributes to the predictions of your machine learning model. SHAP values help explain the impact of individual features, making the model's decisions more transparent.\n",
        "\n"
      ]
    },
    {
      "source": [
        "# Drop auxiliar columns\n",
        "columns_to_drop = ['Description', 'Description_clean']\n",
        "existing_columns = [col for col in columns_to_drop if col in X_test.columns]\n",
        "X_test_filtered = X_test.drop(columns=existing_columns, errors='ignore')"
      ],
      "cell_type": "code",
      "metadata": {
        "id": "NWR7pCvjlPnw"
      },
      "execution_count": null,
      "outputs": []
    },
    {
      "cell_type": "code",
      "execution_count": 92,
      "metadata": {
        "colab": {
          "base_uri": "https://localhost:8080/",
          "height": 437
        },
        "id": "XXnonMoWPNd-",
        "outputId": "98bc1b86-6846-46d7-c2e6-858d94eb7385"
      },
      "outputs": [
        {
          "output_type": "display_data",
          "data": {
            "text/plain": [
              "<Figure size 800x430 with 1 Axes>"
            ],
            "image/png": "[encoded data removed]"
          },
          "metadata": {}
        }
      ],
      "source": [
        "plot_shap_feature_importance(best_model, X_test_final, X_test_filtered)"
      ]
    },
    {
      "cell_type": "markdown",
      "metadata": {
        "id": "Feo_EsysYErO"
      },
      "source": [
        "The SHAP summary plot reveals the relative contribution of each feature to the model’s predictions. The most dominant feature by far is Text_Embeddings, indicating that the semantic information captured from job descriptions plays the largest role in predicting salary. This suggests that the model heavily relies on the contextual understanding of the job postings, as encoded by the embeddings.\n",
        "\n",
        "The next most influential feature, albeit much less significant, is Education Level, Description, and Age. Features such as Gender, Years of Experience, and Job Title appear to have negligible influence on the model's output.\n",
        "\n",
        "This outcome highlights the power of text embeddings in capturing complex patterns from unstructured data, often surpassing the predictive value of traditional categorical or numerical variables. However, it also underscores the importance of ensuring high-quality and representative text data, as the model’s performance is highly dependent on it.\n"
      ]
    },
    {
      "cell_type": "markdown",
      "metadata": {
        "id": "2EUsk5riUE8I"
      },
      "source": [
        "## Prediction vs Actual Plot"
      ]
    },
    {
      "cell_type": "markdown",
      "metadata": {
        "id": "sx9t57EtU-Qx"
      },
      "source": [
        "This plot shows the relationship between the actual salaries from the test set (y_test) and the salaries predicted by the model (y_test_pred). Each point represents a single prediction. Ideally, if the model were perfect, all points would lie exactly on the diagonal dashed line, where the predicted salary equals the actual salary.\n",
        "\n",
        "The dashed line serves as a reference for perfect predictions. The closer the points are to this line, the more accurate the predictions. If points are spread far from the line, it indicates prediction errors. This kind of plot is useful for visually assessing the performance of a regression model and spotting potential patterns of over- or underestimation."
      ]
    },
    {
      "cell_type": "code",
      "execution_count": 93,
      "metadata": {
        "colab": {
          "base_uri": "https://localhost:8080/",
          "height": 564
        },
        "id": "6xKbLO6ORKY4",
        "outputId": "c9d0837f-e6c3-44f5-f54e-54b7cb40a7ba"
      },
      "outputs": [
        {
          "output_type": "display_data",
          "data": {
            "text/plain": [
              "<Figure size 1000x600 with 1 Axes>"
            ],
            "image/png": "[encoded data removed]"
          },
          "metadata": {}
        }
      ],
      "source": [
        "plt.figure(figsize=(10, 6))\n",
        "sns.scatterplot(x=y_test, y=y_test_pred)\n",
        "plt.plot([y_test.min(), y_test.max()], [y_test.min(), y_test.max()], 'k--')\n",
        "plt.xlabel('Actual Salary')\n",
        "plt.ylabel('Predicted Salary')\n",
        "plt.title('Actual vs Predicted Salaries')\n",
        "plt.show()"
      ]
    },
    {
      "cell_type": "markdown",
      "metadata": {
        "id": "xZJ9sdrlVsJZ"
      },
      "source": [
        "The scatter plot comparing actual versus predicted salaries indicates that the model performs reasonably well overall. Most predictions fall close to the ideal diagonal line, suggesting that the model has successfully captured the general relationship between the input features and the target variable (salary). This alignment reflects a good fit across much of the salary range.\n",
        "\n",
        "However, some patterns are worth noting. At higher salary levels, predictions tend to become more dispersed and occasionally fall below the actual values. This suggests that the model may struggle slightly with accurately predicting very high salaries, potentially underestimating them. This behavior is common when there are fewer high-salary examples in the training data or when the model is not complex enough to fully capture non-linear patterns in the data.\n",
        "\n",
        "In summary, the model is making accurate predictions for the majority of cases, especially within the mid-range of salaries, but there may be room for improvement in capturing the behavior of high-income roles, for example, addressing class imbalance could help mitigate these issues."
      ]
    },
    {
      "cell_type": "markdown",
      "source": [
        "Let´s save the trained model and preprocessing pipeline"
      ],
      "metadata": {
        "id": "Xwaroh53XPR0"
      }
    },
    {
      "cell_type": "code",
      "source": [
        "import joblib\n",
        "joblib.dump(best_model, 'salary_model.pkl')\n",
        "joblib.dump(full_pipeline, 'preprocessing_pipeline.pkl')"
      ],
      "metadata": {
        "colab": {
          "base_uri": "https://localhost:8080/"
        },
        "id": "GAUwtLa1XLZ0",
        "outputId": "d914a278-2d77-4e4d-819a-a4e3ad114e29"
      },
      "execution_count": 94,
      "outputs": [
        {
          "data": {
            "text/plain": [
              "['preprocessing_pipeline.pkl']"
            ]
          },
          "execution_count": 94,
          "metadata": {},
          "output_type": "execute_result"
        }
      ]
    }
  ],
  "metadata": {
    "colab": {
      "toc_visible": true,
      "provenance": []
    },
    "kernelspec": {
      "display_name": "Python 3 (ipykernel)",
      "language": "python",
      "name": "python3"
    },
    "language_info": {
      "codemirror_mode": {
        "name": "ipython",
        "version": 3
      },
      "file_extension": ".py",
      "mimetype": "text/x-python",
      "name": "python",
      "nbconvert_exporter": "python",
      "pygments_lexer": "ipython3",
      "version": "3.11.8"
    },
    "widgets": {
      "application/vnd.jupyter.widget-state+json": {
        "5ba8978866a94ec2a40d1161ee1d977e": {
          "model_module": "@jupyter-widgets/controls",
          "model_name": "HBoxModel",
          "model_module_version": "1.5.0",
          "state": {
            "_dom_classes": [],
            "_model_module": "@jupyter-widgets/controls",
            "_model_module_version": "1.5.0",
            "_model_name": "HBoxModel",
            "_view_count": null,
            "_view_module": "@jupyter-widgets/controls",
            "_view_module_version": "1.5.0",
            "_view_name": "HBoxView",
            "box_style": "",
            "children": [
              "IPY_MODEL_e44ce8e7d58344cbb08b2ebaf2a889db",
              "IPY_MODEL_dad2433f985a4b21ab1e407311ecd8c6",
              "IPY_MODEL_3e5eb2b108414aa19da9bcda3fe9b519"
            ],
            "layout": "IPY_MODEL_7ff19d94e4f841f7966c6569fbe4cb41"
          }
        },
        "e44ce8e7d58344cbb08b2ebaf2a889db": {
          "model_module": "@jupyter-widgets/controls",
          "model_name": "HTMLModel",
          "model_module_version": "1.5.0",
          "state": {
            "_dom_classes": [],
            "_model_module": "@jupyter-widgets/controls",
            "_model_module_version": "1.5.0",
            "_model_name": "HTMLModel",
            "_view_count": null,
            "_view_module": "@jupyter-widgets/controls",
            "_view_module_version": "1.5.0",
            "_view_name": "HTMLView",
            "description": "",
            "description_tooltip": null,
            "layout": "IPY_MODEL_c4c99c39f07a446a9980ba455d6767fc",
            "placeholder": "​",
            "style": "IPY_MODEL_61bef9ee77d34581a480f46285132133",
            "value": "Batches: 100%"
          }
        },
        "dad2433f985a4b21ab1e407311ecd8c6": {
          "model_module": "@jupyter-widgets/controls",
          "model_name": "FloatProgressModel",
          "model_module_version": "1.5.0",
          "state": {
            "_dom_classes": [],
            "_model_module": "@jupyter-widgets/controls",
            "_model_module_version": "1.5.0",
            "_model_name": "FloatProgressModel",
            "_view_count": null,
            "_view_module": "@jupyter-widgets/controls",
            "_view_module_version": "1.5.0",
            "_view_name": "ProgressView",
            "bar_style": "success",
            "description": "",
            "description_tooltip": null,
            "layout": "IPY_MODEL_b50e82d7f2f84dffaedc3cccf3f404e2",
            "max": 9,
            "min": 0,
            "orientation": "horizontal",
            "style": "IPY_MODEL_4710bcc2e6d740bba9bc6fb4012586af",
            "value": 9
          }
        },
        "3e5eb2b108414aa19da9bcda3fe9b519": {
          "model_module": "@jupyter-widgets/controls",
          "model_name": "HTMLModel",
          "model_module_version": "1.5.0",
          "state": {
            "_dom_classes": [],
            "_model_module": "@jupyter-widgets/controls",
            "_model_module_version": "1.5.0",
            "_model_name": "HTMLModel",
            "_view_count": null,
            "_view_module": "@jupyter-widgets/controls",
            "_view_module_version": "1.5.0",
            "_view_name": "HTMLView",
            "description": "",
            "description_tooltip": null,
            "layout": "IPY_MODEL_5a4ce46e07824b07bbfe3c14625c415b",
            "placeholder": "​",
            "style": "IPY_MODEL_e6ad34470efb4b9cb3b39530d666b4f1",
            "value": " 9/9 [00:29&lt;00:00,  2.43s/it]"
          }
        },
        "7ff19d94e4f841f7966c6569fbe4cb41": {
          "model_module": "@jupyter-widgets/base",
          "model_name": "LayoutModel",
          "model_module_version": "1.2.0",
          "state": {
            "_model_module": "@jupyter-widgets/base",
            "_model_module_version": "1.2.0",
            "_model_name": "LayoutModel",
            "_view_count": null,
            "_view_module": "@jupyter-widgets/base",
            "_view_module_version": "1.2.0",
            "_view_name": "LayoutView",
            "align_content": null,
            "align_items": null,
            "align_self": null,
            "border": null,
            "bottom": null,
            "display": null,
            "flex": null,
            "flex_flow": null,
            "grid_area": null,
            "grid_auto_columns": null,
            "grid_auto_flow": null,
            "grid_auto_rows": null,
            "grid_column": null,
            "grid_gap": null,
            "grid_row": null,
            "grid_template_areas": null,
            "grid_template_columns": null,
            "grid_template_rows": null,
            "height": null,
            "justify_content": null,
            "justify_items": null,
            "left": null,
            "margin": null,
            "max_height": null,
            "max_width": null,
            "min_height": null,
            "min_width": null,
            "object_fit": null,
            "object_position": null,
            "order": null,
            "overflow": null,
            "overflow_x": null,
            "overflow_y": null,
            "padding": null,
            "right": null,
            "top": null,
            "visibility": null,
            "width": null
          }
        },
        "c4c99c39f07a446a9980ba455d6767fc": {
          "model_module": "@jupyter-widgets/base",
          "model_name": "LayoutModel",
          "model_module_version": "1.2.0",
          "state": {
            "_model_module": "@jupyter-widgets/base",
            "_model_module_version": "1.2.0",
            "_model_name": "LayoutModel",
            "_view_count": null,
            "_view_module": "@jupyter-widgets/base",
            "_view_module_version": "1.2.0",
            "_view_name": "LayoutView",
            "align_content": null,
            "align_items": null,
            "align_self": null,
            "border": null,
            "bottom": null,
            "display": null,
            "flex": null,
            "flex_flow": null,
            "grid_area": null,
            "grid_auto_columns": null,
            "grid_auto_flow": null,
            "grid_auto_rows": null,
            "grid_column": null,
            "grid_gap": null,
            "grid_row": null,
            "grid_template_areas": null,
            "grid_template_columns": null,
            "grid_template_rows": null,
            "height": null,
            "justify_content": null,
            "justify_items": null,
            "left": null,
            "margin": null,
            "max_height": null,
            "max_width": null,
            "min_height": null,
            "min_width": null,
            "object_fit": null,
            "object_position": null,
            "order": null,
            "overflow": null,
            "overflow_x": null,
            "overflow_y": null,
            "padding": null,
            "right": null,
            "top": null,
            "visibility": null,
            "width": null
          }
        },
        "61bef9ee77d34581a480f46285132133": {
          "model_module": "@jupyter-widgets/controls",
          "model_name": "DescriptionStyleModel",
          "model_module_version": "1.5.0",
          "state": {
            "_model_module": "@jupyter-widgets/controls",
            "_model_module_version": "1.5.0",
            "_model_name": "DescriptionStyleModel",
            "_view_count": null,
            "_view_module": "@jupyter-widgets/base",
            "_view_module_version": "1.2.0",
            "_view_name": "StyleView",
            "description_width": ""
          }
        },
        "b50e82d7f2f84dffaedc3cccf3f404e2": {
          "model_module": "@jupyter-widgets/base",
          "model_name": "LayoutModel",
          "model_module_version": "1.2.0",
          "state": {
            "_model_module": "@jupyter-widgets/base",
            "_model_module_version": "1.2.0",
            "_model_name": "LayoutModel",
            "_view_count": null,
            "_view_module": "@jupyter-widgets/base",
            "_view_module_version": "1.2.0",
            "_view_name": "LayoutView",
            "align_content": null,
            "align_items": null,
            "align_self": null,
            "border": null,
            "bottom": null,
            "display": null,
            "flex": null,
            "flex_flow": null,
            "grid_area": null,
            "grid_auto_columns": null,
            "grid_auto_flow": null,
            "grid_auto_rows": null,
            "grid_column": null,
            "grid_gap": null,
            "grid_row": null,
            "grid_template_areas": null,
            "grid_template_columns": null,
            "grid_template_rows": null,
            "height": null,
            "justify_content": null,
            "justify_items": null,
            "left": null,
            "margin": null,
            "max_height": null,
            "max_width": null,
            "min_height": null,
            "min_width": null,
            "object_fit": null,
            "object_position": null,
            "order": null,
            "overflow": null,
            "overflow_x": null,
            "overflow_y": null,
            "padding": null,
            "right": null,
            "top": null,
            "visibility": null,
            "width": null
          }
        },
        "4710bcc2e6d740bba9bc6fb4012586af": {
          "model_module": "@jupyter-widgets/controls",
          "model_name": "ProgressStyleModel",
          "model_module_version": "1.5.0",
          "state": {
            "_model_module": "@jupyter-widgets/controls",
            "_model_module_version": "1.5.0",
            "_model_name": "ProgressStyleModel",
            "_view_count": null,
            "_view_module": "@jupyter-widgets/base",
            "_view_module_version": "1.2.0",
            "_view_name": "StyleView",
            "bar_color": null,
            "description_width": ""
          }
        },
        "5a4ce46e07824b07bbfe3c14625c415b": {
          "model_module": "@jupyter-widgets/base",
          "model_name": "LayoutModel",
          "model_module_version": "1.2.0",
          "state": {
            "_model_module": "@jupyter-widgets/base",
            "_model_module_version": "1.2.0",
            "_model_name": "LayoutModel",
            "_view_count": null,
            "_view_module": "@jupyter-widgets/base",
            "_view_module_version": "1.2.0",
            "_view_name": "LayoutView",
            "align_content": null,
            "align_items": null,
            "align_self": null,
            "border": null,
            "bottom": null,
            "display": null,
            "flex": null,
            "flex_flow": null,
            "grid_area": null,
            "grid_auto_columns": null,
            "grid_auto_flow": null,
            "grid_auto_rows": null,
            "grid_column": null,
            "grid_gap": null,
            "grid_row": null,
            "grid_template_areas": null,
            "grid_template_columns": null,
            "grid_template_rows": null,
            "height": null,
            "justify_content": null,
            "justify_items": null,
            "left": null,
            "margin": null,
            "max_height": null,
            "max_width": null,
            "min_height": null,
            "min_width": null,
            "object_fit": null,
            "object_position": null,
            "order": null,
            "overflow": null,
            "overflow_x": null,
            "overflow_y": null,
            "padding": null,
            "right": null,
            "top": null,
            "visibility": null,
            "width": null
          }
        },
        "e6ad34470efb4b9cb3b39530d666b4f1": {
          "model_module": "@jupyter-widgets/controls",
          "model_name": "DescriptionStyleModel",
          "model_module_version": "1.5.0",
          "state": {
            "_model_module": "@jupyter-widgets/controls",
            "_model_module_version": "1.5.0",
            "_model_name": "DescriptionStyleModel",
            "_view_count": null,
            "_view_module": "@jupyter-widgets/base",
            "_view_module_version": "1.2.0",
            "_view_name": "StyleView",
            "description_width": ""
          }
        },
        "d3320faa038f4f26afccd6f0a689b0ed": {
          "model_module": "@jupyter-widgets/controls",
          "model_name": "HBoxModel",
          "model_module_version": "1.5.0",
          "state": {
            "_dom_classes": [],
            "_model_module": "@jupyter-widgets/controls",
            "_model_module_version": "1.5.0",
            "_model_name": "HBoxModel",
            "_view_count": null,
            "_view_module": "@jupyter-widgets/controls",
            "_view_module_version": "1.5.0",
            "_view_name": "HBoxView",
            "box_style": "",
            "children": [
              "IPY_MODEL_b93044abbced48b9bb23efd6ac39a1cd",
              "IPY_MODEL_6d192a4cb35c485cac50a7ea163cf75b",
              "IPY_MODEL_3dd7d7dc6dd4490e9edef753d065a8ba"
            ],
            "layout": "IPY_MODEL_57a88aa8141a415695c7728074477336"
          }
        },
        "b93044abbced48b9bb23efd6ac39a1cd": {
          "model_module": "@jupyter-widgets/controls",
          "model_name": "HTMLModel",
          "model_module_version": "1.5.0",
          "state": {
            "_dom_classes": [],
            "_model_module": "@jupyter-widgets/controls",
            "_model_module_version": "1.5.0",
            "_model_name": "HTMLModel",
            "_view_count": null,
            "_view_module": "@jupyter-widgets/controls",
            "_view_module_version": "1.5.0",
            "_view_name": "HTMLView",
            "description": "",
            "description_tooltip": null,
            "layout": "IPY_MODEL_d211f89598b1441f8081d0ab3f0969cc",
            "placeholder": "​",
            "style": "IPY_MODEL_81dde360b5f8470e9f10928d8d60b78c",
            "value": "Batches: 100%"
          }
        },
        "6d192a4cb35c485cac50a7ea163cf75b": {
          "model_module": "@jupyter-widgets/controls",
          "model_name": "FloatProgressModel",
          "model_module_version": "1.5.0",
          "state": {
            "_dom_classes": [],
            "_model_module": "@jupyter-widgets/controls",
            "_model_module_version": "1.5.0",
            "_model_name": "FloatProgressModel",
            "_view_count": null,
            "_view_module": "@jupyter-widgets/controls",
            "_view_module_version": "1.5.0",
            "_view_name": "ProgressView",
            "bar_style": "success",
            "description": "",
            "description_tooltip": null,
            "layout": "IPY_MODEL_e46b0124307d48419cc0a411528a8210",
            "max": 3,
            "min": 0,
            "orientation": "horizontal",
            "style": "IPY_MODEL_028a865c5ab44890965905ffd74a13c6",
            "value": 3
          }
        },
        "3dd7d7dc6dd4490e9edef753d065a8ba": {
          "model_module": "@jupyter-widgets/controls",
          "model_name": "HTMLModel",
          "model_module_version": "1.5.0",
          "state": {
            "_dom_classes": [],
            "_model_module": "@jupyter-widgets/controls",
            "_model_module_version": "1.5.0",
            "_model_name": "HTMLModel",
            "_view_count": null,
            "_view_module": "@jupyter-widgets/controls",
            "_view_module_version": "1.5.0",
            "_view_name": "HTMLView",
            "description": "",
            "description_tooltip": null,
            "layout": "IPY_MODEL_e73e73f52e46412fabad886073cc9ccf",
            "placeholder": "​",
            "style": "IPY_MODEL_6b1c9d92c0ac41188742c152c19d50f0",
            "value": " 3/3 [00:04&lt;00:00,  1.16s/it]"
          }
        },
        "57a88aa8141a415695c7728074477336": {
          "model_module": "@jupyter-widgets/base",
          "model_name": "LayoutModel",
          "model_module_version": "1.2.0",
          "state": {
            "_model_module": "@jupyter-widgets/base",
            "_model_module_version": "1.2.0",
            "_model_name": "LayoutModel",
            "_view_count": null,
            "_view_module": "@jupyter-widgets/base",
            "_view_module_version": "1.2.0",
            "_view_name": "LayoutView",
            "align_content": null,
            "align_items": null,
            "align_self": null,
            "border": null,
            "bottom": null,
            "display": null,
            "flex": null,
            "flex_flow": null,
            "grid_area": null,
            "grid_auto_columns": null,
            "grid_auto_flow": null,
            "grid_auto_rows": null,
            "grid_column": null,
            "grid_gap": null,
            "grid_row": null,
            "grid_template_areas": null,
            "grid_template_columns": null,
            "grid_template_rows": null,
            "height": null,
            "justify_content": null,
            "justify_items": null,
            "left": null,
            "margin": null,
            "max_height": null,
            "max_width": null,
            "min_height": null,
            "min_width": null,
            "object_fit": null,
            "object_position": null,
            "order": null,
            "overflow": null,
            "overflow_x": null,
            "overflow_y": null,
            "padding": null,
            "right": null,
            "top": null,
            "visibility": null,
            "width": null
          }
        },
        "d211f89598b1441f8081d0ab3f0969cc": {
          "model_module": "@jupyter-widgets/base",
          "model_name": "LayoutModel",
          "model_module_version": "1.2.0",
          "state": {
            "_model_module": "@jupyter-widgets/base",
            "_model_module_version": "1.2.0",
            "_model_name": "LayoutModel",
            "_view_count": null,
            "_view_module": "@jupyter-widgets/base",
            "_view_module_version": "1.2.0",
            "_view_name": "LayoutView",
            "align_content": null,
            "align_items": null,
            "align_self": null,
            "border": null,
            "bottom": null,
            "display": null,
            "flex": null,
            "flex_flow": null,
            "grid_area": null,
            "grid_auto_columns": null,
            "grid_auto_flow": null,
            "grid_auto_rows": null,
            "grid_column": null,
            "grid_gap": null,
            "grid_row": null,
            "grid_template_areas": null,
            "grid_template_columns": null,
            "grid_template_rows": null,
            "height": null,
            "justify_content": null,
            "justify_items": null,
            "left": null,
            "margin": null,
            "max_height": null,
            "max_width": null,
            "min_height": null,
            "min_width": null,
            "object_fit": null,
            "object_position": null,
            "order": null,
            "overflow": null,
            "overflow_x": null,
            "overflow_y": null,
            "padding": null,
            "right": null,
            "top": null,
            "visibility": null,
            "width": null
          }
        },
        "81dde360b5f8470e9f10928d8d60b78c": {
          "model_module": "@jupyter-widgets/controls",
          "model_name": "DescriptionStyleModel",
          "model_module_version": "1.5.0",
          "state": {
            "_model_module": "@jupyter-widgets/controls",
            "_model_module_version": "1.5.0",
            "_model_name": "DescriptionStyleModel",
            "_view_count": null,
            "_view_module": "@jupyter-widgets/base",
            "_view_module_version": "1.2.0",
            "_view_name": "StyleView",
            "description_width": ""
          }
        },
        "e46b0124307d48419cc0a411528a8210": {
          "model_module": "@jupyter-widgets/base",
          "model_name": "LayoutModel",
          "model_module_version": "1.2.0",
          "state": {
            "_model_module": "@jupyter-widgets/base",
            "_model_module_version": "1.2.0",
            "_model_name": "LayoutModel",
            "_view_count": null,
            "_view_module": "@jupyter-widgets/base",
            "_view_module_version": "1.2.0",
            "_view_name": "LayoutView",
            "align_content": null,
            "align_items": null,
            "align_self": null,
            "border": null,
            "bottom": null,
            "display": null,
            "flex": null,
            "flex_flow": null,
            "grid_area": null,
            "grid_auto_columns": null,
            "grid_auto_flow": null,
            "grid_auto_rows": null,
            "grid_column": null,
            "grid_gap": null,
            "grid_row": null,
            "grid_template_areas": null,
            "grid_template_columns": null,
            "grid_template_rows": null,
            "height": null,
            "justify_content": null,
            "justify_items": null,
            "left": null,
            "margin": null,
            "max_height": null,
            "max_width": null,
            "min_height": null,
            "min_width": null,
            "object_fit": null,
            "object_position": null,
            "order": null,
            "overflow": null,
            "overflow_x": null,
            "overflow_y": null,
            "padding": null,
            "right": null,
            "top": null,
            "visibility": null,
            "width": null
          }
        },
        "028a865c5ab44890965905ffd74a13c6": {
          "model_module": "@jupyter-widgets/controls",
          "model_name": "ProgressStyleModel",
          "model_module_version": "1.5.0",
          "state": {
            "_model_module": "@jupyter-widgets/controls",
            "_model_module_version": "1.5.0",
            "_model_name": "ProgressStyleModel",
            "_view_count": null,
            "_view_module": "@jupyter-widgets/base",
            "_view_module_version": "1.2.0",
            "_view_name": "StyleView",
            "bar_color": null,
            "description_width": ""
          }
        },
        "e73e73f52e46412fabad886073cc9ccf": {
          "model_module": "@jupyter-widgets/base",
          "model_name": "LayoutModel",
          "model_module_version": "1.2.0",
          "state": {
            "_model_module": "@jupyter-widgets/base",
            "_model_module_version": "1.2.0",
            "_model_name": "LayoutModel",
            "_view_count": null,
            "_view_module": "@jupyter-widgets/base",
            "_view_module_version": "1.2.0",
            "_view_name": "LayoutView",
            "align_content": null,
            "align_items": null,
            "align_self": null,
            "border": null,
            "bottom": null,
            "display": null,
            "flex": null,
            "flex_flow": null,
            "grid_area": null,
            "grid_auto_columns": null,
            "grid_auto_flow": null,
            "grid_auto_rows": null,
            "grid_column": null,
            "grid_gap": null,
            "grid_row": null,
            "grid_template_areas": null,
            "grid_template_columns": null,
            "grid_template_rows": null,
            "height": null,
            "justify_content": null,
            "justify_items": null,
            "left": null,
            "margin": null,
            "max_height": null,
            "max_width": null,
            "min_height": null,
            "min_width": null,
            "object_fit": null,
            "object_position": null,
            "order": null,
            "overflow": null,
            "overflow_x": null,
            "overflow_y": null,
            "padding": null,
            "right": null,
            "top": null,
            "visibility": null,
            "width": null
          }
        },
        "6b1c9d92c0ac41188742c152c19d50f0": {
          "model_module": "@jupyter-widgets/controls",
          "model_name": "DescriptionStyleModel",
          "model_module_version": "1.5.0",
          "state": {
            "_model_module": "@jupyter-widgets/controls",
            "_model_module_version": "1.5.0",
            "_model_name": "DescriptionStyleModel",
            "_view_count": null,
            "_view_module": "@jupyter-widgets/base",
            "_view_module_version": "1.2.0",
            "_view_name": "StyleView",
            "description_width": ""
          }
        }
      }
    }
  },
  "nbformat": 4,
  "nbformat_minor": 0
}